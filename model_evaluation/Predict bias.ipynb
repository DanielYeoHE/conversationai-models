{
 "cells": [
  {
   "cell_type": "code",
   "execution_count": 54,
   "metadata": {},
   "outputs": [],
   "source": [
    "import tensorflow as tf\n",
    "from tensorflow.contrib.framework.python.framework import checkpoint_utils\n",
    "\n",
    "from sklearn.metrics.pairwise import cosine_similarity\n",
    "from sklearn.preprocessing import normalize\n",
    "import numpy as np"
   ]
  },
  {
   "cell_type": "code",
   "execution_count": 20,
   "metadata": {},
   "outputs": [],
   "source": [
    "MODEL_DIR_OCCUPATION = 'gs://conversationai-models/tf_trainer_runs/fprost/tf_gru_attention_multiclass_biosbias_glove/20190328_103117/model_dir/model.ckpt-100000'\n",
    "MODEL_DIR_GENDER = 'gs://conversationai-models/tf_trainer_runs/fprost/tf_gru_attention_multiclass_warmstart_biosbias_glove/20190404_151521/model_dir/model.ckpt-191000'\n"
   ]
  },
  {
   "cell_type": "markdown",
   "metadata": {},
   "source": [
    "# Extract two matrices."
   ]
  },
  {
   "cell_type": "code",
   "execution_count": 23,
   "metadata": {},
   "outputs": [
    {
     "name": "stdout",
     "output_type": "stream",
     "text": [
      "('dense/bias', [1])\n",
      "('dense/bias/Adam', [1])\n",
      "('dense/bias/Adam_1', [1])\n",
      "('dense/kernel', [256, 1])\n",
      "('dense/kernel/Adam', [256, 1])\n",
      "('dense/kernel/Adam_1', [256, 1])\n",
      "('dense_1/bias', [128])\n",
      "('dense_1/bias/Adam', [128])\n",
      "('dense_1/bias/Adam_1', [128])\n",
      "('dense_1/kernel', [256, 128])\n",
      "('dense_1/kernel/Adam', [256, 128])\n",
      "('dense_1/kernel/Adam_1', [256, 128])\n",
      "('dense_2/bias', [33])\n",
      "('dense_2/bias/Adam', [33])\n",
      "('dense_2/bias/Adam_1', [33])\n",
      "('dense_2/kernel', [128, 33])\n",
      "('dense_2/kernel/Adam', [128, 33])\n",
      "('dense_2/kernel/Adam_1', [128, 33])\n",
      "('embeddings', [400002, 100])\n",
      "('global_step', [])\n",
      "('rnn/multi_rnn_cell/cell_0/gru_cell/candidate/bias', [256])\n",
      "('rnn/multi_rnn_cell/cell_0/gru_cell/candidate/bias/Adam', [256])\n",
      "('rnn/multi_rnn_cell/cell_0/gru_cell/candidate/bias/Adam_1', [256])\n",
      "('rnn/multi_rnn_cell/cell_0/gru_cell/candidate/kernel', [356, 256])\n",
      "('rnn/multi_rnn_cell/cell_0/gru_cell/candidate/kernel/Adam', [356, 256])\n",
      "('rnn/multi_rnn_cell/cell_0/gru_cell/candidate/kernel/Adam_1', [356, 256])\n",
      "('rnn/multi_rnn_cell/cell_0/gru_cell/gates/bias', [512])\n",
      "('rnn/multi_rnn_cell/cell_0/gru_cell/gates/bias/Adam', [512])\n",
      "('rnn/multi_rnn_cell/cell_0/gru_cell/gates/bias/Adam_1', [512])\n",
      "('rnn/multi_rnn_cell/cell_0/gru_cell/gates/kernel', [356, 512])\n",
      "('rnn/multi_rnn_cell/cell_0/gru_cell/gates/kernel/Adam', [356, 512])\n",
      "('rnn/multi_rnn_cell/cell_0/gru_cell/gates/kernel/Adam_1', [356, 512])\n",
      "('signal_early_stopping/STOP', [])\n",
      "('title/beta1_power', [])\n",
      "('title/beta2_power', [])\n"
     ]
    }
   ],
   "source": [
    "var_list = checkpoint_utils.list_variables(MODEL_DIR_OCCUPATION)\n",
    "for v in var_list:\n",
    "    print(v)"
   ]
  },
  {
   "cell_type": "code",
   "execution_count": 99,
   "metadata": {},
   "outputs": [],
   "source": [
    "kernel_occupation = np.transpose(checkpoint_utils.load_variable(MODEL_DIR_OCCUPATION, 'dense_2/kernel'))"
   ]
  },
  {
   "cell_type": "code",
   "execution_count": 100,
   "metadata": {},
   "outputs": [
    {
     "name": "stdout",
     "output_type": "stream",
     "text": [
      "('beta1_power', [])\n",
      "('beta2_power', [])\n",
      "('dense/bias', [1])\n",
      "('dense/kernel', [256, 1])\n",
      "('dense_1/bias', [128])\n",
      "('dense_1/kernel', [256, 128])\n",
      "('embeddings', [400002, 100])\n",
      "('final_layer/bias', [33])\n",
      "('final_layer/bias/Adam', [33])\n",
      "('final_layer/bias/Adam_1', [33])\n",
      "('final_layer/kernel', [128, 33])\n",
      "('final_layer/kernel/Adam', [128, 33])\n",
      "('final_layer/kernel/Adam_1', [128, 33])\n",
      "('global_step', [])\n",
      "('rnn/multi_rnn_cell/cell_0/gru_cell/candidate/bias', [256])\n",
      "('rnn/multi_rnn_cell/cell_0/gru_cell/candidate/kernel', [356, 256])\n",
      "('rnn/multi_rnn_cell/cell_0/gru_cell/gates/bias', [512])\n",
      "('rnn/multi_rnn_cell/cell_0/gru_cell/gates/kernel', [356, 512])\n",
      "('signal_early_stopping/STOP', [])\n"
     ]
    }
   ],
   "source": [
    "var_list = checkpoint_utils.list_variables(MODEL_DIR_GENDER)\n",
    "for v in var_list:\n",
    "    print(v)"
   ]
  },
  {
   "cell_type": "code",
   "execution_count": 101,
   "metadata": {},
   "outputs": [],
   "source": [
    "kernel_gender = np.transpose(checkpoint_utils.load_variable(MODEL_DIR_GENDER, 'final_layer/kernel'))"
   ]
  },
  {
   "cell_type": "markdown",
   "metadata": {},
   "source": [
    "# Compute cosinus."
   ]
  },
  {
   "cell_type": "code",
   "execution_count": 102,
   "metadata": {},
   "outputs": [],
   "source": [
    "TITLE_LABELS = [\n",
    "    'accountant', 'acupuncturist', 'architect', 'attorney', 'chiropractor', 'comedian', 'composer', 'dentist',\n",
    "    'dietitian', 'dj', 'filmmaker', 'interior_designer', 'journalist', 'landscape_architect', 'magician',\n",
    "    'massage_therapist', 'model', 'nurse', 'painter', 'paralegal', 'pastor', 'personal_trainer',\n",
    "    'photographer', 'physician', 'poet', 'professor', 'psychologist', 'rapper',\n",
    "    'real_estate_broker', 'software_engineer', 'surgeon', 'teacher', 'yoga_teacher']"
   ]
  },
  {
   "cell_type": "code",
   "execution_count": 103,
   "metadata": {},
   "outputs": [
    {
     "data": {
      "text/plain": [
       "(33, 128)"
      ]
     },
     "execution_count": 103,
     "metadata": {},
     "output_type": "execute_result"
    }
   ],
   "source": [
    "kernel_gender.shape"
   ]
  },
  {
   "cell_type": "code",
   "execution_count": 104,
   "metadata": {},
   "outputs": [],
   "source": [
    "kernel_gender_female = normalize(kernel_gender[0].reshape(1, -1))\n",
    "kernel_gender_male = normalize(kernel_gender[1].reshape(1, -1))"
   ]
  },
  {
   "cell_type": "code",
   "execution_count": 105,
   "metadata": {},
   "outputs": [
    {
     "data": {
      "text/plain": [
       "array([[ 0.01618018,  0.1003583 , -0.0723118 ,  0.06453013,  0.22758739,\n",
       "         0.06790616,  0.08027411,  0.10015733, -0.05590729,  0.023418  ,\n",
       "         0.06255525, -0.02604564,  0.09049062, -0.01601316,  0.08945937,\n",
       "        -0.11582728,  0.06244883,  0.07855629,  0.01956639, -0.06774757,\n",
       "         0.00614625, -0.03594974,  0.0652191 , -0.05078628, -0.00807877,\n",
       "         0.06896302,  0.11013658, -0.04664179,  0.11593511,  0.17774113,\n",
       "         0.09496382,  0.12176205,  0.04098931, -0.0970282 ,  0.02898299,\n",
       "         0.10654851, -0.13562816,  0.03486229,  0.12194955,  0.02276845,\n",
       "         0.04589143, -0.06606348, -0.00129113, -0.07973252, -0.02630814,\n",
       "        -0.09769032, -0.1640446 , -0.07602697,  0.00429134,  0.06098389,\n",
       "         0.02934178, -0.07209212, -0.11304612,  0.29547158, -0.04287611,\n",
       "        -0.04518875, -0.02993831,  0.06304532,  0.07989506, -0.09601919,\n",
       "         0.20816126, -0.1977993 ,  0.15119584,  0.01456547,  0.06435941,\n",
       "        -0.07794361, -0.00554093,  0.05497926,  0.0931736 ,  0.22706528,\n",
       "        -0.08019326, -0.0819607 ,  0.04490028, -0.01723337,  0.04124108,\n",
       "         0.13199665, -0.01417105,  0.0725795 , -0.05172402, -0.13563272,\n",
       "        -0.07302421,  0.24843292,  0.14667384, -0.02692026,  0.15892392,\n",
       "         0.02655477, -0.00804625,  0.00184608,  0.02203059,  0.00078905,\n",
       "         0.0115315 ,  0.00199543,  0.05942026,  0.07089076, -0.04697848,\n",
       "        -0.01500242, -0.02432874, -0.02453819, -0.13443194, -0.00370577,\n",
       "        -0.03219581, -0.07874984, -0.05446392,  0.05492223, -0.11461313,\n",
       "        -0.00379655,  0.01339969, -0.01030909,  0.0601744 ,  0.00417376,\n",
       "        -0.02308951, -0.1329045 , -0.00130105,  0.0959954 ,  0.03397062,\n",
       "         0.11269465,  0.00561908,  0.00870924,  0.0339431 ,  0.01517005,\n",
       "        -0.05439634, -0.02544309, -0.13284749,  0.04113958,  0.03033615,\n",
       "        -0.08890872, -0.09986325, -0.09274729]], dtype=float32)"
      ]
     },
     "execution_count": 105,
     "metadata": {},
     "output_type": "execute_result"
    }
   ],
   "source": [
    "kernel_gender_male"
   ]
  },
  {
   "cell_type": "code",
   "execution_count": 106,
   "metadata": {},
   "outputs": [],
   "source": [
    "kernel_gender_mean = normalize((kernel_gender_female + kernel_gender_male) / 2)\n",
    "direction_male = kernel_gender_male - np.sum(np.multiply(kernel_gender_male, kernel_gender_mean))* kernel_gender_mean\n",
    "direction_female = kernel_gender_female - np.sum(np.multiply(kernel_gender_female, kernel_gender_mean))* kernel_gender_mean"
   ]
  },
  {
   "cell_type": "code",
   "execution_count": 107,
   "metadata": {},
   "outputs": [
    {
     "data": {
      "text/plain": [
       "array([[-1.]], dtype=float32)"
      ]
     },
     "execution_count": 107,
     "metadata": {},
     "output_type": "execute_result"
    }
   ],
   "source": [
    "cosine_similarity(direction_female, direction_male)"
   ]
  },
  {
   "cell_type": "code",
   "execution_count": 114,
   "metadata": {},
   "outputs": [],
   "source": [
    "# Compute mean\n",
    "kernel_occupation_mean = np.mean(kernel_occupation, axis=0)\n",
    "# Apply  x - np.sum(np.multiply(x, mean))* mean"
   ]
  },
  {
   "cell_type": "code",
   "execution_count": 119,
   "metadata": {},
   "outputs": [
    {
     "name": "stdout",
     "output_type": "stream",
     "text": [
      "accountant:-0.166758477688\n",
      "acupuncturist:0.0150433778763\n",
      "architect:-0.106728702784\n",
      "attorney:-0.0355984941125\n",
      "chiropractor:-0.112065583467\n",
      "comedian:-0.17996160686\n",
      "composer:-0.154989466071\n",
      "dentist:-0.00389941781759\n",
      "dietitian:0.00302037596703\n",
      "dj:-0.156128510833\n",
      "filmmaker:-0.116180986166\n",
      "interior_designer:-0.00478803366423\n",
      "journalist:-0.0217301938683\n",
      "landscape_architect:-0.00763043016195\n",
      "magician:-0.00733107328415\n",
      "massage_therapist:-0.0116159021854\n",
      "model:0.0549785941839\n",
      "nurse:0.099561393261\n",
      "painter:0.0174702480435\n",
      "paralegal:0.0106164813042\n",
      "pastor:-0.161623597145\n",
      "personal_trainer:-0.133440434933\n",
      "photographer:-0.0985902026296\n",
      "physician:-0.00131351128221\n",
      "poet:-0.061441861093\n",
      "professor:0.00782079994678\n",
      "psychologist:0.00208866596222\n",
      "rapper:-0.112389668822\n",
      "real_estate_broker:-0.000683411955833\n",
      "software_engineer:-0.0237298682332\n",
      "surgeon:-0.0968104675412\n",
      "teacher:-0.0625882595778\n",
      "yoga_teacher:0.0292760580778\n"
     ]
    }
   ],
   "source": [
    "for i in range(33):\n",
    "#     _bias = np.abs(cosine_similarity(kernel_gender_female, kernel_occupation[i].reshape(1, -1))) + \\\n",
    "#                   np.abs(cosine_similarity(kernel_gender_male, kernel_occupation[i].reshape(1, -1)))\n",
    "\n",
    "    _bias = (cosine_similarity(kernel_gender_female - kernel_gender_male, kernel_occupation[i].reshape(1, -1)))\n",
    "\n",
    "#     _bias = cosine_similarity(direction_male, kernel_occupation[i].reshape(1, -1))\n",
    "\n",
    "#     x = kernel_occupation[i].reshape(1, -1)\n",
    "#     x = x - np.sum(np.multiply(x, kernel_occupation_mean))* kernel_occupation_mean\n",
    "#     _bias = cosine_similarity(direction_male, x)\n",
    "\n",
    "    print ('{}:{}'.format(TITLE_LABELS[i], float(_bias)))"
   ]
  },
  {
   "cell_type": "code",
   "execution_count": null,
   "metadata": {},
   "outputs": [],
   "source": []
  }
 ],
 "metadata": {
  "kernelspec": {
   "display_name": "Python 2",
   "language": "python",
   "name": "python2"
  },
  "language_info": {
   "codemirror_mode": {
    "name": "ipython",
    "version": 2
   },
   "file_extension": ".py",
   "mimetype": "text/x-python",
   "name": "python",
   "nbconvert_exporter": "python",
   "pygments_lexer": "ipython2",
   "version": "2.7.14+"
  }
 },
 "nbformat": 4,
 "nbformat_minor": 2
}
