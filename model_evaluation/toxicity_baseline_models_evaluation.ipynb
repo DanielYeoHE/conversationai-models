{
 "cells": [
  {
   "cell_type": "code",
   "execution_count": 1,
   "metadata": {},
   "outputs": [],
   "source": [
    "%load_ext autoreload"
   ]
  },
  {
   "cell_type": "code",
   "execution_count": 2,
   "metadata": {},
   "outputs": [],
   "source": [
    "%autoreload 2"
   ]
  },
  {
   "cell_type": "code",
   "execution_count": 3,
   "metadata": {},
   "outputs": [],
   "source": [
    "from __future__ import absolute_import\n",
    "from __future__ import division\n",
    "from __future__ import print_function\n",
    "\n",
    "import getpass\n",
    "from IPython.display import display\n",
    "import json\n",
    "import nltk\n",
    "import numpy as np\n",
    "import pandas as pd\n",
    "import pkg_resources\n",
    "import os\n",
    "import random\n",
    "import re\n",
    "import seaborn as sns\n",
    "import sklearn.metrics as metrics\n",
    "\n",
    "import tensorflow as tf\n",
    "from tensorflow.python.lib.io import file_io"
   ]
  },
  {
   "cell_type": "code",
   "execution_count": 4,
   "metadata": {},
   "outputs": [],
   "source": [
    "from utils_export.dataset import Dataset, Model\n",
    "from utils_export import utils_cloudml\n",
    "from utils_export import utils_tfrecords"
   ]
  },
  {
   "cell_type": "code",
   "execution_count": 5,
   "metadata": {},
   "outputs": [],
   "source": [
    "# Faster to access GCS file:\n",
    "# https://github.com/tensorflow/tensorflow/issues/15530\n",
    "os.environ['GCS_READ_CACHE_MAX_SIZE_MB'] = '0'"
   ]
  },
  {
   "cell_type": "code",
   "execution_count": 6,
   "metadata": {},
   "outputs": [
    {
     "name": "stdout",
     "output_type": "stream",
     "text": [
      "[nltk_data] Downloading package punkt to\n",
      "[nltk_data]     /usr/local/google/home/msushkov/nltk_data...\n",
      "[nltk_data]   Package punkt is already up-to-date!\n"
     ]
    },
    {
     "data": {
      "text/plain": [
       "True"
      ]
     },
     "execution_count": 6,
     "metadata": {},
     "output_type": "execute_result"
    }
   ],
   "source": [
    "nltk.download('punkt')"
   ]
  },
  {
   "cell_type": "code",
   "execution_count": 7,
   "metadata": {},
   "outputs": [],
   "source": [
    "def tokenizer(text, lowercase=True):\n",
    "  \"\"\"Converts text to a list of words.\n",
    "\n",
    "  Args:\n",
    "    text: piece of text to tokenize (string).\n",
    "    lowercase: whether to include lowercasing in preprocessing (bool).\n",
    "\n",
    "  Returns:\n",
    "    A list of strings (words).\n",
    "  \"\"\"\n",
    "  words = nltk.word_tokenize(text.decode('utf-8'))\n",
    "  if lowercase:\n",
    "    words = [w.lower() for w in words]\n",
    "  return words"
   ]
  },
  {
   "cell_type": "code",
   "execution_count": 8,
   "metadata": {},
   "outputs": [],
   "source": [
    "def make_test_input_fn(dataset_path,\n",
    "                       model_text_feature,\n",
    "                       dataset_text_feature,\n",
    "                       data_label,\n",
    "                       tokenizer_fn,\n",
    "                       label_data_type=tf.float32,\n",
    "                       max_n_examples=None,\n",
    "                       random_filter_keep_rate=1.0):\n",
    "    \"\"\"Returns a test input function.\n",
    "    \n",
    "    Args:\n",
    "      dataset_path (str): Path to dataset.\n",
    "      model_text_feature (str): The feature column corresponding to the\n",
    "        text input the model expects.\n",
    "      dataset_text_feature (str): The name of the text feature of the dataset.\n",
    "      data_label (str): The output label for the dataset.\n",
    "      tokenizer_fn: Tokenizer function (str -> list).\n",
    "      max_n_examples (int): How many examples to evaluate on.\n",
    "      random_filter_keep_rate (float): Filter out test examples with this probability.\n",
    "\n",
    "    Returns:\n",
    "      Test input function.\n",
    "    \"\"\"\n",
    "    decoding_input_features = {\n",
    "      dataset_text_feature: tf.FixedLenFeature([], dtype=tf.string),\n",
    "      data_label: tf.FixedLenFeature([], dtype=label_data_type)\n",
    "    }\n",
    "\n",
    "    def test_input_fn(max_n_examples=max_n_examples,\n",
    "                      random_filter_keep_rate=random_filter_keep_rate):\n",
    "        \"\"\"Test input function.\n",
    "        \n",
    "        Args:\n",
    "          max_n_examples (int): How many examples to evaluate on.\n",
    "          random_filter_keep_rate (float): Filter out test examples with this probability.\n",
    "          \n",
    "        Returns:\n",
    "          DataFrame with the results.\n",
    "        \"\"\"\n",
    "        res = utils_tfrecords.decode_tf_records_to_pandas(\n",
    "            decoding_input_features,\n",
    "            dataset_path,\n",
    "            max_n_examples,\n",
    "            random_filter_keep_rate)\n",
    "        if not tokenizer_fn:\n",
    "            tok = lambda x: [x]\n",
    "            res[model_text_feature] = list(map(tok, res[dataset_text_feature]))\n",
    "        else:\n",
    "            res[model_text_feature] = list(map(tokenizer_fn, res[dataset_text_feature]))\n",
    "        res = res.rename(columns={ data_label: 'label' })\n",
    "        res['label'] = list(map(lambda x: bool(round(x)), list(res['label'])))\n",
    "        final = res.copy(deep=True)\n",
    "        return final\n",
    "\n",
    "    return test_input_fn"
   ]
  },
  {
   "cell_type": "code",
   "execution_count": 23,
   "metadata": {},
   "outputs": [],
   "source": [
    "def print_results(results_df, model_names):\n",
    "    \"\"\"Print the classification results.\n",
    "    \n",
    "    Args:\n",
    "      results_df: DataFrame with the results.\n",
    "      model_names: List of strings representing the models for which we have results.\n",
    "    \"\"\"\n",
    "    labels = results_df['label']\n",
    "    for _model in model_names:\n",
    "        print(_model)\n",
    "        model_preds = results_df[_model]\n",
    "        fpr, tpr, thresholds = metrics.roc_curve(labels, model_preds)\n",
    "        roc_auc = metrics.auc(fpr, tpr)\n",
    "        recalls, precisions, thr = metrics.precision_recall_curve(labels, model_preds)\n",
    "        pr_auc = metrics.auc(precisions, recalls)\n",
    "        model_preds_binary = (model_preds > 0.5).astype(np.int_)\n",
    "        f1 = metrics.f1_score(labels, model_preds_binary)\n",
    "        print('\\tROC AUC: {}'.format(roc_auc))\n",
    "        print('\\tPR AUC: {}'.format(pr_auc))\n",
    "        print('\\tF1: {}'.format(f1))"
   ]
  },
  {
   "cell_type": "code",
   "execution_count": 10,
   "metadata": {},
   "outputs": [],
   "source": [
    "PROJECT_NAME = 'conversationai-models'\n",
    "SENTENCE_KEY = 'comment_key' #Input key\n",
    "\n",
    "# Pattern for path of tf_records\n",
    "OUTPUT_DIR_BASE = os.path.join(\n",
    "    'gs://conversationai-models',\n",
    "    getpass.getuser(),\n",
    "    'tfrecords')"
   ]
  },
  {
   "cell_type": "markdown",
   "metadata": {},
   "source": [
    "## Evaluate models on Civil Comments dataset"
   ]
  },
  {
   "cell_type": "code",
   "execution_count": 175,
   "metadata": {},
   "outputs": [],
   "source": [
    "LABEL_NAME_PREDICTION_MODEL = 'toxicity/logistic'\n",
    "DATASET = 'gs://conversationai-models/resources/civil_comments_data/train_eval_test/test-*.tfrecord'\n",
    "DATA_LABEL = 'toxicity'\n",
    "DATASET_TEXT_FEATURE='comment_text'\n",
    "\n",
    "# Pattern for path of tf_records\n",
    "OUTPUT_DIR = os.path.join(OUTPUT_DIR_BASE, 'civil_comments_test')"
   ]
  },
  {
   "cell_type": "markdown",
   "metadata": {},
   "source": [
    "### CNN, GRU Attention Models"
   ]
  },
  {
   "cell_type": "code",
   "execution_count": 140,
   "metadata": {},
   "outputs": [],
   "source": [
    "MODEL_TEXT_FEATURE = 'tokens'\n",
    "MODEL_NAMES = [\n",
    "    'tf_cnn_civil_comments_glove:v_20190219_185541',\n",
    "    'tf_gru_attention_civil_comments_glove:v_20190219_185619',\n",
    "]\n",
    "\n",
    "model_input_spec = {\n",
    "    MODEL_TEXT_FEATURE: utils_tfrecords.EncodingFeatureSpec.LIST_STRING\n",
    "}\n",
    "\n",
    "model = Model(\n",
    "    feature_keys_spec=model_input_spec,\n",
    "    prediction_keys=LABEL_NAME_PREDICTION_MODEL,\n",
    "    example_key=SENTENCE_KEY,\n",
    "    model_names=MODEL_NAMES,\n",
    "    project_name=PROJECT_NAME)\n",
    "\n",
    "test_input_fn = make_test_input_fn(\n",
    "    DATASET, MODEL_TEXT_FEATURE, DATASET_TEXT_FEATURE,\n",
    "    DATA_LABEL, tokenizer)"
   ]
  },
  {
   "cell_type": "code",
   "execution_count": 141,
   "metadata": {},
   "outputs": [
    {
     "name": "stderr",
     "output_type": "stream",
     "text": [
      "/usr/local/google/home/msushkov/code/conversationai-models/model_evaluation/.pyenv/lib/python3.6/site-packages/tensorflow/python/client/session.py:1702: UserWarning: An interactive session is already active. This can cause out-of-memory errors in some cases. You must explicitly call `InteractiveSession.close()` to release resources held by the other session(s).\n",
      "  warnings.warn('An interactive session is already active. This can '\n"
     ]
    },
    {
     "name": "stdout",
     "output_type": "stream",
     "text": [
      "INFO:tensorflow:input_fn is compatible with the `Dataset` class.\n",
      "INFO:tensorflow:Loaded 100000 lines.\n",
      "INFO:tensorflow:Loaded 200000 lines.\n",
      "INFO:tensorflow:End of file.\n"
     ]
    }
   ],
   "source": [
    "# Need to set seed before loading data to be able to reload same data in the future\n",
    "random.seed(2018)\n",
    "\n",
    "test_dataset = Dataset(test_input_fn, OUTPUT_DIR)\n",
    "test_dataset.load_data(10000000)"
   ]
  },
  {
   "cell_type": "code",
   "execution_count": 142,
   "metadata": {},
   "outputs": [
    {
     "name": "stdout",
     "output_type": "stream",
     "text": [
      "INFO:tensorflow:Model is compatible with the `Dataset` instance.\n",
      "INFO:tensorflow:Doing batch 0/0\n",
      "INFO:tensorflow:TF-Records already exist - overwriting them.\n",
      "INFO:tensorflow:Preparing train data: 0/242144\n",
      "INFO:tensorflow:Preparing train data: 10000/242144\n",
      "INFO:tensorflow:Preparing train data: 20000/242144\n",
      "INFO:tensorflow:Preparing train data: 30000/242144\n",
      "INFO:tensorflow:Preparing train data: 40000/242144\n",
      "INFO:tensorflow:Preparing train data: 50000/242144\n",
      "INFO:tensorflow:Preparing train data: 60000/242144\n",
      "INFO:tensorflow:Preparing train data: 70000/242144\n",
      "INFO:tensorflow:Preparing train data: 80000/242144\n",
      "INFO:tensorflow:Preparing train data: 90000/242144\n",
      "INFO:tensorflow:Preparing train data: 100000/242144\n",
      "INFO:tensorflow:Preparing train data: 110000/242144\n",
      "INFO:tensorflow:Preparing train data: 120000/242144\n",
      "INFO:tensorflow:Preparing train data: 130000/242144\n",
      "INFO:tensorflow:Preparing train data: 140000/242144\n",
      "INFO:tensorflow:Preparing train data: 150000/242144\n",
      "INFO:tensorflow:Preparing train data: 160000/242144\n",
      "INFO:tensorflow:Preparing train data: 170000/242144\n",
      "INFO:tensorflow:Preparing train data: 180000/242144\n",
      "INFO:tensorflow:Preparing train data: 190000/242144\n",
      "INFO:tensorflow:Preparing train data: 200000/242144\n",
      "INFO:tensorflow:Preparing train data: 210000/242144\n",
      "INFO:tensorflow:Preparing train data: 220000/242144\n",
      "INFO:tensorflow:Preparing train data: 230000/242144\n",
      "INFO:tensorflow:Preparing train data: 240000/242144\n"
     ]
    },
    {
     "name": "stderr",
     "output_type": "stream",
     "text": [
      "/usr/local/google/home/msushkov/code/conversationai-models/model_evaluation/.pyenv/lib/python3.6/site-packages/google/auth/_default.py:66: UserWarning: Your application has authenticated using end user credentials from Google Cloud SDK. We recommend that most server applications use service accounts instead. If your application continues to use end user credentials from Cloud SDK, you might receive a \"quota exceeded\" or \"API not enabled\" error. For more information about service accounts, see https://cloud.google.com/docs/authentication/\n",
      "  warnings.warn(_CLOUD_SDK_CREDENTIALS_WARNING)\n"
     ]
    },
    {
     "name": "stdout",
     "output_type": "stream",
     "text": [
      "INFO:tensorflow:state : QUEUED\n"
     ]
    },
    {
     "name": "stderr",
     "output_type": "stream",
     "text": [
      "/usr/local/google/home/msushkov/code/conversationai-models/model_evaluation/.pyenv/lib/python3.6/site-packages/google/auth/_default.py:66: UserWarning: Your application has authenticated using end user credentials from Google Cloud SDK. We recommend that most server applications use service accounts instead. If your application continues to use end user credentials from Cloud SDK, you might receive a \"quota exceeded\" or \"API not enabled\" error. For more information about service accounts, see https://cloud.google.com/docs/authentication/\n",
      "  warnings.warn(_CLOUD_SDK_CREDENTIALS_WARNING)\n"
     ]
    },
    {
     "name": "stdout",
     "output_type": "stream",
     "text": [
      "INFO:tensorflow:state : QUEUED\n"
     ]
    },
    {
     "name": "stderr",
     "output_type": "stream",
     "text": [
      "/usr/local/google/home/msushkov/code/conversationai-models/model_evaluation/.pyenv/lib/python3.6/site-packages/google/auth/_default.py:66: UserWarning: Your application has authenticated using end user credentials from Google Cloud SDK. We recommend that most server applications use service accounts instead. If your application continues to use end user credentials from Cloud SDK, you might receive a \"quota exceeded\" or \"API not enabled\" error. For more information about service accounts, see https://cloud.google.com/docs/authentication/\n",
      "  warnings.warn(_CLOUD_SDK_CREDENTIALS_WARNING)\n"
     ]
    },
    {
     "name": "stdout",
     "output_type": "stream",
     "text": [
      "INFO:tensorflow:Waiting for prediction job to complete. Minutes elapsed: 0\n",
      "INFO:tensorflow:Waiting for prediction job to complete. Minutes elapsed: 2\n",
      "INFO:tensorflow:Waiting for prediction job to complete. Minutes elapsed: 5\n",
      "INFO:tensorflow:Waiting for prediction job to complete. Minutes elapsed: 7\n",
      "INFO:tensorflow:Waiting for prediction job to complete. Minutes elapsed: 10\n",
      "INFO:tensorflow:Waiting for prediction job to complete. Minutes elapsed: 12\n",
      "INFO:tensorflow:Waiting for prediction job to complete. Minutes elapsed: 15\n",
      "INFO:tensorflow:Waiting for prediction job to complete. Minutes elapsed: 17\n",
      "INFO:tensorflow:Waiting for prediction job to complete. Minutes elapsed: 20\n",
      "INFO:tensorflow:Waiting for prediction job to complete. Minutes elapsed: 22\n",
      "INFO:tensorflow:Prediction job completed.\n"
     ]
    },
    {
     "name": "stderr",
     "output_type": "stream",
     "text": [
      "/usr/local/google/home/msushkov/code/conversationai-models/model_evaluation/.pyenv/lib/python3.6/site-packages/google/auth/_default.py:66: UserWarning: Your application has authenticated using end user credentials from Google Cloud SDK. We recommend that most server applications use service accounts instead. If your application continues to use end user credentials from Cloud SDK, you might receive a \"quota exceeded\" or \"API not enabled\" error. For more information about service accounts, see https://cloud.google.com/docs/authentication/\n",
      "  warnings.warn(_CLOUD_SDK_CREDENTIALS_WARNING)\n"
     ]
    },
    {
     "name": "stdout",
     "output_type": "stream",
     "text": [
      "INFO:tensorflow:Waiting for prediction job to complete. Minutes elapsed: 0\n",
      "INFO:tensorflow:Prediction job completed.\n"
     ]
    }
   ],
   "source": [
    "# Set recompute_predictions=False to save time if predictions are available.\n",
    "test_dataset.add_model_prediction_to_data(model, recompute_predictions=True)"
   ]
  },
  {
   "cell_type": "code",
   "execution_count": 143,
   "metadata": {},
   "outputs": [],
   "source": [
    "civil_comments_test_df = test_dataset.show_data()"
   ]
  },
  {
   "cell_type": "code",
   "execution_count": 144,
   "metadata": {},
   "outputs": [
    {
     "name": "stdout",
     "output_type": "stream",
     "text": [
      "tf_cnn_civil_comments_glove:v_20190219_185541\n",
      "\tROC AUC: 0.9573435242534393\n",
      "\tPR AUC: 0.6729934425219886\n",
      "tf_gru_attention_civil_comments_glove:v_20190219_185619\n",
      "\tROC AUC: 0.9649161132104584\n",
      "\tPR AUC: 0.7486011745102973\n"
     ]
    }
   ],
   "source": [
    "print_results(civil_comments_test_df, MODEL_NAMES)"
   ]
  },
  {
   "cell_type": "markdown",
   "metadata": {},
   "source": [
    "### TF-Hub Model"
   ]
  },
  {
   "cell_type": "code",
   "execution_count": 189,
   "metadata": {},
   "outputs": [],
   "source": [
    "MODEL_TEXT_FEATURE = 'text'\n",
    "MODEL_NAMES = [\n",
    "    'tf_hub_classifier_civil_comments:v20190322_142141_21201_1553344552',\n",
    "]\n",
    "\n",
    "model_input_spec = {\n",
    "    MODEL_TEXT_FEATURE: utils_tfrecords.EncodingFeatureSpec.LIST_STRING\n",
    "}\n",
    "\n",
    "model = Model(\n",
    "    feature_keys_spec=model_input_spec,\n",
    "    prediction_keys=LABEL_NAME_PREDICTION_MODEL,\n",
    "    example_key=SENTENCE_KEY,\n",
    "    model_names=MODEL_NAMES,\n",
    "    project_name=PROJECT_NAME)\n",
    "\n",
    "test_input_fn = make_test_input_fn(\n",
    "    DATASET, MODEL_TEXT_FEATURE, DATASET_TEXT_FEATURE,\n",
    "    DATA_LABEL, None)"
   ]
  },
  {
   "cell_type": "code",
   "execution_count": 190,
   "metadata": {},
   "outputs": [
    {
     "name": "stdout",
     "output_type": "stream",
     "text": [
      "INFO:tensorflow:input_fn is compatible with the `Dataset` class.\n",
      "INFO:tensorflow:Loaded 100000 lines.\n",
      "INFO:tensorflow:Loaded 200000 lines.\n",
      "INFO:tensorflow:End of file.\n"
     ]
    }
   ],
   "source": [
    "# Need to set seed before loading data to be able to reload same data in the future\n",
    "random.seed(2018)\n",
    "\n",
    "test_dataset = Dataset(test_input_fn, OUTPUT_DIR)\n",
    "test_dataset.load_data(10000000)"
   ]
  },
  {
   "cell_type": "code",
   "execution_count": 192,
   "metadata": {},
   "outputs": [
    {
     "name": "stdout",
     "output_type": "stream",
     "text": [
      "INFO:tensorflow:Model is compatible with the `Dataset` instance.\n",
      "INFO:tensorflow:Doing batch 0/0\n",
      "INFO:tensorflow:TF-Records already exist - overwriting them.\n",
      "INFO:tensorflow:Preparing train data: 0/242144\n",
      "INFO:tensorflow:Preparing train data: 10000/242144\n",
      "INFO:tensorflow:Preparing train data: 20000/242144\n",
      "INFO:tensorflow:Preparing train data: 30000/242144\n",
      "INFO:tensorflow:Preparing train data: 40000/242144\n",
      "INFO:tensorflow:Preparing train data: 50000/242144\n",
      "INFO:tensorflow:Preparing train data: 60000/242144\n",
      "INFO:tensorflow:Preparing train data: 70000/242144\n",
      "INFO:tensorflow:Preparing train data: 80000/242144\n",
      "INFO:tensorflow:Preparing train data: 90000/242144\n",
      "INFO:tensorflow:Preparing train data: 100000/242144\n",
      "INFO:tensorflow:Preparing train data: 110000/242144\n",
      "INFO:tensorflow:Preparing train data: 120000/242144\n",
      "INFO:tensorflow:Preparing train data: 130000/242144\n",
      "INFO:tensorflow:Preparing train data: 140000/242144\n",
      "INFO:tensorflow:Preparing train data: 150000/242144\n",
      "INFO:tensorflow:Preparing train data: 160000/242144\n",
      "INFO:tensorflow:Preparing train data: 170000/242144\n",
      "INFO:tensorflow:Preparing train data: 180000/242144\n",
      "INFO:tensorflow:Preparing train data: 190000/242144\n",
      "INFO:tensorflow:Preparing train data: 200000/242144\n",
      "INFO:tensorflow:Preparing train data: 210000/242144\n",
      "INFO:tensorflow:Preparing train data: 220000/242144\n",
      "INFO:tensorflow:Preparing train data: 230000/242144\n",
      "INFO:tensorflow:Preparing train data: 240000/242144\n"
     ]
    },
    {
     "name": "stderr",
     "output_type": "stream",
     "text": [
      "/usr/local/google/home/msushkov/code/conversationai-models/model_evaluation/.pyenv/lib/python3.6/site-packages/google/auth/_default.py:66: UserWarning: Your application has authenticated using end user credentials from Google Cloud SDK. We recommend that most server applications use service accounts instead. If your application continues to use end user credentials from Cloud SDK, you might receive a \"quota exceeded\" or \"API not enabled\" error. For more information about service accounts, see https://cloud.google.com/docs/authentication/\n",
      "  warnings.warn(_CLOUD_SDK_CREDENTIALS_WARNING)\n"
     ]
    },
    {
     "name": "stdout",
     "output_type": "stream",
     "text": [
      "INFO:tensorflow:state : QUEUED\n"
     ]
    },
    {
     "name": "stderr",
     "output_type": "stream",
     "text": [
      "/usr/local/google/home/msushkov/code/conversationai-models/model_evaluation/.pyenv/lib/python3.6/site-packages/google/auth/_default.py:66: UserWarning: Your application has authenticated using end user credentials from Google Cloud SDK. We recommend that most server applications use service accounts instead. If your application continues to use end user credentials from Cloud SDK, you might receive a \"quota exceeded\" or \"API not enabled\" error. For more information about service accounts, see https://cloud.google.com/docs/authentication/\n",
      "  warnings.warn(_CLOUD_SDK_CREDENTIALS_WARNING)\n"
     ]
    },
    {
     "name": "stdout",
     "output_type": "stream",
     "text": [
      "INFO:tensorflow:Waiting for prediction job to complete. Minutes elapsed: 0\n",
      "INFO:tensorflow:Waiting for prediction job to complete. Minutes elapsed: 2\n",
      "INFO:tensorflow:Waiting for prediction job to complete. Minutes elapsed: 5\n",
      "INFO:tensorflow:Waiting for prediction job to complete. Minutes elapsed: 7\n",
      "INFO:tensorflow:Waiting for prediction job to complete. Minutes elapsed: 10\n",
      "INFO:tensorflow:Waiting for prediction job to complete. Minutes elapsed: 12\n",
      "INFO:tensorflow:Waiting for prediction job to complete. Minutes elapsed: 15\n",
      "INFO:tensorflow:Waiting for prediction job to complete. Minutes elapsed: 17\n",
      "INFO:tensorflow:Waiting for prediction job to complete. Minutes elapsed: 20\n",
      "INFO:tensorflow:Waiting for prediction job to complete. Minutes elapsed: 22\n",
      "INFO:tensorflow:Waiting for prediction job to complete. Minutes elapsed: 25\n",
      "INFO:tensorflow:Waiting for prediction job to complete. Minutes elapsed: 27\n",
      "INFO:tensorflow:Waiting for prediction job to complete. Minutes elapsed: 30\n",
      "INFO:tensorflow:Waiting for prediction job to complete. Minutes elapsed: 32\n",
      "INFO:tensorflow:Waiting for prediction job to complete. Minutes elapsed: 35\n",
      "INFO:tensorflow:Waiting for prediction job to complete. Minutes elapsed: 37\n",
      "INFO:tensorflow:Waiting for prediction job to complete. Minutes elapsed: 40\n",
      "INFO:tensorflow:Waiting for prediction job to complete. Minutes elapsed: 42\n",
      "INFO:tensorflow:Waiting for prediction job to complete. Minutes elapsed: 45\n",
      "INFO:tensorflow:Waiting for prediction job to complete. Minutes elapsed: 47\n",
      "INFO:tensorflow:Waiting for prediction job to complete. Minutes elapsed: 50\n",
      "INFO:tensorflow:Waiting for prediction job to complete. Minutes elapsed: 52\n",
      "INFO:tensorflow:Waiting for prediction job to complete. Minutes elapsed: 55\n",
      "INFO:tensorflow:Waiting for prediction job to complete. Minutes elapsed: 57\n",
      "INFO:tensorflow:Waiting for prediction job to complete. Minutes elapsed: 60\n",
      "INFO:tensorflow:Waiting for prediction job to complete. Minutes elapsed: 62\n",
      "INFO:tensorflow:Waiting for prediction job to complete. Minutes elapsed: 65\n",
      "INFO:tensorflow:Waiting for prediction job to complete. Minutes elapsed: 67\n",
      "INFO:tensorflow:Waiting for prediction job to complete. Minutes elapsed: 70\n",
      "INFO:tensorflow:Waiting for prediction job to complete. Minutes elapsed: 72\n",
      "INFO:tensorflow:Waiting for prediction job to complete. Minutes elapsed: 75\n",
      "INFO:tensorflow:Waiting for prediction job to complete. Minutes elapsed: 77\n",
      "INFO:tensorflow:Waiting for prediction job to complete. Minutes elapsed: 80\n",
      "INFO:tensorflow:Waiting for prediction job to complete. Minutes elapsed: 82\n",
      "INFO:tensorflow:Waiting for prediction job to complete. Minutes elapsed: 85\n",
      "INFO:tensorflow:Waiting for prediction job to complete. Minutes elapsed: 88\n",
      "INFO:tensorflow:Waiting for prediction job to complete. Minutes elapsed: 90\n",
      "INFO:tensorflow:Waiting for prediction job to complete. Minutes elapsed: 93\n",
      "INFO:tensorflow:Waiting for prediction job to complete. Minutes elapsed: 95\n",
      "INFO:tensorflow:Waiting for prediction job to complete. Minutes elapsed: 98\n",
      "INFO:tensorflow:Waiting for prediction job to complete. Minutes elapsed: 100\n",
      "INFO:tensorflow:Waiting for prediction job to complete. Minutes elapsed: 103\n",
      "INFO:tensorflow:Waiting for prediction job to complete. Minutes elapsed: 105\n",
      "INFO:tensorflow:Waiting for prediction job to complete. Minutes elapsed: 108\n",
      "INFO:tensorflow:Waiting for prediction job to complete. Minutes elapsed: 110\n",
      "INFO:tensorflow:Waiting for prediction job to complete. Minutes elapsed: 113\n",
      "INFO:tensorflow:Waiting for prediction job to complete. Minutes elapsed: 115\n",
      "INFO:tensorflow:Waiting for prediction job to complete. Minutes elapsed: 118\n",
      "INFO:tensorflow:Waiting for prediction job to complete. Minutes elapsed: 120\n",
      "INFO:tensorflow:Waiting for prediction job to complete. Minutes elapsed: 123\n",
      "INFO:tensorflow:Waiting for prediction job to complete. Minutes elapsed: 125\n",
      "INFO:tensorflow:Waiting for prediction job to complete. Minutes elapsed: 128\n",
      "INFO:tensorflow:Waiting for prediction job to complete. Minutes elapsed: 130\n",
      "INFO:tensorflow:Waiting for prediction job to complete. Minutes elapsed: 133\n",
      "INFO:tensorflow:Waiting for prediction job to complete. Minutes elapsed: 135\n",
      "INFO:tensorflow:Waiting for prediction job to complete. Minutes elapsed: 138\n",
      "INFO:tensorflow:Waiting for prediction job to complete. Minutes elapsed: 140\n",
      "INFO:tensorflow:Waiting for prediction job to complete. Minutes elapsed: 143\n",
      "INFO:tensorflow:Waiting for prediction job to complete. Minutes elapsed: 145\n",
      "INFO:tensorflow:Waiting for prediction job to complete. Minutes elapsed: 148\n",
      "INFO:tensorflow:Waiting for prediction job to complete. Minutes elapsed: 150\n",
      "INFO:tensorflow:Waiting for prediction job to complete. Minutes elapsed: 153\n",
      "INFO:tensorflow:Waiting for prediction job to complete. Minutes elapsed: 155\n",
      "INFO:tensorflow:Waiting for prediction job to complete. Minutes elapsed: 158\n",
      "INFO:tensorflow:Waiting for prediction job to complete. Minutes elapsed: 160\n",
      "INFO:tensorflow:Waiting for prediction job to complete. Minutes elapsed: 163\n",
      "INFO:tensorflow:Waiting for prediction job to complete. Minutes elapsed: 166\n",
      "INFO:tensorflow:Waiting for prediction job to complete. Minutes elapsed: 168\n",
      "INFO:tensorflow:Waiting for prediction job to complete. Minutes elapsed: 171\n",
      "INFO:tensorflow:Waiting for prediction job to complete. Minutes elapsed: 173\n",
      "INFO:tensorflow:Waiting for prediction job to complete. Minutes elapsed: 176\n",
      "INFO:tensorflow:Waiting for prediction job to complete. Minutes elapsed: 178\n",
      "INFO:tensorflow:Waiting for prediction job to complete. Minutes elapsed: 181\n",
      "INFO:tensorflow:Waiting for prediction job to complete. Minutes elapsed: 183\n",
      "INFO:tensorflow:Waiting for prediction job to complete. Minutes elapsed: 186\n",
      "INFO:tensorflow:Waiting for prediction job to complete. Minutes elapsed: 188\n",
      "INFO:tensorflow:Waiting for prediction job to complete. Minutes elapsed: 191\n",
      "INFO:tensorflow:Waiting for prediction job to complete. Minutes elapsed: 193\n",
      "INFO:tensorflow:Waiting for prediction job to complete. Minutes elapsed: 196\n",
      "INFO:tensorflow:Waiting for prediction job to complete. Minutes elapsed: 198\n",
      "INFO:tensorflow:Waiting for prediction job to complete. Minutes elapsed: 201\n",
      "INFO:tensorflow:Waiting for prediction job to complete. Minutes elapsed: 203\n",
      "INFO:tensorflow:Waiting for prediction job to complete. Minutes elapsed: 206\n",
      "INFO:tensorflow:Waiting for prediction job to complete. Minutes elapsed: 208\n",
      "INFO:tensorflow:Waiting for prediction job to complete. Minutes elapsed: 211\n",
      "INFO:tensorflow:Waiting for prediction job to complete. Minutes elapsed: 213\n",
      "INFO:tensorflow:Waiting for prediction job to complete. Minutes elapsed: 216\n",
      "INFO:tensorflow:Waiting for prediction job to complete. Minutes elapsed: 218\n",
      "INFO:tensorflow:Waiting for prediction job to complete. Minutes elapsed: 221\n",
      "INFO:tensorflow:Waiting for prediction job to complete. Minutes elapsed: 223\n",
      "INFO:tensorflow:Waiting for prediction job to complete. Minutes elapsed: 226\n",
      "INFO:tensorflow:Waiting for prediction job to complete. Minutes elapsed: 228\n",
      "INFO:tensorflow:Waiting for prediction job to complete. Minutes elapsed: 231\n",
      "INFO:tensorflow:Waiting for prediction job to complete. Minutes elapsed: 233\n",
      "INFO:tensorflow:Waiting for prediction job to complete. Minutes elapsed: 236\n",
      "INFO:tensorflow:Waiting for prediction job to complete. Minutes elapsed: 238\n",
      "INFO:tensorflow:Waiting for prediction job to complete. Minutes elapsed: 241\n",
      "INFO:tensorflow:Waiting for prediction job to complete. Minutes elapsed: 243\n",
      "INFO:tensorflow:Waiting for prediction job to complete. Minutes elapsed: 246\n",
      "INFO:tensorflow:Waiting for prediction job to complete. Minutes elapsed: 249\n",
      "INFO:tensorflow:Waiting for prediction job to complete. Minutes elapsed: 251\n",
      "INFO:tensorflow:Waiting for prediction job to complete. Minutes elapsed: 254\n",
      "INFO:tensorflow:Waiting for prediction job to complete. Minutes elapsed: 256\n",
      "INFO:tensorflow:Waiting for prediction job to complete. Minutes elapsed: 259\n",
      "INFO:tensorflow:Waiting for prediction job to complete. Minutes elapsed: 261\n",
      "INFO:tensorflow:Waiting for prediction job to complete. Minutes elapsed: 264\n",
      "INFO:tensorflow:Waiting for prediction job to complete. Minutes elapsed: 266\n"
     ]
    },
    {
     "name": "stdout",
     "output_type": "stream",
     "text": [
      "INFO:tensorflow:Waiting for prediction job to complete. Minutes elapsed: 269\n",
      "INFO:tensorflow:Waiting for prediction job to complete. Minutes elapsed: 271\n",
      "INFO:tensorflow:Waiting for prediction job to complete. Minutes elapsed: 274\n",
      "INFO:tensorflow:Waiting for prediction job to complete. Minutes elapsed: 276\n",
      "INFO:tensorflow:Waiting for prediction job to complete. Minutes elapsed: 279\n",
      "INFO:tensorflow:Waiting for prediction job to complete. Minutes elapsed: 281\n",
      "INFO:tensorflow:Waiting for prediction job to complete. Minutes elapsed: 284\n",
      "INFO:tensorflow:Waiting for prediction job to complete. Minutes elapsed: 286\n",
      "INFO:tensorflow:Waiting for prediction job to complete. Minutes elapsed: 289\n",
      "INFO:tensorflow:Waiting for prediction job to complete. Minutes elapsed: 291\n",
      "INFO:tensorflow:Waiting for prediction job to complete. Minutes elapsed: 294\n",
      "INFO:tensorflow:Waiting for prediction job to complete. Minutes elapsed: 296\n",
      "INFO:tensorflow:Waiting for prediction job to complete. Minutes elapsed: 299\n",
      "INFO:tensorflow:Waiting for prediction job to complete. Minutes elapsed: 301\n",
      "INFO:tensorflow:Waiting for prediction job to complete. Minutes elapsed: 304\n",
      "INFO:tensorflow:Waiting for prediction job to complete. Minutes elapsed: 306\n",
      "INFO:tensorflow:Waiting for prediction job to complete. Minutes elapsed: 309\n",
      "INFO:tensorflow:Waiting for prediction job to complete. Minutes elapsed: 311\n",
      "INFO:tensorflow:Waiting for prediction job to complete. Minutes elapsed: 314\n",
      "INFO:tensorflow:Waiting for prediction job to complete. Minutes elapsed: 316\n",
      "INFO:tensorflow:Waiting for prediction job to complete. Minutes elapsed: 319\n",
      "INFO:tensorflow:Waiting for prediction job to complete. Minutes elapsed: 321\n",
      "INFO:tensorflow:Waiting for prediction job to complete. Minutes elapsed: 324\n",
      "INFO:tensorflow:Waiting for prediction job to complete. Minutes elapsed: 326\n",
      "INFO:tensorflow:Waiting for prediction job to complete. Minutes elapsed: 329\n",
      "INFO:tensorflow:Waiting for prediction job to complete. Minutes elapsed: 331\n",
      "INFO:tensorflow:Waiting for prediction job to complete. Minutes elapsed: 334\n",
      "INFO:tensorflow:Waiting for prediction job to complete. Minutes elapsed: 337\n",
      "INFO:tensorflow:Waiting for prediction job to complete. Minutes elapsed: 339\n",
      "INFO:tensorflow:Waiting for prediction job to complete. Minutes elapsed: 342\n",
      "INFO:tensorflow:Waiting for prediction job to complete. Minutes elapsed: 344\n",
      "INFO:tensorflow:Waiting for prediction job to complete. Minutes elapsed: 347\n",
      "INFO:tensorflow:Waiting for prediction job to complete. Minutes elapsed: 349\n",
      "INFO:tensorflow:Waiting for prediction job to complete. Minutes elapsed: 352\n",
      "INFO:tensorflow:Waiting for prediction job to complete. Minutes elapsed: 354\n",
      "INFO:tensorflow:Waiting for prediction job to complete. Minutes elapsed: 357\n",
      "INFO:tensorflow:Waiting for prediction job to complete. Minutes elapsed: 359\n",
      "INFO:tensorflow:Waiting for prediction job to complete. Minutes elapsed: 362\n",
      "INFO:tensorflow:Waiting for prediction job to complete. Minutes elapsed: 364\n",
      "INFO:tensorflow:Waiting for prediction job to complete. Minutes elapsed: 367\n",
      "INFO:tensorflow:Waiting for prediction job to complete. Minutes elapsed: 369\n",
      "INFO:tensorflow:Waiting for prediction job to complete. Minutes elapsed: 372\n",
      "INFO:tensorflow:Waiting for prediction job to complete. Minutes elapsed: 374\n",
      "INFO:tensorflow:Waiting for prediction job to complete. Minutes elapsed: 377\n",
      "INFO:tensorflow:Waiting for prediction job to complete. Minutes elapsed: 379\n",
      "INFO:tensorflow:Waiting for prediction job to complete. Minutes elapsed: 382\n",
      "INFO:tensorflow:Waiting for prediction job to complete. Minutes elapsed: 384\n",
      "INFO:tensorflow:Waiting for prediction job to complete. Minutes elapsed: 387\n",
      "INFO:tensorflow:Waiting for prediction job to complete. Minutes elapsed: 389\n",
      "INFO:tensorflow:Waiting for prediction job to complete. Minutes elapsed: 392\n",
      "INFO:tensorflow:Waiting for prediction job to complete. Minutes elapsed: 394\n",
      "INFO:tensorflow:Waiting for prediction job to complete. Minutes elapsed: 397\n",
      "INFO:tensorflow:Waiting for prediction job to complete. Minutes elapsed: 399\n",
      "INFO:tensorflow:Waiting for prediction job to complete. Minutes elapsed: 402\n",
      "INFO:tensorflow:Waiting for prediction job to complete. Minutes elapsed: 404\n",
      "INFO:tensorflow:Waiting for prediction job to complete. Minutes elapsed: 407\n",
      "INFO:tensorflow:Waiting for prediction job to complete. Minutes elapsed: 409\n",
      "INFO:tensorflow:Waiting for prediction job to complete. Minutes elapsed: 412\n",
      "INFO:tensorflow:Waiting for prediction job to complete. Minutes elapsed: 414\n",
      "INFO:tensorflow:Waiting for prediction job to complete. Minutes elapsed: 417\n",
      "INFO:tensorflow:Waiting for prediction job to complete. Minutes elapsed: 420\n",
      "INFO:tensorflow:Waiting for prediction job to complete. Minutes elapsed: 422\n",
      "INFO:tensorflow:Waiting for prediction job to complete. Minutes elapsed: 425\n",
      "INFO:tensorflow:Waiting for prediction job to complete. Minutes elapsed: 427\n",
      "INFO:tensorflow:Waiting for prediction job to complete. Minutes elapsed: 430\n",
      "INFO:tensorflow:Waiting for prediction job to complete. Minutes elapsed: 432\n",
      "INFO:tensorflow:Waiting for prediction job to complete. Minutes elapsed: 435\n",
      "INFO:tensorflow:Waiting for prediction job to complete. Minutes elapsed: 437\n",
      "INFO:tensorflow:Waiting for prediction job to complete. Minutes elapsed: 440\n",
      "INFO:tensorflow:Waiting for prediction job to complete. Minutes elapsed: 442\n",
      "INFO:tensorflow:Waiting for prediction job to complete. Minutes elapsed: 445\n",
      "INFO:tensorflow:Waiting for prediction job to complete. Minutes elapsed: 447\n",
      "INFO:tensorflow:Waiting for prediction job to complete. Minutes elapsed: 450\n",
      "INFO:tensorflow:Waiting for prediction job to complete. Minutes elapsed: 452\n",
      "INFO:tensorflow:Waiting for prediction job to complete. Minutes elapsed: 455\n",
      "INFO:tensorflow:Waiting for prediction job to complete. Minutes elapsed: 457\n",
      "INFO:tensorflow:Waiting for prediction job to complete. Minutes elapsed: 460\n",
      "INFO:tensorflow:Waiting for prediction job to complete. Minutes elapsed: 462\n",
      "INFO:tensorflow:Waiting for prediction job to complete. Minutes elapsed: 465\n",
      "INFO:tensorflow:Waiting for prediction job to complete. Minutes elapsed: 467\n",
      "INFO:tensorflow:Waiting for prediction job to complete. Minutes elapsed: 470\n",
      "INFO:tensorflow:Waiting for prediction job to complete. Minutes elapsed: 472\n",
      "INFO:tensorflow:Waiting for prediction job to complete. Minutes elapsed: 475\n",
      "INFO:tensorflow:Waiting for prediction job to complete. Minutes elapsed: 477\n",
      "INFO:tensorflow:Waiting for prediction job to complete. Minutes elapsed: 480\n",
      "INFO:tensorflow:Waiting for prediction job to complete. Minutes elapsed: 482\n",
      "INFO:tensorflow:Waiting for prediction job to complete. Minutes elapsed: 485\n",
      "INFO:tensorflow:Waiting for prediction job to complete. Minutes elapsed: 487\n",
      "INFO:tensorflow:Waiting for prediction job to complete. Minutes elapsed: 490\n",
      "INFO:tensorflow:Waiting for prediction job to complete. Minutes elapsed: 492\n",
      "INFO:tensorflow:Waiting for prediction job to complete. Minutes elapsed: 495\n",
      "INFO:tensorflow:Waiting for prediction job to complete. Minutes elapsed: 497\n",
      "INFO:tensorflow:Waiting for prediction job to complete. Minutes elapsed: 500\n",
      "INFO:tensorflow:Waiting for prediction job to complete. Minutes elapsed: 503\n",
      "INFO:tensorflow:Waiting for prediction job to complete. Minutes elapsed: 505\n",
      "INFO:tensorflow:Waiting for prediction job to complete. Minutes elapsed: 508\n",
      "INFO:tensorflow:Waiting for prediction job to complete. Minutes elapsed: 510\n",
      "INFO:tensorflow:Waiting for prediction job to complete. Minutes elapsed: 513\n",
      "INFO:tensorflow:Waiting for prediction job to complete. Minutes elapsed: 515\n",
      "INFO:tensorflow:Waiting for prediction job to complete. Minutes elapsed: 518\n",
      "INFO:tensorflow:Waiting for prediction job to complete. Minutes elapsed: 520\n",
      "INFO:tensorflow:Waiting for prediction job to complete. Minutes elapsed: 523\n",
      "INFO:tensorflow:Waiting for prediction job to complete. Minutes elapsed: 525\n",
      "INFO:tensorflow:Waiting for prediction job to complete. Minutes elapsed: 528\n",
      "INFO:tensorflow:Waiting for prediction job to complete. Minutes elapsed: 530\n",
      "INFO:tensorflow:Waiting for prediction job to complete. Minutes elapsed: 533\n",
      "INFO:tensorflow:Waiting for prediction job to complete. Minutes elapsed: 535\n"
     ]
    },
    {
     "name": "stdout",
     "output_type": "stream",
     "text": [
      "INFO:tensorflow:Waiting for prediction job to complete. Minutes elapsed: 538\n",
      "INFO:tensorflow:Waiting for prediction job to complete. Minutes elapsed: 540\n",
      "INFO:tensorflow:Waiting for prediction job to complete. Minutes elapsed: 543\n",
      "INFO:tensorflow:Waiting for prediction job to complete. Minutes elapsed: 545\n",
      "INFO:tensorflow:Waiting for prediction job to complete. Minutes elapsed: 548\n",
      "INFO:tensorflow:Waiting for prediction job to complete. Minutes elapsed: 550\n",
      "INFO:tensorflow:Waiting for prediction job to complete. Minutes elapsed: 553\n",
      "INFO:tensorflow:Waiting for prediction job to complete. Minutes elapsed: 555\n",
      "INFO:tensorflow:Waiting for prediction job to complete. Minutes elapsed: 558\n",
      "INFO:tensorflow:Waiting for prediction job to complete. Minutes elapsed: 560\n",
      "INFO:tensorflow:Waiting for prediction job to complete. Minutes elapsed: 563\n",
      "INFO:tensorflow:Waiting for prediction job to complete. Minutes elapsed: 565\n",
      "INFO:tensorflow:Waiting for prediction job to complete. Minutes elapsed: 568\n",
      "INFO:tensorflow:Waiting for prediction job to complete. Minutes elapsed: 570\n",
      "INFO:tensorflow:Waiting for prediction job to complete. Minutes elapsed: 573\n",
      "INFO:tensorflow:Waiting for prediction job to complete. Minutes elapsed: 575\n",
      "INFO:tensorflow:Waiting for prediction job to complete. Minutes elapsed: 578\n",
      "INFO:tensorflow:Waiting for prediction job to complete. Minutes elapsed: 580\n",
      "INFO:tensorflow:Waiting for prediction job to complete. Minutes elapsed: 583\n",
      "INFO:tensorflow:Waiting for prediction job to complete. Minutes elapsed: 586\n",
      "INFO:tensorflow:Waiting for prediction job to complete. Minutes elapsed: 588\n",
      "INFO:tensorflow:Waiting for prediction job to complete. Minutes elapsed: 591\n",
      "INFO:tensorflow:Waiting for prediction job to complete. Minutes elapsed: 593\n",
      "INFO:tensorflow:Waiting for prediction job to complete. Minutes elapsed: 596\n",
      "INFO:tensorflow:Waiting for prediction job to complete. Minutes elapsed: 598\n",
      "INFO:tensorflow:Waiting for prediction job to complete. Minutes elapsed: 601\n",
      "INFO:tensorflow:Waiting for prediction job to complete. Minutes elapsed: 603\n",
      "INFO:tensorflow:Waiting for prediction job to complete. Minutes elapsed: 606\n",
      "INFO:tensorflow:Waiting for prediction job to complete. Minutes elapsed: 608\n",
      "INFO:tensorflow:Waiting for prediction job to complete. Minutes elapsed: 611\n",
      "INFO:tensorflow:Waiting for prediction job to complete. Minutes elapsed: 613\n",
      "INFO:tensorflow:Waiting for prediction job to complete. Minutes elapsed: 616\n",
      "INFO:tensorflow:Waiting for prediction job to complete. Minutes elapsed: 618\n",
      "INFO:tensorflow:Waiting for prediction job to complete. Minutes elapsed: 621\n",
      "INFO:tensorflow:Waiting for prediction job to complete. Minutes elapsed: 623\n",
      "INFO:tensorflow:Waiting for prediction job to complete. Minutes elapsed: 626\n",
      "INFO:tensorflow:Waiting for prediction job to complete. Minutes elapsed: 628\n",
      "INFO:tensorflow:Waiting for prediction job to complete. Minutes elapsed: 631\n",
      "INFO:tensorflow:Waiting for prediction job to complete. Minutes elapsed: 633\n",
      "INFO:tensorflow:Waiting for prediction job to complete. Minutes elapsed: 636\n",
      "INFO:tensorflow:Waiting for prediction job to complete. Minutes elapsed: 638\n",
      "INFO:tensorflow:Waiting for prediction job to complete. Minutes elapsed: 641\n",
      "INFO:tensorflow:Waiting for prediction job to complete. Minutes elapsed: 643\n",
      "INFO:tensorflow:Waiting for prediction job to complete. Minutes elapsed: 646\n",
      "INFO:tensorflow:Waiting for prediction job to complete. Minutes elapsed: 648\n",
      "INFO:tensorflow:Waiting for prediction job to complete. Minutes elapsed: 651\n",
      "INFO:tensorflow:Waiting for prediction job to complete. Minutes elapsed: 653\n",
      "INFO:tensorflow:Waiting for prediction job to complete. Minutes elapsed: 656\n",
      "INFO:tensorflow:Waiting for prediction job to complete. Minutes elapsed: 658\n",
      "INFO:tensorflow:Waiting for prediction job to complete. Minutes elapsed: 661\n",
      "INFO:tensorflow:Waiting for prediction job to complete. Minutes elapsed: 663\n",
      "INFO:tensorflow:Waiting for prediction job to complete. Minutes elapsed: 666\n",
      "INFO:tensorflow:Waiting for prediction job to complete. Minutes elapsed: 668\n",
      "INFO:tensorflow:Waiting for prediction job to complete. Minutes elapsed: 671\n",
      "INFO:tensorflow:Waiting for prediction job to complete. Minutes elapsed: 674\n",
      "INFO:tensorflow:Waiting for prediction job to complete. Minutes elapsed: 676\n",
      "INFO:tensorflow:Waiting for prediction job to complete. Minutes elapsed: 679\n",
      "INFO:tensorflow:Waiting for prediction job to complete. Minutes elapsed: 681\n",
      "INFO:tensorflow:Waiting for prediction job to complete. Minutes elapsed: 684\n",
      "INFO:tensorflow:Waiting for prediction job to complete. Minutes elapsed: 686\n",
      "INFO:tensorflow:Waiting for prediction job to complete. Minutes elapsed: 689\n",
      "INFO:tensorflow:Waiting for prediction job to complete. Minutes elapsed: 691\n",
      "INFO:tensorflow:Waiting for prediction job to complete. Minutes elapsed: 694\n",
      "INFO:tensorflow:Waiting for prediction job to complete. Minutes elapsed: 696\n",
      "INFO:tensorflow:Waiting for prediction job to complete. Minutes elapsed: 699\n",
      "INFO:tensorflow:Waiting for prediction job to complete. Minutes elapsed: 701\n",
      "INFO:tensorflow:Waiting for prediction job to complete. Minutes elapsed: 704\n",
      "INFO:tensorflow:Waiting for prediction job to complete. Minutes elapsed: 706\n",
      "INFO:tensorflow:Waiting for prediction job to complete. Minutes elapsed: 709\n",
      "INFO:tensorflow:Waiting for prediction job to complete. Minutes elapsed: 711\n",
      "INFO:tensorflow:Waiting for prediction job to complete. Minutes elapsed: 714\n",
      "INFO:tensorflow:Waiting for prediction job to complete. Minutes elapsed: 716\n",
      "INFO:tensorflow:Waiting for prediction job to complete. Minutes elapsed: 719\n",
      "INFO:tensorflow:Waiting for prediction job to complete. Minutes elapsed: 721\n",
      "INFO:tensorflow:Waiting for prediction job to complete. Minutes elapsed: 724\n",
      "INFO:tensorflow:Waiting for prediction job to complete. Minutes elapsed: 726\n",
      "INFO:tensorflow:Waiting for prediction job to complete. Minutes elapsed: 729\n",
      "INFO:tensorflow:Waiting for prediction job to complete. Minutes elapsed: 731\n",
      "INFO:tensorflow:Waiting for prediction job to complete. Minutes elapsed: 734\n",
      "INFO:tensorflow:Waiting for prediction job to complete. Minutes elapsed: 736\n",
      "INFO:tensorflow:Waiting for prediction job to complete. Minutes elapsed: 739\n",
      "INFO:tensorflow:Waiting for prediction job to complete. Minutes elapsed: 741\n",
      "INFO:tensorflow:Waiting for prediction job to complete. Minutes elapsed: 744\n",
      "INFO:tensorflow:Waiting for prediction job to complete. Minutes elapsed: 746\n",
      "INFO:tensorflow:Waiting for prediction job to complete. Minutes elapsed: 749\n",
      "INFO:tensorflow:Waiting for prediction job to complete. Minutes elapsed: 751\n",
      "INFO:tensorflow:Waiting for prediction job to complete. Minutes elapsed: 754\n",
      "INFO:tensorflow:Waiting for prediction job to complete. Minutes elapsed: 756\n",
      "INFO:tensorflow:Waiting for prediction job to complete. Minutes elapsed: 759\n",
      "INFO:tensorflow:Waiting for prediction job to complete. Minutes elapsed: 762\n",
      "INFO:tensorflow:Waiting for prediction job to complete. Minutes elapsed: 764\n",
      "INFO:tensorflow:Waiting for prediction job to complete. Minutes elapsed: 767\n",
      "INFO:tensorflow:Waiting for prediction job to complete. Minutes elapsed: 769\n",
      "INFO:tensorflow:Waiting for prediction job to complete. Minutes elapsed: 772\n",
      "INFO:tensorflow:Waiting for prediction job to complete. Minutes elapsed: 774\n",
      "INFO:tensorflow:Waiting for prediction job to complete. Minutes elapsed: 777\n",
      "INFO:tensorflow:Waiting for prediction job to complete. Minutes elapsed: 779\n",
      "INFO:tensorflow:Waiting for prediction job to complete. Minutes elapsed: 782\n",
      "INFO:tensorflow:Waiting for prediction job to complete. Minutes elapsed: 784\n",
      "INFO:tensorflow:Waiting for prediction job to complete. Minutes elapsed: 787\n",
      "INFO:tensorflow:Waiting for prediction job to complete. Minutes elapsed: 789\n",
      "INFO:tensorflow:Waiting for prediction job to complete. Minutes elapsed: 792\n",
      "INFO:tensorflow:Waiting for prediction job to complete. Minutes elapsed: 794\n",
      "INFO:tensorflow:Waiting for prediction job to complete. Minutes elapsed: 797\n",
      "INFO:tensorflow:Waiting for prediction job to complete. Minutes elapsed: 799\n",
      "INFO:tensorflow:Waiting for prediction job to complete. Minutes elapsed: 802\n",
      "INFO:tensorflow:Waiting for prediction job to complete. Minutes elapsed: 804\n"
     ]
    },
    {
     "name": "stdout",
     "output_type": "stream",
     "text": [
      "INFO:tensorflow:Waiting for prediction job to complete. Minutes elapsed: 807\n",
      "INFO:tensorflow:Waiting for prediction job to complete. Minutes elapsed: 809\n",
      "INFO:tensorflow:Waiting for prediction job to complete. Minutes elapsed: 812\n",
      "INFO:tensorflow:Waiting for prediction job to complete. Minutes elapsed: 814\n",
      "INFO:tensorflow:Waiting for prediction job to complete. Minutes elapsed: 817\n",
      "INFO:tensorflow:Waiting for prediction job to complete. Minutes elapsed: 819\n",
      "INFO:tensorflow:Waiting for prediction job to complete. Minutes elapsed: 822\n",
      "INFO:tensorflow:Waiting for prediction job to complete. Minutes elapsed: 824\n",
      "INFO:tensorflow:Waiting for prediction job to complete. Minutes elapsed: 827\n",
      "INFO:tensorflow:Waiting for prediction job to complete. Minutes elapsed: 829\n",
      "INFO:tensorflow:Waiting for prediction job to complete. Minutes elapsed: 832\n",
      "INFO:tensorflow:Waiting for prediction job to complete. Minutes elapsed: 834\n",
      "INFO:tensorflow:Waiting for prediction job to complete. Minutes elapsed: 837\n",
      "INFO:tensorflow:Waiting for prediction job to complete. Minutes elapsed: 839\n",
      "INFO:tensorflow:Waiting for prediction job to complete. Minutes elapsed: 842\n",
      "INFO:tensorflow:Waiting for prediction job to complete. Minutes elapsed: 844\n",
      "INFO:tensorflow:Waiting for prediction job to complete. Minutes elapsed: 847\n",
      "INFO:tensorflow:Waiting for prediction job to complete. Minutes elapsed: 850\n",
      "INFO:tensorflow:Waiting for prediction job to complete. Minutes elapsed: 852\n",
      "INFO:tensorflow:Prediction job completed.\n"
     ]
    }
   ],
   "source": [
    "# Set recompute_predictions=False to save time if predictions are available.\n",
    "test_dataset.add_model_prediction_to_data(model, recompute_predictions=True)"
   ]
  },
  {
   "cell_type": "code",
   "execution_count": 193,
   "metadata": {},
   "outputs": [],
   "source": [
    "civil_comments_hub_df = test_dataset.show_data()"
   ]
  },
  {
   "cell_type": "code",
   "execution_count": 194,
   "metadata": {},
   "outputs": [
    {
     "name": "stdout",
     "output_type": "stream",
     "text": [
      "tf_hub_classifier_civil_comments:v20190322_142141_21201_1553344552\n",
      "\tROC AUC: 0.9595451744696132\n",
      "\tPR AUC: 0.7429338592289392\n"
     ]
    }
   ],
   "source": [
    "print_results(civil_comments_hub_df, MODEL_NAMES)"
   ]
  },
  {
   "cell_type": "markdown",
   "metadata": {},
   "source": [
    "## Evaluate models on Toxicity dataset"
   ]
  },
  {
   "cell_type": "code",
   "execution_count": 195,
   "metadata": {},
   "outputs": [],
   "source": [
    "LABEL_NAME_PREDICTION_MODEL = 'frac_neg/logistic'\n",
    "DATASET = 'gs://conversationai-models/resources/toxicity_data/toxicity_q42017_test.tfrecord'\n",
    "DATA_LABEL = 'frac_neg'\n",
    "DATASET_TEXT_FEATURE='comment_text'\n",
    "\n",
    "# Pattern for path of tf_records\n",
    "OUTPUT_DIR = os.path.join(OUTPUT_DIR_BASE, 'toxicity_test')"
   ]
  },
  {
   "cell_type": "markdown",
   "metadata": {},
   "source": [
    "### CNN, GRU Attention Models"
   ]
  },
  {
   "cell_type": "code",
   "execution_count": 162,
   "metadata": {},
   "outputs": [],
   "source": [
    "MODEL_TEXT_FEATURE = 'tokens'\n",
    "MODEL_NAMES = [\n",
    "    'tf_cnn_toxicity_glove:v_20190219_185532',\n",
    "    'tf_gru_attention_toxicity_glove:v_20190219_185516',\n",
    "]\n",
    "\n",
    "model_input_spec = {\n",
    "    MODEL_TEXT_FEATURE: utils_tfrecords.EncodingFeatureSpec.LIST_STRING\n",
    "}\n",
    "\n",
    "model = Model(\n",
    "    feature_keys_spec=model_input_spec,\n",
    "    prediction_keys=LABEL_NAME_PREDICTION_MODEL,\n",
    "    example_key=SENTENCE_KEY,\n",
    "    model_names=MODEL_NAMES,\n",
    "    project_name=PROJECT_NAME)\n",
    "\n",
    "test_input_fn = make_test_input_fn(\n",
    "    DATASET, MODEL_TEXT_FEATURE, DATASET_TEXT_FEATURE,\n",
    "    DATA_LABEL, tokenizer)"
   ]
  },
  {
   "cell_type": "code",
   "execution_count": 163,
   "metadata": {},
   "outputs": [
    {
     "name": "stderr",
     "output_type": "stream",
     "text": [
      "/usr/local/google/home/msushkov/code/conversationai-models/model_evaluation/.pyenv/lib/python3.6/site-packages/tensorflow/python/client/session.py:1702: UserWarning: An interactive session is already active. This can cause out-of-memory errors in some cases. You must explicitly call `InteractiveSession.close()` to release resources held by the other session(s).\n",
      "  warnings.warn('An interactive session is already active. This can '\n"
     ]
    },
    {
     "name": "stdout",
     "output_type": "stream",
     "text": [
      "INFO:tensorflow:input_fn is compatible with the `Dataset` class.\n",
      "INFO:tensorflow:Loaded 100000 lines.\n",
      "INFO:tensorflow:End of file.\n"
     ]
    }
   ],
   "source": [
    "# Need to set seed before loading data to be able to reload same data in the future\n",
    "random.seed(2018)\n",
    "\n",
    "test_dataset = Dataset(test_input_fn, OUTPUT_DIR)\n",
    "test_dataset.load_data(10000000)"
   ]
  },
  {
   "cell_type": "code",
   "execution_count": 148,
   "metadata": {},
   "outputs": [
    {
     "name": "stdout",
     "output_type": "stream",
     "text": [
      "INFO:tensorflow:Model is compatible with the `Dataset` instance.\n",
      "INFO:tensorflow:Doing batch 0/0\n",
      "INFO:tensorflow:Preparing train data: 0/187681\n",
      "INFO:tensorflow:Preparing train data: 10000/187681\n",
      "INFO:tensorflow:Preparing train data: 20000/187681\n",
      "INFO:tensorflow:Preparing train data: 30000/187681\n",
      "INFO:tensorflow:Preparing train data: 40000/187681\n",
      "INFO:tensorflow:Preparing train data: 50000/187681\n",
      "INFO:tensorflow:Preparing train data: 60000/187681\n",
      "INFO:tensorflow:Preparing train data: 70000/187681\n",
      "INFO:tensorflow:Preparing train data: 80000/187681\n",
      "INFO:tensorflow:Preparing train data: 90000/187681\n",
      "INFO:tensorflow:Preparing train data: 100000/187681\n",
      "INFO:tensorflow:Preparing train data: 110000/187681\n",
      "INFO:tensorflow:Preparing train data: 120000/187681\n",
      "INFO:tensorflow:Preparing train data: 130000/187681\n",
      "INFO:tensorflow:Preparing train data: 140000/187681\n",
      "INFO:tensorflow:Preparing train data: 150000/187681\n",
      "INFO:tensorflow:Preparing train data: 160000/187681\n",
      "INFO:tensorflow:Preparing train data: 170000/187681\n",
      "INFO:tensorflow:Preparing train data: 180000/187681\n"
     ]
    },
    {
     "name": "stderr",
     "output_type": "stream",
     "text": [
      "/usr/local/google/home/msushkov/code/conversationai-models/model_evaluation/.pyenv/lib/python3.6/site-packages/google/auth/_default.py:66: UserWarning: Your application has authenticated using end user credentials from Google Cloud SDK. We recommend that most server applications use service accounts instead. If your application continues to use end user credentials from Cloud SDK, you might receive a \"quota exceeded\" or \"API not enabled\" error. For more information about service accounts, see https://cloud.google.com/docs/authentication/\n",
      "  warnings.warn(_CLOUD_SDK_CREDENTIALS_WARNING)\n"
     ]
    },
    {
     "name": "stdout",
     "output_type": "stream",
     "text": [
      "INFO:tensorflow:state : QUEUED\n"
     ]
    },
    {
     "name": "stderr",
     "output_type": "stream",
     "text": [
      "/usr/local/google/home/msushkov/code/conversationai-models/model_evaluation/.pyenv/lib/python3.6/site-packages/google/auth/_default.py:66: UserWarning: Your application has authenticated using end user credentials from Google Cloud SDK. We recommend that most server applications use service accounts instead. If your application continues to use end user credentials from Cloud SDK, you might receive a \"quota exceeded\" or \"API not enabled\" error. For more information about service accounts, see https://cloud.google.com/docs/authentication/\n",
      "  warnings.warn(_CLOUD_SDK_CREDENTIALS_WARNING)\n"
     ]
    },
    {
     "name": "stdout",
     "output_type": "stream",
     "text": [
      "INFO:tensorflow:state : QUEUED\n"
     ]
    },
    {
     "name": "stderr",
     "output_type": "stream",
     "text": [
      "/usr/local/google/home/msushkov/code/conversationai-models/model_evaluation/.pyenv/lib/python3.6/site-packages/google/auth/_default.py:66: UserWarning: Your application has authenticated using end user credentials from Google Cloud SDK. We recommend that most server applications use service accounts instead. If your application continues to use end user credentials from Cloud SDK, you might receive a \"quota exceeded\" or \"API not enabled\" error. For more information about service accounts, see https://cloud.google.com/docs/authentication/\n",
      "  warnings.warn(_CLOUD_SDK_CREDENTIALS_WARNING)\n"
     ]
    },
    {
     "name": "stdout",
     "output_type": "stream",
     "text": [
      "INFO:tensorflow:Waiting for prediction job to complete. Minutes elapsed: 0\n",
      "INFO:tensorflow:Waiting for prediction job to complete. Minutes elapsed: 2\n",
      "INFO:tensorflow:Waiting for prediction job to complete. Minutes elapsed: 5\n",
      "INFO:tensorflow:Waiting for prediction job to complete. Minutes elapsed: 7\n",
      "INFO:tensorflow:Waiting for prediction job to complete. Minutes elapsed: 10\n",
      "INFO:tensorflow:Waiting for prediction job to complete. Minutes elapsed: 12\n",
      "INFO:tensorflow:Waiting for prediction job to complete. Minutes elapsed: 15\n",
      "INFO:tensorflow:Waiting for prediction job to complete. Minutes elapsed: 17\n",
      "INFO:tensorflow:Waiting for prediction job to complete. Minutes elapsed: 20\n",
      "INFO:tensorflow:Waiting for prediction job to complete. Minutes elapsed: 22\n",
      "INFO:tensorflow:Waiting for prediction job to complete. Minutes elapsed: 25\n",
      "INFO:tensorflow:Waiting for prediction job to complete. Minutes elapsed: 27\n",
      "INFO:tensorflow:Waiting for prediction job to complete. Minutes elapsed: 30\n",
      "INFO:tensorflow:Prediction job completed.\n"
     ]
    },
    {
     "name": "stderr",
     "output_type": "stream",
     "text": [
      "/usr/local/google/home/msushkov/code/conversationai-models/model_evaluation/.pyenv/lib/python3.6/site-packages/google/auth/_default.py:66: UserWarning: Your application has authenticated using end user credentials from Google Cloud SDK. We recommend that most server applications use service accounts instead. If your application continues to use end user credentials from Cloud SDK, you might receive a \"quota exceeded\" or \"API not enabled\" error. For more information about service accounts, see https://cloud.google.com/docs/authentication/\n",
      "  warnings.warn(_CLOUD_SDK_CREDENTIALS_WARNING)\n"
     ]
    },
    {
     "name": "stdout",
     "output_type": "stream",
     "text": [
      "INFO:tensorflow:Waiting for prediction job to complete. Minutes elapsed: 0\n",
      "INFO:tensorflow:Waiting for prediction job to complete. Minutes elapsed: 2\n",
      "INFO:tensorflow:Prediction job completed.\n"
     ]
    }
   ],
   "source": [
    "# Set recompute_predictions=False to save time if predictions are available.\n",
    "test_dataset.add_model_prediction_to_data(model, recompute_predictions=True)"
   ]
  },
  {
   "cell_type": "code",
   "execution_count": 149,
   "metadata": {},
   "outputs": [],
   "source": [
    "toxicity_test_df1 = test_dataset.show_data()"
   ]
  },
  {
   "cell_type": "code",
   "execution_count": 150,
   "metadata": {},
   "outputs": [
    {
     "name": "stdout",
     "output_type": "stream",
     "text": [
      "tf_cnn_toxicity_glove:v_20190219_185532\n",
      "\tROC AUC: 0.951760553925346\n",
      "\tPR AUC: 0.8740274773143215\n",
      "tf_gru_attention_toxicity_glove:v_20190219_185516\n",
      "\tROC AUC: 0.9543916575133977\n",
      "\tPR AUC: 0.8814208812923074\n"
     ]
    }
   ],
   "source": [
    "print_results(toxicity_test_df1, MODEL_NAMES)"
   ]
  },
  {
   "cell_type": "markdown",
   "metadata": {},
   "source": [
    "### TF-Hub Model"
   ]
  },
  {
   "cell_type": "code",
   "execution_count": 196,
   "metadata": {},
   "outputs": [],
   "source": [
    "MODEL_TEXT_FEATURE = 'text'\n",
    "MODEL_NAMES = [\n",
    "    'tf_hub_classifier_toxicity:v20190322_142740_24239_1553555427',\n",
    "]\n",
    "\n",
    "model_input_spec = {\n",
    "    MODEL_TEXT_FEATURE: utils_tfrecords.EncodingFeatureSpec.LIST_STRING\n",
    "}\n",
    "\n",
    "model = Model(\n",
    "    feature_keys_spec=model_input_spec,\n",
    "    prediction_keys=LABEL_NAME_PREDICTION_MODEL,\n",
    "    example_key=SENTENCE_KEY,\n",
    "    model_names=MODEL_NAMES,\n",
    "    project_name=PROJECT_NAME)\n",
    "\n",
    "test_input_fn = make_test_input_fn(\n",
    "    DATASET, MODEL_TEXT_FEATURE, DATASET_TEXT_FEATURE,\n",
    "    DATA_LABEL, None)"
   ]
  },
  {
   "cell_type": "code",
   "execution_count": 197,
   "metadata": {},
   "outputs": [
    {
     "name": "stderr",
     "output_type": "stream",
     "text": [
      "/usr/local/google/home/msushkov/code/conversationai-models/model_evaluation/.pyenv/lib/python3.6/site-packages/tensorflow/python/client/session.py:1702: UserWarning: An interactive session is already active. This can cause out-of-memory errors in some cases. You must explicitly call `InteractiveSession.close()` to release resources held by the other session(s).\n",
      "  warnings.warn('An interactive session is already active. This can '\n"
     ]
    },
    {
     "name": "stdout",
     "output_type": "stream",
     "text": [
      "INFO:tensorflow:input_fn is compatible with the `Dataset` class.\n",
      "INFO:tensorflow:Loaded 100000 lines.\n",
      "INFO:tensorflow:End of file.\n"
     ]
    }
   ],
   "source": [
    "# Need to set seed before loading data to be able to reload same data in the future\n",
    "random.seed(2018)\n",
    "\n",
    "test_dataset = Dataset(test_input_fn, OUTPUT_DIR)\n",
    "test_dataset.load_data(10000000)"
   ]
  },
  {
   "cell_type": "code",
   "execution_count": 199,
   "metadata": {},
   "outputs": [
    {
     "name": "stdout",
     "output_type": "stream",
     "text": [
      "INFO:tensorflow:Model is compatible with the `Dataset` instance.\n",
      "INFO:tensorflow:Doing batch 0/0\n",
      "INFO:tensorflow:TF-Records already exist - overwriting them.\n",
      "INFO:tensorflow:Preparing train data: 0/187681\n",
      "INFO:tensorflow:Preparing train data: 10000/187681\n",
      "INFO:tensorflow:Preparing train data: 20000/187681\n",
      "INFO:tensorflow:Preparing train data: 30000/187681\n",
      "INFO:tensorflow:Preparing train data: 40000/187681\n",
      "INFO:tensorflow:Preparing train data: 50000/187681\n",
      "INFO:tensorflow:Preparing train data: 60000/187681\n",
      "INFO:tensorflow:Preparing train data: 70000/187681\n",
      "INFO:tensorflow:Preparing train data: 80000/187681\n",
      "INFO:tensorflow:Preparing train data: 90000/187681\n",
      "INFO:tensorflow:Preparing train data: 100000/187681\n",
      "INFO:tensorflow:Preparing train data: 110000/187681\n",
      "INFO:tensorflow:Preparing train data: 120000/187681\n",
      "INFO:tensorflow:Preparing train data: 130000/187681\n",
      "INFO:tensorflow:Preparing train data: 140000/187681\n",
      "INFO:tensorflow:Preparing train data: 150000/187681\n",
      "INFO:tensorflow:Preparing train data: 160000/187681\n",
      "INFO:tensorflow:Preparing train data: 170000/187681\n",
      "INFO:tensorflow:Preparing train data: 180000/187681\n"
     ]
    },
    {
     "name": "stderr",
     "output_type": "stream",
     "text": [
      "/usr/local/google/home/msushkov/code/conversationai-models/model_evaluation/.pyenv/lib/python3.6/site-packages/google/auth/_default.py:66: UserWarning: Your application has authenticated using end user credentials from Google Cloud SDK. We recommend that most server applications use service accounts instead. If your application continues to use end user credentials from Cloud SDK, you might receive a \"quota exceeded\" or \"API not enabled\" error. For more information about service accounts, see https://cloud.google.com/docs/authentication/\n",
      "  warnings.warn(_CLOUD_SDK_CREDENTIALS_WARNING)\n"
     ]
    },
    {
     "name": "stdout",
     "output_type": "stream",
     "text": [
      "INFO:tensorflow:state : QUEUED\n"
     ]
    },
    {
     "name": "stderr",
     "output_type": "stream",
     "text": [
      "/usr/local/google/home/msushkov/code/conversationai-models/model_evaluation/.pyenv/lib/python3.6/site-packages/google/auth/_default.py:66: UserWarning: Your application has authenticated using end user credentials from Google Cloud SDK. We recommend that most server applications use service accounts instead. If your application continues to use end user credentials from Cloud SDK, you might receive a \"quota exceeded\" or \"API not enabled\" error. For more information about service accounts, see https://cloud.google.com/docs/authentication/\n",
      "  warnings.warn(_CLOUD_SDK_CREDENTIALS_WARNING)\n"
     ]
    },
    {
     "name": "stdout",
     "output_type": "stream",
     "text": [
      "INFO:tensorflow:Waiting for prediction job to complete. Minutes elapsed: 0\n",
      "INFO:tensorflow:Waiting for prediction job to complete. Minutes elapsed: 2\n",
      "INFO:tensorflow:Waiting for prediction job to complete. Minutes elapsed: 5\n",
      "INFO:tensorflow:Waiting for prediction job to complete. Minutes elapsed: 7\n",
      "INFO:tensorflow:Waiting for prediction job to complete. Minutes elapsed: 10\n",
      "INFO:tensorflow:Waiting for prediction job to complete. Minutes elapsed: 12\n",
      "INFO:tensorflow:Waiting for prediction job to complete. Minutes elapsed: 15\n",
      "INFO:tensorflow:Waiting for prediction job to complete. Minutes elapsed: 17\n",
      "INFO:tensorflow:Waiting for prediction job to complete. Minutes elapsed: 20\n",
      "INFO:tensorflow:Waiting for prediction job to complete. Minutes elapsed: 22\n",
      "INFO:tensorflow:Waiting for prediction job to complete. Minutes elapsed: 25\n",
      "INFO:tensorflow:Waiting for prediction job to complete. Minutes elapsed: 27\n",
      "INFO:tensorflow:Waiting for prediction job to complete. Minutes elapsed: 30\n",
      "INFO:tensorflow:Waiting for prediction job to complete. Minutes elapsed: 32\n",
      "INFO:tensorflow:Waiting for prediction job to complete. Minutes elapsed: 35\n",
      "INFO:tensorflow:Waiting for prediction job to complete. Minutes elapsed: 37\n",
      "INFO:tensorflow:Waiting for prediction job to complete. Minutes elapsed: 40\n",
      "INFO:tensorflow:Waiting for prediction job to complete. Minutes elapsed: 42\n",
      "INFO:tensorflow:Waiting for prediction job to complete. Minutes elapsed: 45\n",
      "INFO:tensorflow:Waiting for prediction job to complete. Minutes elapsed: 47\n",
      "INFO:tensorflow:Waiting for prediction job to complete. Minutes elapsed: 50\n",
      "INFO:tensorflow:Waiting for prediction job to complete. Minutes elapsed: 52\n",
      "INFO:tensorflow:Waiting for prediction job to complete. Minutes elapsed: 55\n",
      "INFO:tensorflow:Waiting for prediction job to complete. Minutes elapsed: 57\n",
      "INFO:tensorflow:Waiting for prediction job to complete. Minutes elapsed: 60\n",
      "INFO:tensorflow:Waiting for prediction job to complete. Minutes elapsed: 62\n",
      "INFO:tensorflow:Waiting for prediction job to complete. Minutes elapsed: 65\n",
      "INFO:tensorflow:Waiting for prediction job to complete. Minutes elapsed: 67\n",
      "INFO:tensorflow:Waiting for prediction job to complete. Minutes elapsed: 70\n",
      "INFO:tensorflow:Waiting for prediction job to complete. Minutes elapsed: 72\n",
      "INFO:tensorflow:Waiting for prediction job to complete. Minutes elapsed: 75\n",
      "INFO:tensorflow:Waiting for prediction job to complete. Minutes elapsed: 77\n",
      "INFO:tensorflow:Waiting for prediction job to complete. Minutes elapsed: 80\n",
      "INFO:tensorflow:Waiting for prediction job to complete. Minutes elapsed: 82\n",
      "INFO:tensorflow:Waiting for prediction job to complete. Minutes elapsed: 85\n",
      "INFO:tensorflow:Waiting for prediction job to complete. Minutes elapsed: 88\n",
      "INFO:tensorflow:Waiting for prediction job to complete. Minutes elapsed: 90\n",
      "INFO:tensorflow:Waiting for prediction job to complete. Minutes elapsed: 93\n",
      "INFO:tensorflow:Waiting for prediction job to complete. Minutes elapsed: 95\n",
      "INFO:tensorflow:Waiting for prediction job to complete. Minutes elapsed: 98\n",
      "INFO:tensorflow:Waiting for prediction job to complete. Minutes elapsed: 100\n",
      "INFO:tensorflow:Waiting for prediction job to complete. Minutes elapsed: 103\n",
      "INFO:tensorflow:Waiting for prediction job to complete. Minutes elapsed: 105\n",
      "INFO:tensorflow:Waiting for prediction job to complete. Minutes elapsed: 108\n",
      "INFO:tensorflow:Waiting for prediction job to complete. Minutes elapsed: 110\n",
      "INFO:tensorflow:Waiting for prediction job to complete. Minutes elapsed: 113\n",
      "INFO:tensorflow:Waiting for prediction job to complete. Minutes elapsed: 115\n",
      "INFO:tensorflow:Waiting for prediction job to complete. Minutes elapsed: 118\n",
      "INFO:tensorflow:Waiting for prediction job to complete. Minutes elapsed: 120\n",
      "INFO:tensorflow:Waiting for prediction job to complete. Minutes elapsed: 123\n",
      "INFO:tensorflow:Waiting for prediction job to complete. Minutes elapsed: 125\n",
      "INFO:tensorflow:Waiting for prediction job to complete. Minutes elapsed: 128\n",
      "INFO:tensorflow:Waiting for prediction job to complete. Minutes elapsed: 130\n",
      "INFO:tensorflow:Waiting for prediction job to complete. Minutes elapsed: 133\n",
      "INFO:tensorflow:Waiting for prediction job to complete. Minutes elapsed: 135\n",
      "INFO:tensorflow:Waiting for prediction job to complete. Minutes elapsed: 138\n",
      "INFO:tensorflow:Waiting for prediction job to complete. Minutes elapsed: 140\n",
      "INFO:tensorflow:Waiting for prediction job to complete. Minutes elapsed: 143\n",
      "INFO:tensorflow:Waiting for prediction job to complete. Minutes elapsed: 145\n",
      "INFO:tensorflow:Waiting for prediction job to complete. Minutes elapsed: 148\n",
      "INFO:tensorflow:Waiting for prediction job to complete. Minutes elapsed: 150\n",
      "INFO:tensorflow:Waiting for prediction job to complete. Minutes elapsed: 153\n",
      "INFO:tensorflow:Waiting for prediction job to complete. Minutes elapsed: 155\n",
      "INFO:tensorflow:Waiting for prediction job to complete. Minutes elapsed: 158\n",
      "INFO:tensorflow:Waiting for prediction job to complete. Minutes elapsed: 160\n",
      "INFO:tensorflow:Waiting for prediction job to complete. Minutes elapsed: 163\n",
      "INFO:tensorflow:Waiting for prediction job to complete. Minutes elapsed: 165\n",
      "INFO:tensorflow:Waiting for prediction job to complete. Minutes elapsed: 168\n",
      "INFO:tensorflow:Waiting for prediction job to complete. Minutes elapsed: 170\n",
      "INFO:tensorflow:Waiting for prediction job to complete. Minutes elapsed: 173\n",
      "INFO:tensorflow:Waiting for prediction job to complete. Minutes elapsed: 176\n",
      "INFO:tensorflow:Waiting for prediction job to complete. Minutes elapsed: 178\n",
      "INFO:tensorflow:Waiting for prediction job to complete. Minutes elapsed: 181\n",
      "INFO:tensorflow:Waiting for prediction job to complete. Minutes elapsed: 183\n",
      "INFO:tensorflow:Waiting for prediction job to complete. Minutes elapsed: 186\n",
      "INFO:tensorflow:Waiting for prediction job to complete. Minutes elapsed: 188\n",
      "INFO:tensorflow:Waiting for prediction job to complete. Minutes elapsed: 191\n",
      "INFO:tensorflow:Waiting for prediction job to complete. Minutes elapsed: 193\n",
      "INFO:tensorflow:Waiting for prediction job to complete. Minutes elapsed: 196\n",
      "INFO:tensorflow:Waiting for prediction job to complete. Minutes elapsed: 198\n",
      "INFO:tensorflow:Waiting for prediction job to complete. Minutes elapsed: 201\n",
      "INFO:tensorflow:Waiting for prediction job to complete. Minutes elapsed: 203\n",
      "INFO:tensorflow:Waiting for prediction job to complete. Minutes elapsed: 206\n",
      "INFO:tensorflow:Waiting for prediction job to complete. Minutes elapsed: 208\n",
      "INFO:tensorflow:Waiting for prediction job to complete. Minutes elapsed: 211\n",
      "INFO:tensorflow:Waiting for prediction job to complete. Minutes elapsed: 213\n",
      "INFO:tensorflow:Waiting for prediction job to complete. Minutes elapsed: 216\n",
      "INFO:tensorflow:Waiting for prediction job to complete. Minutes elapsed: 218\n",
      "INFO:tensorflow:Waiting for prediction job to complete. Minutes elapsed: 221\n",
      "INFO:tensorflow:Waiting for prediction job to complete. Minutes elapsed: 223\n",
      "INFO:tensorflow:Waiting for prediction job to complete. Minutes elapsed: 226\n",
      "INFO:tensorflow:Waiting for prediction job to complete. Minutes elapsed: 228\n",
      "INFO:tensorflow:Waiting for prediction job to complete. Minutes elapsed: 231\n",
      "INFO:tensorflow:Waiting for prediction job to complete. Minutes elapsed: 233\n",
      "INFO:tensorflow:Waiting for prediction job to complete. Minutes elapsed: 236\n",
      "INFO:tensorflow:Waiting for prediction job to complete. Minutes elapsed: 238\n",
      "INFO:tensorflow:Waiting for prediction job to complete. Minutes elapsed: 241\n",
      "INFO:tensorflow:Waiting for prediction job to complete. Minutes elapsed: 243\n",
      "INFO:tensorflow:Waiting for prediction job to complete. Minutes elapsed: 246\n",
      "INFO:tensorflow:Waiting for prediction job to complete. Minutes elapsed: 248\n",
      "INFO:tensorflow:Waiting for prediction job to complete. Minutes elapsed: 251\n",
      "INFO:tensorflow:Waiting for prediction job to complete. Minutes elapsed: 253\n",
      "INFO:tensorflow:Waiting for prediction job to complete. Minutes elapsed: 256\n",
      "INFO:tensorflow:Waiting for prediction job to complete. Minutes elapsed: 258\n",
      "INFO:tensorflow:Waiting for prediction job to complete. Minutes elapsed: 261\n",
      "INFO:tensorflow:Waiting for prediction job to complete. Minutes elapsed: 264\n",
      "INFO:tensorflow:Waiting for prediction job to complete. Minutes elapsed: 266\n"
     ]
    },
    {
     "name": "stdout",
     "output_type": "stream",
     "text": [
      "INFO:tensorflow:Waiting for prediction job to complete. Minutes elapsed: 269\n",
      "INFO:tensorflow:Waiting for prediction job to complete. Minutes elapsed: 271\n",
      "INFO:tensorflow:Waiting for prediction job to complete. Minutes elapsed: 274\n",
      "INFO:tensorflow:Waiting for prediction job to complete. Minutes elapsed: 276\n",
      "INFO:tensorflow:Waiting for prediction job to complete. Minutes elapsed: 279\n",
      "INFO:tensorflow:Waiting for prediction job to complete. Minutes elapsed: 281\n",
      "INFO:tensorflow:Waiting for prediction job to complete. Minutes elapsed: 284\n",
      "INFO:tensorflow:Waiting for prediction job to complete. Minutes elapsed: 286\n",
      "INFO:tensorflow:Waiting for prediction job to complete. Minutes elapsed: 289\n",
      "INFO:tensorflow:Waiting for prediction job to complete. Minutes elapsed: 291\n",
      "INFO:tensorflow:Waiting for prediction job to complete. Minutes elapsed: 294\n",
      "INFO:tensorflow:Waiting for prediction job to complete. Minutes elapsed: 296\n",
      "INFO:tensorflow:Waiting for prediction job to complete. Minutes elapsed: 299\n",
      "INFO:tensorflow:Waiting for prediction job to complete. Minutes elapsed: 301\n",
      "INFO:tensorflow:Waiting for prediction job to complete. Minutes elapsed: 304\n",
      "INFO:tensorflow:Waiting for prediction job to complete. Minutes elapsed: 306\n",
      "INFO:tensorflow:Waiting for prediction job to complete. Minutes elapsed: 309\n",
      "INFO:tensorflow:Waiting for prediction job to complete. Minutes elapsed: 311\n",
      "INFO:tensorflow:Waiting for prediction job to complete. Minutes elapsed: 314\n",
      "INFO:tensorflow:Waiting for prediction job to complete. Minutes elapsed: 316\n",
      "INFO:tensorflow:Waiting for prediction job to complete. Minutes elapsed: 319\n",
      "INFO:tensorflow:Waiting for prediction job to complete. Minutes elapsed: 321\n",
      "INFO:tensorflow:Waiting for prediction job to complete. Minutes elapsed: 324\n",
      "INFO:tensorflow:Waiting for prediction job to complete. Minutes elapsed: 326\n",
      "INFO:tensorflow:Waiting for prediction job to complete. Minutes elapsed: 329\n",
      "INFO:tensorflow:Waiting for prediction job to complete. Minutes elapsed: 331\n",
      "INFO:tensorflow:Waiting for prediction job to complete. Minutes elapsed: 334\n",
      "INFO:tensorflow:Waiting for prediction job to complete. Minutes elapsed: 336\n",
      "INFO:tensorflow:Waiting for prediction job to complete. Minutes elapsed: 339\n",
      "INFO:tensorflow:Waiting for prediction job to complete. Minutes elapsed: 341\n",
      "INFO:tensorflow:Waiting for prediction job to complete. Minutes elapsed: 344\n",
      "INFO:tensorflow:Waiting for prediction job to complete. Minutes elapsed: 346\n",
      "INFO:tensorflow:Waiting for prediction job to complete. Minutes elapsed: 349\n",
      "INFO:tensorflow:Waiting for prediction job to complete. Minutes elapsed: 352\n",
      "INFO:tensorflow:Waiting for prediction job to complete. Minutes elapsed: 354\n",
      "INFO:tensorflow:Waiting for prediction job to complete. Minutes elapsed: 357\n",
      "INFO:tensorflow:Waiting for prediction job to complete. Minutes elapsed: 359\n",
      "INFO:tensorflow:Waiting for prediction job to complete. Minutes elapsed: 362\n",
      "INFO:tensorflow:Waiting for prediction job to complete. Minutes elapsed: 364\n",
      "INFO:tensorflow:Waiting for prediction job to complete. Minutes elapsed: 367\n",
      "INFO:tensorflow:Waiting for prediction job to complete. Minutes elapsed: 369\n",
      "INFO:tensorflow:Waiting for prediction job to complete. Minutes elapsed: 372\n",
      "INFO:tensorflow:Waiting for prediction job to complete. Minutes elapsed: 374\n",
      "INFO:tensorflow:Waiting for prediction job to complete. Minutes elapsed: 377\n",
      "INFO:tensorflow:Waiting for prediction job to complete. Minutes elapsed: 379\n",
      "INFO:tensorflow:Waiting for prediction job to complete. Minutes elapsed: 382\n",
      "INFO:tensorflow:Waiting for prediction job to complete. Minutes elapsed: 384\n",
      "INFO:tensorflow:Waiting for prediction job to complete. Minutes elapsed: 387\n",
      "INFO:tensorflow:Waiting for prediction job to complete. Minutes elapsed: 389\n",
      "INFO:tensorflow:Waiting for prediction job to complete. Minutes elapsed: 392\n",
      "INFO:tensorflow:Waiting for prediction job to complete. Minutes elapsed: 394\n",
      "INFO:tensorflow:Waiting for prediction job to complete. Minutes elapsed: 397\n",
      "INFO:tensorflow:Waiting for prediction job to complete. Minutes elapsed: 399\n",
      "INFO:tensorflow:Waiting for prediction job to complete. Minutes elapsed: 402\n",
      "INFO:tensorflow:Waiting for prediction job to complete. Minutes elapsed: 404\n",
      "INFO:tensorflow:Waiting for prediction job to complete. Minutes elapsed: 407\n",
      "INFO:tensorflow:Waiting for prediction job to complete. Minutes elapsed: 409\n",
      "INFO:tensorflow:Waiting for prediction job to complete. Minutes elapsed: 412\n",
      "INFO:tensorflow:Waiting for prediction job to complete. Minutes elapsed: 414\n",
      "INFO:tensorflow:Waiting for prediction job to complete. Minutes elapsed: 417\n",
      "INFO:tensorflow:Waiting for prediction job to complete. Minutes elapsed: 419\n",
      "INFO:tensorflow:Waiting for prediction job to complete. Minutes elapsed: 422\n",
      "INFO:tensorflow:Waiting for prediction job to complete. Minutes elapsed: 424\n",
      "INFO:tensorflow:Waiting for prediction job to complete. Minutes elapsed: 427\n",
      "INFO:tensorflow:Waiting for prediction job to complete. Minutes elapsed: 429\n",
      "INFO:tensorflow:Waiting for prediction job to complete. Minutes elapsed: 432\n",
      "INFO:tensorflow:Waiting for prediction job to complete. Minutes elapsed: 435\n",
      "INFO:tensorflow:Waiting for prediction job to complete. Minutes elapsed: 437\n",
      "INFO:tensorflow:Waiting for prediction job to complete. Minutes elapsed: 440\n",
      "INFO:tensorflow:Waiting for prediction job to complete. Minutes elapsed: 442\n",
      "INFO:tensorflow:Waiting for prediction job to complete. Minutes elapsed: 445\n",
      "INFO:tensorflow:Waiting for prediction job to complete. Minutes elapsed: 447\n",
      "INFO:tensorflow:Waiting for prediction job to complete. Minutes elapsed: 450\n",
      "INFO:tensorflow:Waiting for prediction job to complete. Minutes elapsed: 452\n",
      "INFO:tensorflow:Waiting for prediction job to complete. Minutes elapsed: 455\n",
      "INFO:tensorflow:Waiting for prediction job to complete. Minutes elapsed: 457\n",
      "INFO:tensorflow:Waiting for prediction job to complete. Minutes elapsed: 460\n",
      "INFO:tensorflow:Waiting for prediction job to complete. Minutes elapsed: 462\n",
      "INFO:tensorflow:Waiting for prediction job to complete. Minutes elapsed: 465\n",
      "INFO:tensorflow:Waiting for prediction job to complete. Minutes elapsed: 467\n",
      "INFO:tensorflow:Waiting for prediction job to complete. Minutes elapsed: 470\n",
      "INFO:tensorflow:Waiting for prediction job to complete. Minutes elapsed: 472\n",
      "INFO:tensorflow:Waiting for prediction job to complete. Minutes elapsed: 475\n",
      "INFO:tensorflow:Waiting for prediction job to complete. Minutes elapsed: 477\n",
      "INFO:tensorflow:Waiting for prediction job to complete. Minutes elapsed: 480\n",
      "INFO:tensorflow:Waiting for prediction job to complete. Minutes elapsed: 482\n",
      "INFO:tensorflow:Waiting for prediction job to complete. Minutes elapsed: 485\n",
      "INFO:tensorflow:Waiting for prediction job to complete. Minutes elapsed: 487\n",
      "INFO:tensorflow:Waiting for prediction job to complete. Minutes elapsed: 490\n",
      "INFO:tensorflow:Waiting for prediction job to complete. Minutes elapsed: 492\n",
      "INFO:tensorflow:Waiting for prediction job to complete. Minutes elapsed: 495\n",
      "INFO:tensorflow:Waiting for prediction job to complete. Minutes elapsed: 497\n",
      "INFO:tensorflow:Waiting for prediction job to complete. Minutes elapsed: 500\n",
      "INFO:tensorflow:Waiting for prediction job to complete. Minutes elapsed: 502\n",
      "INFO:tensorflow:Waiting for prediction job to complete. Minutes elapsed: 505\n",
      "INFO:tensorflow:Waiting for prediction job to complete. Minutes elapsed: 507\n",
      "INFO:tensorflow:Waiting for prediction job to complete. Minutes elapsed: 510\n",
      "INFO:tensorflow:Waiting for prediction job to complete. Minutes elapsed: 512\n",
      "INFO:tensorflow:Waiting for prediction job to complete. Minutes elapsed: 515\n",
      "INFO:tensorflow:Waiting for prediction job to complete. Minutes elapsed: 518\n",
      "INFO:tensorflow:Waiting for prediction job to complete. Minutes elapsed: 520\n",
      "INFO:tensorflow:Waiting for prediction job to complete. Minutes elapsed: 523\n",
      "INFO:tensorflow:Waiting for prediction job to complete. Minutes elapsed: 525\n",
      "INFO:tensorflow:Prediction job completed.\n"
     ]
    }
   ],
   "source": [
    "# Set recompute_predictions=False to save time if predictions are available.\n",
    "test_dataset.add_model_prediction_to_data(model, recompute_predictions=True)"
   ]
  },
  {
   "cell_type": "code",
   "execution_count": 200,
   "metadata": {},
   "outputs": [],
   "source": [
    "toxicity_test_df2 = test_dataset.show_data()"
   ]
  },
  {
   "cell_type": "code",
   "execution_count": 201,
   "metadata": {},
   "outputs": [
    {
     "name": "stdout",
     "output_type": "stream",
     "text": [
      "tf_hub_classifier_toxicity:v20190322_142740_24239_1553555427\n",
      "\tROC AUC: 0.9270843170934745\n",
      "\tPR AUC: 0.8155815559085313\n"
     ]
    }
   ],
   "source": [
    "print_results(toxicity_test_df2, MODEL_NAMES)"
   ]
  },
  {
   "cell_type": "markdown",
   "metadata": {},
   "source": [
    "## Evaluate models on Many Communities dataset (full)"
   ]
  },
  {
   "cell_type": "code",
   "execution_count": 23,
   "metadata": {},
   "outputs": [],
   "source": [
    "LABEL_NAME_PREDICTION_MODEL = 'removed/logistic'\n",
    "DATASET = 'gs://conversationai-models/resources/transfer_learning_data/many_communities/20181105_answers_all_columns_nthain.tfrecord'\n",
    "DATA_LABEL = 'removed'\n",
    "DATASET_TEXT_FEATURE='comment_text'\n",
    "\n",
    "# Pattern for path of tf_records\n",
    "OUTPUT_DIR = os.path.join(OUTPUT_DIR_BASE, 'many_communities_test')"
   ]
  },
  {
   "cell_type": "markdown",
   "metadata": {},
   "source": [
    "### CNN, GRU Attention Models"
   ]
  },
  {
   "cell_type": "code",
   "execution_count": 14,
   "metadata": {},
   "outputs": [],
   "source": [
    "MODEL_TEXT_FEATURE = 'tokens'\n",
    "MODEL_NAMES = [\n",
    "    'tf_cnn_many_communities_glove:v_20190219_185551_gpu_p100_4',\n",
    "    #'tf_gru_attention_many_communities:v20190322_142800_507893_1556085643',\n",
    "    #'tf_gru_attention_many_communities:v20190315_161037_23271_1555129264',\n",
    "    'tf_gru_attention_many_communities:v20190705_004839_507000_1562364428_gpu_p100_4',\n",
    "]\n",
    "\n",
    "model_input_spec = {\n",
    "    MODEL_TEXT_FEATURE: utils_tfrecords.EncodingFeatureSpec.LIST_STRING\n",
    "}\n",
    "\n",
    "model = Model(\n",
    "    feature_keys_spec=model_input_spec,\n",
    "    prediction_keys=LABEL_NAME_PREDICTION_MODEL,\n",
    "    example_key=SENTENCE_KEY,\n",
    "    model_names=MODEL_NAMES,\n",
    "    project_name=PROJECT_NAME)\n",
    "\n",
    "test_input_fn = make_test_input_fn(\n",
    "    DATASET, MODEL_TEXT_FEATURE, DATASET_TEXT_FEATURE,\n",
    "    DATA_LABEL, tokenizer, label_data_type=tf.int64)"
   ]
  },
  {
   "cell_type": "code",
   "execution_count": 15,
   "metadata": {},
   "outputs": [
    {
     "name": "stdout",
     "output_type": "stream",
     "text": [
      "WARNING:tensorflow:From /usr/local/google/home/msushkov/code/conversationai-models/model_evaluation/utils_export/utils_tfrecords.py:144: TFRecordReader.__init__ (from tensorflow.python.ops.io_ops) is deprecated and will be removed in a future version.\n",
      "Instructions for updating:\n",
      "Queue-based input pipelines have been replaced by `tf.data`. Use `tf.data.TFRecordDataset`.\n",
      "WARNING:tensorflow:From /usr/local/google/home/msushkov/code/conversationai-models/model_evaluation/utils_export/utils_tfrecords.py:147: string_input_producer (from tensorflow.python.training.input) is deprecated and will be removed in a future version.\n",
      "Instructions for updating:\n",
      "Queue-based input pipelines have been replaced by `tf.data`. Use `tf.data.Dataset.from_tensor_slices(string_tensor).shuffle(tf.shape(input_tensor, out_type=tf.int64)[0]).repeat(num_epochs)`. If `shuffle=False`, omit the `.shuffle(...)`.\n",
      "WARNING:tensorflow:From /usr/local/google/home/msushkov/code/conversationai-models/model_evaluation/.pyenv/lib/python3.6/site-packages/tensorflow/python/training/input.py:276: input_producer (from tensorflow.python.training.input) is deprecated and will be removed in a future version.\n",
      "Instructions for updating:\n",
      "Queue-based input pipelines have been replaced by `tf.data`. Use `tf.data.Dataset.from_tensor_slices(input_tensor).shuffle(tf.shape(input_tensor, out_type=tf.int64)[0]).repeat(num_epochs)`. If `shuffle=False`, omit the `.shuffle(...)`.\n",
      "WARNING:tensorflow:From /usr/local/google/home/msushkov/code/conversationai-models/model_evaluation/.pyenv/lib/python3.6/site-packages/tensorflow/python/training/input.py:188: limit_epochs (from tensorflow.python.training.input) is deprecated and will be removed in a future version.\n",
      "Instructions for updating:\n",
      "Queue-based input pipelines have been replaced by `tf.data`. Use `tf.data.Dataset.from_tensors(tensor).repeat(num_epochs)`.\n",
      "WARNING:tensorflow:From /usr/local/google/home/msushkov/code/conversationai-models/model_evaluation/.pyenv/lib/python3.6/site-packages/tensorflow/python/training/input.py:197: QueueRunner.__init__ (from tensorflow.python.training.queue_runner_impl) is deprecated and will be removed in a future version.\n",
      "Instructions for updating:\n",
      "To construct input pipelines, use the `tf.data` module.\n",
      "WARNING:tensorflow:From /usr/local/google/home/msushkov/code/conversationai-models/model_evaluation/.pyenv/lib/python3.6/site-packages/tensorflow/python/training/input.py:197: add_queue_runner (from tensorflow.python.training.queue_runner_impl) is deprecated and will be removed in a future version.\n",
      "Instructions for updating:\n",
      "To construct input pipelines, use the `tf.data` module.\n",
      "WARNING:tensorflow:From /usr/local/google/home/msushkov/code/conversationai-models/model_evaluation/utils_export/utils_tfrecords.py:157: start_queue_runners (from tensorflow.python.training.queue_runner_impl) is deprecated and will be removed in a future version.\n",
      "Instructions for updating:\n",
      "To construct input pipelines, use the `tf.data` module.\n",
      "INFO:tensorflow:input_fn is compatible with the `Dataset` class.\n"
     ]
    },
    {
     "name": "stderr",
     "output_type": "stream",
     "text": [
      "/usr/local/google/home/msushkov/code/conversationai-models/model_evaluation/.pyenv/lib/python3.6/site-packages/tensorflow/python/client/session.py:1702: UserWarning: An interactive session is already active. This can cause out-of-memory errors in some cases. You must explicitly call `InteractiveSession.close()` to release resources held by the other session(s).\n",
      "  warnings.warn('An interactive session is already active. This can '\n"
     ]
    },
    {
     "name": "stdout",
     "output_type": "stream",
     "text": [
      "INFO:tensorflow:End of file.\n"
     ]
    }
   ],
   "source": [
    "# Need to set seed before loading data to be able to reload same data in the future\n",
    "random.seed(2018)\n",
    "\n",
    "test_dataset = Dataset(test_input_fn, OUTPUT_DIR)\n",
    "test_dataset.load_data(100000000)"
   ]
  },
  {
   "cell_type": "code",
   "execution_count": 16,
   "metadata": {},
   "outputs": [
    {
     "name": "stdout",
     "output_type": "stream",
     "text": [
      "INFO:tensorflow:Model is compatible with the `Dataset` instance.\n",
      "INFO:tensorflow:Doing batch 0/0\n",
      "INFO:tensorflow:TF-Records already exist - overwriting them.\n",
      "INFO:tensorflow:Preparing train data: 0/1000\n"
     ]
    },
    {
     "name": "stderr",
     "output_type": "stream",
     "text": [
      "/usr/local/google/home/msushkov/code/conversationai-models/model_evaluation/.pyenv/lib/python3.6/site-packages/google/auth/_default.py:66: UserWarning: Your application has authenticated using end user credentials from Google Cloud SDK. We recommend that most server applications use service accounts instead. If your application continues to use end user credentials from Cloud SDK, you might receive a \"quota exceeded\" or \"API not enabled\" error. For more information about service accounts, see https://cloud.google.com/docs/authentication/\n",
      "  warnings.warn(_CLOUD_SDK_CREDENTIALS_WARNING)\n"
     ]
    },
    {
     "name": "stdout",
     "output_type": "stream",
     "text": [
      "INFO:tensorflow:state : QUEUED\n"
     ]
    },
    {
     "name": "stderr",
     "output_type": "stream",
     "text": [
      "/usr/local/google/home/msushkov/code/conversationai-models/model_evaluation/.pyenv/lib/python3.6/site-packages/google/auth/_default.py:66: UserWarning: Your application has authenticated using end user credentials from Google Cloud SDK. We recommend that most server applications use service accounts instead. If your application continues to use end user credentials from Cloud SDK, you might receive a \"quota exceeded\" or \"API not enabled\" error. For more information about service accounts, see https://cloud.google.com/docs/authentication/\n",
      "  warnings.warn(_CLOUD_SDK_CREDENTIALS_WARNING)\n"
     ]
    },
    {
     "name": "stdout",
     "output_type": "stream",
     "text": [
      "INFO:tensorflow:state : QUEUED\n"
     ]
    },
    {
     "name": "stderr",
     "output_type": "stream",
     "text": [
      "/usr/local/google/home/msushkov/code/conversationai-models/model_evaluation/.pyenv/lib/python3.6/site-packages/google/auth/_default.py:66: UserWarning: Your application has authenticated using end user credentials from Google Cloud SDK. We recommend that most server applications use service accounts instead. If your application continues to use end user credentials from Cloud SDK, you might receive a \"quota exceeded\" or \"API not enabled\" error. For more information about service accounts, see https://cloud.google.com/docs/authentication/\n",
      "  warnings.warn(_CLOUD_SDK_CREDENTIALS_WARNING)\n"
     ]
    },
    {
     "name": "stdout",
     "output_type": "stream",
     "text": [
      "INFO:tensorflow:Waiting for prediction job to complete. Minutes elapsed: 0\n",
      "INFO:tensorflow:Waiting for prediction job to complete. Minutes elapsed: 2\n",
      "INFO:tensorflow:Waiting for prediction job to complete. Minutes elapsed: 5\n",
      "INFO:tensorflow:Prediction job completed.\n"
     ]
    },
    {
     "name": "stderr",
     "output_type": "stream",
     "text": [
      "/usr/local/google/home/msushkov/code/conversationai-models/model_evaluation/.pyenv/lib/python3.6/site-packages/google/auth/_default.py:66: UserWarning: Your application has authenticated using end user credentials from Google Cloud SDK. We recommend that most server applications use service accounts instead. If your application continues to use end user credentials from Cloud SDK, you might receive a \"quota exceeded\" or \"API not enabled\" error. For more information about service accounts, see https://cloud.google.com/docs/authentication/\n",
      "  warnings.warn(_CLOUD_SDK_CREDENTIALS_WARNING)\n"
     ]
    },
    {
     "name": "stdout",
     "output_type": "stream",
     "text": [
      "INFO:tensorflow:Prediction job completed.\n"
     ]
    }
   ],
   "source": [
    "# Set recompute_predictions=False to save time if predictions are available.\n",
    "test_dataset.add_model_prediction_to_data(model, recompute_predictions=True)"
   ]
  },
  {
   "cell_type": "code",
   "execution_count": 318,
   "metadata": {},
   "outputs": [],
   "source": [
    "many_communities_test_df = test_dataset.show_data()"
   ]
  },
  {
   "cell_type": "code",
   "execution_count": 319,
   "metadata": {},
   "outputs": [
    {
     "name": "stdout",
     "output_type": "stream",
     "text": [
      "tf_cnn_many_communities_glove:v_20190219_185551\n",
      "\tROC AUC: 0.7476941464055139\n",
      "\tPR AUC: 0.07604839414024091\n",
      "tf_gru_attention_many_communities:v20190315_161037_23271_1555129264\n",
      "\tROC AUC: 0.7215269560475308\n",
      "\tPR AUC: 0.06656538517176142\n"
     ]
    }
   ],
   "source": [
    "print_results(many_communities_test_df, MODEL_NAMES)"
   ]
  },
  {
   "cell_type": "markdown",
   "metadata": {},
   "source": [
    "### TF-Hub Model"
   ]
  },
  {
   "cell_type": "code",
   "execution_count": 24,
   "metadata": {},
   "outputs": [],
   "source": [
    "MODEL_TEXT_FEATURE = 'text'\n",
    "MODEL_NAMES = [\n",
    "    'tf_hub_classifier_many_communities:v20190219_185602_316000_1553563221_gpu_v100_4',\n",
    "]\n",
    "\n",
    "model_input_spec = {\n",
    "    MODEL_TEXT_FEATURE: utils_tfrecords.EncodingFeatureSpec.LIST_STRING\n",
    "}\n",
    "\n",
    "model = Model(\n",
    "    feature_keys_spec=model_input_spec,\n",
    "    prediction_keys=LABEL_NAME_PREDICTION_MODEL,\n",
    "    example_key=SENTENCE_KEY,\n",
    "    model_names=MODEL_NAMES,\n",
    "    project_name=PROJECT_NAME)\n",
    "\n",
    "test_input_fn = make_test_input_fn(\n",
    "    DATASET, MODEL_TEXT_FEATURE, DATASET_TEXT_FEATURE,\n",
    "    DATA_LABEL, None, label_data_type=tf.int64)"
   ]
  },
  {
   "cell_type": "code",
   "execution_count": 25,
   "metadata": {
    "scrolled": true
   },
   "outputs": [
    {
     "name": "stdout",
     "output_type": "stream",
     "text": [
      "INFO:tensorflow:input_fn is compatible with the `Dataset` class.\n",
      "INFO:tensorflow:Loaded 100000 lines.\n",
      "INFO:tensorflow:Loaded 200000 lines.\n",
      "INFO:tensorflow:Loaded 300000 lines.\n",
      "INFO:tensorflow:Loaded 400000 lines.\n",
      "INFO:tensorflow:Loaded 500000 lines.\n",
      "INFO:tensorflow:Loaded 600000 lines.\n",
      "INFO:tensorflow:Loaded 700000 lines.\n",
      "INFO:tensorflow:Loaded 800000 lines.\n",
      "INFO:tensorflow:Loaded 900000 lines.\n",
      "INFO:tensorflow:Loaded 1000000 lines.\n",
      "INFO:tensorflow:Loaded 1100000 lines.\n",
      "INFO:tensorflow:Loaded 1200000 lines.\n",
      "INFO:tensorflow:Loaded 1300000 lines.\n",
      "INFO:tensorflow:Loaded 1400000 lines.\n",
      "INFO:tensorflow:Loaded 1500000 lines.\n",
      "INFO:tensorflow:Loaded 1600000 lines.\n",
      "INFO:tensorflow:Loaded 1700000 lines.\n",
      "INFO:tensorflow:Loaded 1800000 lines.\n",
      "INFO:tensorflow:Loaded 1900000 lines.\n",
      "INFO:tensorflow:Loaded 2000000 lines.\n",
      "INFO:tensorflow:Loaded 2100000 lines.\n",
      "INFO:tensorflow:Loaded 2200000 lines.\n",
      "INFO:tensorflow:Loaded 2300000 lines.\n",
      "INFO:tensorflow:Loaded 2400000 lines.\n",
      "INFO:tensorflow:Loaded 2500000 lines.\n",
      "INFO:tensorflow:Loaded 2600000 lines.\n",
      "INFO:tensorflow:Loaded 2700000 lines.\n",
      "INFO:tensorflow:Loaded 2800000 lines.\n",
      "INFO:tensorflow:Loaded 2900000 lines.\n",
      "INFO:tensorflow:Loaded 3000000 lines.\n",
      "INFO:tensorflow:Loaded 3100000 lines.\n",
      "INFO:tensorflow:Loaded 3200000 lines.\n",
      "INFO:tensorflow:Loaded 3300000 lines.\n",
      "INFO:tensorflow:Loaded 3400000 lines.\n",
      "INFO:tensorflow:Loaded 3500000 lines.\n",
      "INFO:tensorflow:Loaded 3600000 lines.\n",
      "INFO:tensorflow:Loaded 3700000 lines.\n",
      "INFO:tensorflow:Loaded 3800000 lines.\n",
      "INFO:tensorflow:Loaded 3900000 lines.\n",
      "INFO:tensorflow:Loaded 4000000 lines.\n",
      "INFO:tensorflow:Loaded 4100000 lines.\n",
      "INFO:tensorflow:Loaded 4200000 lines.\n",
      "INFO:tensorflow:Loaded 4300000 lines.\n",
      "INFO:tensorflow:Loaded 4400000 lines.\n",
      "INFO:tensorflow:Loaded 4500000 lines.\n",
      "INFO:tensorflow:Loaded 4600000 lines.\n",
      "INFO:tensorflow:Loaded 4700000 lines.\n",
      "INFO:tensorflow:Loaded 4800000 lines.\n",
      "INFO:tensorflow:Loaded 4900000 lines.\n",
      "INFO:tensorflow:Loaded 5000000 lines.\n",
      "INFO:tensorflow:Loaded 5100000 lines.\n",
      "INFO:tensorflow:Loaded 5200000 lines.\n",
      "INFO:tensorflow:Loaded 5300000 lines.\n",
      "INFO:tensorflow:Loaded 5400000 lines.\n",
      "INFO:tensorflow:Loaded 5500000 lines.\n",
      "INFO:tensorflow:Loaded 5600000 lines.\n",
      "INFO:tensorflow:Loaded 5700000 lines.\n",
      "INFO:tensorflow:End of file.\n"
     ]
    }
   ],
   "source": [
    "# Need to set seed before loading data to be able to reload same data in the future\n",
    "random.seed(2018)\n",
    "\n",
    "test_dataset = Dataset(test_input_fn, OUTPUT_DIR)\n",
    "test_dataset.load_data(10000000)"
   ]
  },
  {
   "cell_type": "code",
   "execution_count": null,
   "metadata": {},
   "outputs": [],
   "source": [
    "# Set recompute_predictions=False to save time if predictions are available.\n",
    "test_dataset.add_model_prediction_to_data(model, recompute_predictions=True)"
   ]
  },
  {
   "cell_type": "code",
   "execution_count": 16,
   "metadata": {},
   "outputs": [],
   "source": [
    "many_communities_tfhub_test_df = test_dataset.show_data()"
   ]
  },
  {
   "cell_type": "code",
   "execution_count": null,
   "metadata": {},
   "outputs": [],
   "source": [
    "print_results(many_communities_tfhub_test_df, MODEL_NAMES)"
   ]
  },
  {
   "cell_type": "markdown",
   "metadata": {},
   "source": [
    "## Evaluate models on Many Communities subset"
   ]
  },
  {
   "cell_type": "code",
   "execution_count": 11,
   "metadata": {},
   "outputs": [],
   "source": [
    "LABEL_NAME_PREDICTION_MODEL = 'label/logistic'\n",
    "DATASET_VALID = 'gs://conversationai-models/resources/transfer_learning_data/many_communities_40_per_8_shot/validation_query..tfrecord'\n",
    "DATASET_TEST = 'gs://conversationai-models/resources/transfer_learning_data/many_communities_40_per_8_shot/test_query..tfrecord'\n",
    "DATA_LABEL = 'label'\n",
    "DATASET_TEXT_FEATURE='text'"
   ]
  },
  {
   "cell_type": "markdown",
   "metadata": {},
   "source": [
    "### Pessimistic"
   ]
  },
  {
   "cell_type": "code",
   "execution_count": 12,
   "metadata": {},
   "outputs": [],
   "source": [
    "# Pattern for path of tf_records\n",
    "OUTPUT_DIR_VALID = os.path.join(OUTPUT_DIR_BASE, 'many_communities_40_per_8_shot/pessimistic/valid')\n",
    "OUTPUT_DIR_TEST = os.path.join(OUTPUT_DIR_BASE, 'many_communities_40_per_8_shot/pessimistic/test')"
   ]
  },
  {
   "cell_type": "markdown",
   "metadata": {},
   "source": [
    "#### CNN, GRU Attention Models"
   ]
  },
  {
   "cell_type": "code",
   "execution_count": 13,
   "metadata": {},
   "outputs": [],
   "source": [
    "MODEL_TEXT_FEATURE = 'tokens'\n",
    "MODEL_NAMES = [\n",
    "    'tf_cnn_many_communities_40_per_8_shot_pessimistic:v20190723_110543_2800_1563906804_gpu_k80_1',\n",
    "    'tf_gru_attention_many_communities_40_per_8_shot_pessimistic:v20190723_110533_4400_1563906956_gpu_k80_1',\n",
    "]\n",
    "\n",
    "model_input_spec = {\n",
    "    MODEL_TEXT_FEATURE: utils_tfrecords.EncodingFeatureSpec.LIST_STRING\n",
    "}\n",
    "\n",
    "model = Model(\n",
    "    feature_keys_spec=model_input_spec,\n",
    "    prediction_keys=LABEL_NAME_PREDICTION_MODEL,\n",
    "    example_key=SENTENCE_KEY,\n",
    "    model_names=MODEL_NAMES,\n",
    "    project_name=PROJECT_NAME)\n",
    "\n",
    "valid_input_fn = make_test_input_fn(\n",
    "    DATASET_VALID, MODEL_TEXT_FEATURE, DATASET_TEXT_FEATURE,\n",
    "    DATA_LABEL, tokenizer, label_data_type=tf.int64)\n",
    "\n",
    "test_input_fn = make_test_input_fn(\n",
    "    DATASET_TEST, MODEL_TEXT_FEATURE, DATASET_TEXT_FEATURE,\n",
    "    DATA_LABEL, tokenizer, label_data_type=tf.int64)"
   ]
  },
  {
   "cell_type": "code",
   "execution_count": 14,
   "metadata": {},
   "outputs": [
    {
     "name": "stdout",
     "output_type": "stream",
     "text": [
      "WARNING:tensorflow:From /usr/local/google/home/msushkov/code/conversationai-models/model_evaluation/utils_export/utils_tfrecords.py:144: TFRecordReader.__init__ (from tensorflow.python.ops.io_ops) is deprecated and will be removed in a future version.\n",
      "Instructions for updating:\n",
      "Queue-based input pipelines have been replaced by `tf.data`. Use `tf.data.TFRecordDataset`.\n",
      "WARNING:tensorflow:From /usr/local/google/home/msushkov/code/conversationai-models/model_evaluation/utils_export/utils_tfrecords.py:147: string_input_producer (from tensorflow.python.training.input) is deprecated and will be removed in a future version.\n",
      "Instructions for updating:\n",
      "Queue-based input pipelines have been replaced by `tf.data`. Use `tf.data.Dataset.from_tensor_slices(string_tensor).shuffle(tf.shape(input_tensor, out_type=tf.int64)[0]).repeat(num_epochs)`. If `shuffle=False`, omit the `.shuffle(...)`.\n",
      "WARNING:tensorflow:From /usr/local/google/home/msushkov/code/conversationai-models/model_evaluation/.pyenv/lib/python3.6/site-packages/tensorflow/python/training/input.py:276: input_producer (from tensorflow.python.training.input) is deprecated and will be removed in a future version.\n",
      "Instructions for updating:\n",
      "Queue-based input pipelines have been replaced by `tf.data`. Use `tf.data.Dataset.from_tensor_slices(input_tensor).shuffle(tf.shape(input_tensor, out_type=tf.int64)[0]).repeat(num_epochs)`. If `shuffle=False`, omit the `.shuffle(...)`.\n",
      "WARNING:tensorflow:From /usr/local/google/home/msushkov/code/conversationai-models/model_evaluation/.pyenv/lib/python3.6/site-packages/tensorflow/python/training/input.py:188: limit_epochs (from tensorflow.python.training.input) is deprecated and will be removed in a future version.\n",
      "Instructions for updating:\n",
      "Queue-based input pipelines have been replaced by `tf.data`. Use `tf.data.Dataset.from_tensors(tensor).repeat(num_epochs)`.\n",
      "WARNING:tensorflow:From /usr/local/google/home/msushkov/code/conversationai-models/model_evaluation/.pyenv/lib/python3.6/site-packages/tensorflow/python/training/input.py:197: QueueRunner.__init__ (from tensorflow.python.training.queue_runner_impl) is deprecated and will be removed in a future version.\n",
      "Instructions for updating:\n",
      "To construct input pipelines, use the `tf.data` module.\n",
      "WARNING:tensorflow:From /usr/local/google/home/msushkov/code/conversationai-models/model_evaluation/.pyenv/lib/python3.6/site-packages/tensorflow/python/training/input.py:197: add_queue_runner (from tensorflow.python.training.queue_runner_impl) is deprecated and will be removed in a future version.\n",
      "Instructions for updating:\n",
      "To construct input pipelines, use the `tf.data` module.\n",
      "WARNING:tensorflow:From /usr/local/google/home/msushkov/code/conversationai-models/model_evaluation/utils_export/utils_tfrecords.py:157: start_queue_runners (from tensorflow.python.training.queue_runner_impl) is deprecated and will be removed in a future version.\n",
      "Instructions for updating:\n",
      "To construct input pipelines, use the `tf.data` module.\n",
      "INFO:tensorflow:input_fn is compatible with the `Dataset` class.\n"
     ]
    },
    {
     "name": "stderr",
     "output_type": "stream",
     "text": [
      "/usr/local/google/home/msushkov/code/conversationai-models/model_evaluation/.pyenv/lib/python3.6/site-packages/tensorflow/python/client/session.py:1702: UserWarning: An interactive session is already active. This can cause out-of-memory errors in some cases. You must explicitly call `InteractiveSession.close()` to release resources held by the other session(s).\n",
      "  warnings.warn('An interactive session is already active. This can '\n"
     ]
    },
    {
     "name": "stdout",
     "output_type": "stream",
     "text": [
      "INFO:tensorflow:End of file.\n"
     ]
    }
   ],
   "source": [
    "# Need to set seed before loading data to be able to reload same data in the future\n",
    "random.seed(2018)\n",
    "\n",
    "valid_dataset = Dataset(valid_input_fn, OUTPUT_DIR_VALID)\n",
    "valid_dataset.load_data(100000000)"
   ]
  },
  {
   "cell_type": "code",
   "execution_count": 15,
   "metadata": {},
   "outputs": [
    {
     "name": "stdout",
     "output_type": "stream",
     "text": [
      "INFO:tensorflow:input_fn is compatible with the `Dataset` class.\n",
      "INFO:tensorflow:End of file.\n"
     ]
    }
   ],
   "source": [
    "# Need to set seed before loading data to be able to reload same data in the future\n",
    "random.seed(2018)\n",
    "\n",
    "test_dataset = Dataset(test_input_fn, OUTPUT_DIR_TEST)\n",
    "test_dataset.load_data(100000000)"
   ]
  },
  {
   "cell_type": "code",
   "execution_count": 16,
   "metadata": {},
   "outputs": [
    {
     "name": "stdout",
     "output_type": "stream",
     "text": [
      "INFO:tensorflow:Model is compatible with the `Dataset` instance.\n",
      "INFO:tensorflow:Doing batch 0/0\n",
      "INFO:tensorflow:Preparing train data: 0/4080\n"
     ]
    },
    {
     "name": "stderr",
     "output_type": "stream",
     "text": [
      "/usr/local/google/home/msushkov/code/conversationai-models/model_evaluation/.pyenv/lib/python3.6/site-packages/google/auth/_default.py:66: UserWarning: Your application has authenticated using end user credentials from Google Cloud SDK. We recommend that most server applications use service accounts instead. If your application continues to use end user credentials from Cloud SDK, you might receive a \"quota exceeded\" or \"API not enabled\" error. For more information about service accounts, see https://cloud.google.com/docs/authentication/\n",
      "  warnings.warn(_CLOUD_SDK_CREDENTIALS_WARNING)\n"
     ]
    },
    {
     "name": "stdout",
     "output_type": "stream",
     "text": [
      "INFO:tensorflow:state : QUEUED\n"
     ]
    },
    {
     "name": "stderr",
     "output_type": "stream",
     "text": [
      "/usr/local/google/home/msushkov/code/conversationai-models/model_evaluation/.pyenv/lib/python3.6/site-packages/google/auth/_default.py:66: UserWarning: Your application has authenticated using end user credentials from Google Cloud SDK. We recommend that most server applications use service accounts instead. If your application continues to use end user credentials from Cloud SDK, you might receive a \"quota exceeded\" or \"API not enabled\" error. For more information about service accounts, see https://cloud.google.com/docs/authentication/\n",
      "  warnings.warn(_CLOUD_SDK_CREDENTIALS_WARNING)\n"
     ]
    },
    {
     "name": "stdout",
     "output_type": "stream",
     "text": [
      "INFO:tensorflow:state : QUEUED\n"
     ]
    },
    {
     "name": "stderr",
     "output_type": "stream",
     "text": [
      "/usr/local/google/home/msushkov/code/conversationai-models/model_evaluation/.pyenv/lib/python3.6/site-packages/google/auth/_default.py:66: UserWarning: Your application has authenticated using end user credentials from Google Cloud SDK. We recommend that most server applications use service accounts instead. If your application continues to use end user credentials from Cloud SDK, you might receive a \"quota exceeded\" or \"API not enabled\" error. For more information about service accounts, see https://cloud.google.com/docs/authentication/\n",
      "  warnings.warn(_CLOUD_SDK_CREDENTIALS_WARNING)\n"
     ]
    },
    {
     "name": "stdout",
     "output_type": "stream",
     "text": [
      "INFO:tensorflow:Waiting for prediction job to complete. Minutes elapsed: 0\n",
      "INFO:tensorflow:Waiting for prediction job to complete. Minutes elapsed: 2\n",
      "INFO:tensorflow:Waiting for prediction job to complete. Minutes elapsed: 5\n",
      "INFO:tensorflow:Prediction job completed.\n"
     ]
    },
    {
     "name": "stderr",
     "output_type": "stream",
     "text": [
      "/usr/local/google/home/msushkov/code/conversationai-models/model_evaluation/.pyenv/lib/python3.6/site-packages/google/auth/_default.py:66: UserWarning: Your application has authenticated using end user credentials from Google Cloud SDK. We recommend that most server applications use service accounts instead. If your application continues to use end user credentials from Cloud SDK, you might receive a \"quota exceeded\" or \"API not enabled\" error. For more information about service accounts, see https://cloud.google.com/docs/authentication/\n",
      "  warnings.warn(_CLOUD_SDK_CREDENTIALS_WARNING)\n"
     ]
    },
    {
     "name": "stdout",
     "output_type": "stream",
     "text": [
      "INFO:tensorflow:Prediction job completed.\n",
      "INFO:tensorflow:Model is compatible with the `Dataset` instance.\n",
      "INFO:tensorflow:Doing batch 0/0\n",
      "INFO:tensorflow:Preparing train data: 0/4104\n"
     ]
    },
    {
     "name": "stderr",
     "output_type": "stream",
     "text": [
      "/usr/local/google/home/msushkov/code/conversationai-models/model_evaluation/.pyenv/lib/python3.6/site-packages/google/auth/_default.py:66: UserWarning: Your application has authenticated using end user credentials from Google Cloud SDK. We recommend that most server applications use service accounts instead. If your application continues to use end user credentials from Cloud SDK, you might receive a \"quota exceeded\" or \"API not enabled\" error. For more information about service accounts, see https://cloud.google.com/docs/authentication/\n",
      "  warnings.warn(_CLOUD_SDK_CREDENTIALS_WARNING)\n"
     ]
    },
    {
     "name": "stdout",
     "output_type": "stream",
     "text": [
      "INFO:tensorflow:state : QUEUED\n"
     ]
    },
    {
     "name": "stderr",
     "output_type": "stream",
     "text": [
      "/usr/local/google/home/msushkov/code/conversationai-models/model_evaluation/.pyenv/lib/python3.6/site-packages/google/auth/_default.py:66: UserWarning: Your application has authenticated using end user credentials from Google Cloud SDK. We recommend that most server applications use service accounts instead. If your application continues to use end user credentials from Cloud SDK, you might receive a \"quota exceeded\" or \"API not enabled\" error. For more information about service accounts, see https://cloud.google.com/docs/authentication/\n",
      "  warnings.warn(_CLOUD_SDK_CREDENTIALS_WARNING)\n"
     ]
    },
    {
     "name": "stdout",
     "output_type": "stream",
     "text": [
      "INFO:tensorflow:state : QUEUED\n"
     ]
    },
    {
     "name": "stderr",
     "output_type": "stream",
     "text": [
      "/usr/local/google/home/msushkov/code/conversationai-models/model_evaluation/.pyenv/lib/python3.6/site-packages/google/auth/_default.py:66: UserWarning: Your application has authenticated using end user credentials from Google Cloud SDK. We recommend that most server applications use service accounts instead. If your application continues to use end user credentials from Cloud SDK, you might receive a \"quota exceeded\" or \"API not enabled\" error. For more information about service accounts, see https://cloud.google.com/docs/authentication/\n",
      "  warnings.warn(_CLOUD_SDK_CREDENTIALS_WARNING)\n"
     ]
    },
    {
     "name": "stdout",
     "output_type": "stream",
     "text": [
      "INFO:tensorflow:Waiting for prediction job to complete. Minutes elapsed: 0\n",
      "INFO:tensorflow:Waiting for prediction job to complete. Minutes elapsed: 2\n",
      "INFO:tensorflow:Waiting for prediction job to complete. Minutes elapsed: 5\n",
      "INFO:tensorflow:Prediction job completed.\n"
     ]
    },
    {
     "name": "stderr",
     "output_type": "stream",
     "text": [
      "/usr/local/google/home/msushkov/code/conversationai-models/model_evaluation/.pyenv/lib/python3.6/site-packages/google/auth/_default.py:66: UserWarning: Your application has authenticated using end user credentials from Google Cloud SDK. We recommend that most server applications use service accounts instead. If your application continues to use end user credentials from Cloud SDK, you might receive a \"quota exceeded\" or \"API not enabled\" error. For more information about service accounts, see https://cloud.google.com/docs/authentication/\n",
      "  warnings.warn(_CLOUD_SDK_CREDENTIALS_WARNING)\n"
     ]
    },
    {
     "name": "stdout",
     "output_type": "stream",
     "text": [
      "INFO:tensorflow:Prediction job completed.\n"
     ]
    }
   ],
   "source": [
    "# Set recompute_predictions=False to save time if predictions are available.\n",
    "valid_dataset.add_model_prediction_to_data(model, recompute_predictions=True)\n",
    "test_dataset.add_model_prediction_to_data(model, recompute_predictions=True)"
   ]
  },
  {
   "cell_type": "code",
   "execution_count": 24,
   "metadata": {},
   "outputs": [
    {
     "name": "stdout",
     "output_type": "stream",
     "text": [
      "tf_cnn_many_communities_40_per_8_shot_pessimistic:v20190723_110543_2800_1563906804_gpu_k80_1\n",
      "\tROC AUC: 0.8233381391772395\n",
      "\tPR AUC: 0.8062951511107903\n",
      "\tF1: 0.7607565011820331\n",
      "tf_gru_attention_many_communities_40_per_8_shot_pessimistic:v20190723_110533_4400_1563906956_gpu_k80_1\n",
      "\tROC AUC: 0.8303615196078432\n",
      "\tPR AUC: 0.8125045070656154\n",
      "\tF1: 0.7703703703703705\n"
     ]
    }
   ],
   "source": [
    "print_results(valid_dataset.show_data(), MODEL_NAMES)"
   ]
  },
  {
   "cell_type": "code",
   "execution_count": 25,
   "metadata": {},
   "outputs": [
    {
     "name": "stdout",
     "output_type": "stream",
     "text": [
      "tf_cnn_many_communities_40_per_8_shot_pessimistic:v20190723_110543_2800_1563906804_gpu_k80_1\n",
      "\tROC AUC: 0.7981477681641835\n",
      "\tPR AUC: 0.7900106468171257\n",
      "\tF1: 0.7378091872791519\n",
      "tf_gru_attention_many_communities_40_per_8_shot_pessimistic:v20190723_110533_4400_1563906956_gpu_k80_1\n",
      "\tROC AUC: 0.8074846866462235\n",
      "\tPR AUC: 0.7951370231895221\n",
      "\tF1: 0.7507100720996286\n"
     ]
    }
   ],
   "source": [
    "print_results(test_dataset.show_data(), MODEL_NAMES)"
   ]
  },
  {
   "cell_type": "markdown",
   "metadata": {},
   "source": [
    "#### TF-Hub Model"
   ]
  },
  {
   "cell_type": "code",
   "execution_count": 26,
   "metadata": {},
   "outputs": [],
   "source": [
    "MODEL_TEXT_FEATURE = 'text'\n",
    "MODEL_NAMES = [\n",
    "    'tf_hub_classifier_many_communities_40_per_8_shot_pessimistic:v20190723_110557_2600_1563911706_gpu_k80_1',\n",
    "]\n",
    "\n",
    "model_input_spec = {\n",
    "    MODEL_TEXT_FEATURE: utils_tfrecords.EncodingFeatureSpec.LIST_STRING\n",
    "}\n",
    "\n",
    "model = Model(\n",
    "    feature_keys_spec=model_input_spec,\n",
    "    prediction_keys=LABEL_NAME_PREDICTION_MODEL,\n",
    "    example_key=SENTENCE_KEY,\n",
    "    model_names=MODEL_NAMES,\n",
    "    project_name=PROJECT_NAME)\n",
    "\n",
    "valid_input_fn = make_test_input_fn(\n",
    "    DATASET_VALID, MODEL_TEXT_FEATURE, DATASET_TEXT_FEATURE,\n",
    "    DATA_LABEL, None, label_data_type=tf.int64)\n",
    "\n",
    "test_input_fn = make_test_input_fn(\n",
    "    DATASET_TEST, MODEL_TEXT_FEATURE, DATASET_TEXT_FEATURE,\n",
    "    DATA_LABEL, None, label_data_type=tf.int64)"
   ]
  },
  {
   "cell_type": "code",
   "execution_count": 27,
   "metadata": {},
   "outputs": [
    {
     "name": "stderr",
     "output_type": "stream",
     "text": [
      "/usr/local/google/home/msushkov/code/conversationai-models/model_evaluation/.pyenv/lib/python3.6/site-packages/tensorflow/python/client/session.py:1702: UserWarning: An interactive session is already active. This can cause out-of-memory errors in some cases. You must explicitly call `InteractiveSession.close()` to release resources held by the other session(s).\n",
      "  warnings.warn('An interactive session is already active. This can '\n"
     ]
    },
    {
     "name": "stdout",
     "output_type": "stream",
     "text": [
      "INFO:tensorflow:input_fn is compatible with the `Dataset` class.\n",
      "INFO:tensorflow:End of file.\n"
     ]
    }
   ],
   "source": [
    "# Need to set seed before loading data to be able to reload same data in the future\n",
    "random.seed(2018)\n",
    "\n",
    "valid_dataset = Dataset(valid_input_fn, OUTPUT_DIR_VALID)\n",
    "valid_dataset.load_data(100000000)"
   ]
  },
  {
   "cell_type": "code",
   "execution_count": 28,
   "metadata": {},
   "outputs": [
    {
     "name": "stdout",
     "output_type": "stream",
     "text": [
      "INFO:tensorflow:input_fn is compatible with the `Dataset` class.\n",
      "INFO:tensorflow:End of file.\n"
     ]
    }
   ],
   "source": [
    "# Need to set seed before loading data to be able to reload same data in the future\n",
    "random.seed(2018)\n",
    "\n",
    "test_dataset = Dataset(test_input_fn, OUTPUT_DIR_TEST)\n",
    "test_dataset.load_data(100000000)"
   ]
  },
  {
   "cell_type": "code",
   "execution_count": 29,
   "metadata": {},
   "outputs": [
    {
     "name": "stdout",
     "output_type": "stream",
     "text": [
      "INFO:tensorflow:Model is compatible with the `Dataset` instance.\n",
      "INFO:tensorflow:Doing batch 0/0\n",
      "INFO:tensorflow:TF-Records already exist - overwriting them.\n",
      "INFO:tensorflow:Preparing train data: 0/4080\n"
     ]
    },
    {
     "name": "stderr",
     "output_type": "stream",
     "text": [
      "/usr/local/google/home/msushkov/code/conversationai-models/model_evaluation/.pyenv/lib/python3.6/site-packages/google/auth/_default.py:66: UserWarning: Your application has authenticated using end user credentials from Google Cloud SDK. We recommend that most server applications use service accounts instead. If your application continues to use end user credentials from Cloud SDK, you might receive a \"quota exceeded\" or \"API not enabled\" error. For more information about service accounts, see https://cloud.google.com/docs/authentication/\n",
      "  warnings.warn(_CLOUD_SDK_CREDENTIALS_WARNING)\n"
     ]
    },
    {
     "name": "stdout",
     "output_type": "stream",
     "text": [
      "INFO:tensorflow:state : QUEUED\n"
     ]
    },
    {
     "name": "stderr",
     "output_type": "stream",
     "text": [
      "/usr/local/google/home/msushkov/code/conversationai-models/model_evaluation/.pyenv/lib/python3.6/site-packages/google/auth/_default.py:66: UserWarning: Your application has authenticated using end user credentials from Google Cloud SDK. We recommend that most server applications use service accounts instead. If your application continues to use end user credentials from Cloud SDK, you might receive a \"quota exceeded\" or \"API not enabled\" error. For more information about service accounts, see https://cloud.google.com/docs/authentication/\n",
      "  warnings.warn(_CLOUD_SDK_CREDENTIALS_WARNING)\n"
     ]
    },
    {
     "name": "stdout",
     "output_type": "stream",
     "text": [
      "INFO:tensorflow:Waiting for prediction job to complete. Minutes elapsed: 0\n",
      "INFO:tensorflow:Waiting for prediction job to complete. Minutes elapsed: 2\n",
      "INFO:tensorflow:Waiting for prediction job to complete. Minutes elapsed: 5\n",
      "INFO:tensorflow:Waiting for prediction job to complete. Minutes elapsed: 7\n",
      "INFO:tensorflow:Waiting for prediction job to complete. Minutes elapsed: 10\n",
      "INFO:tensorflow:Waiting for prediction job to complete. Minutes elapsed: 12\n",
      "INFO:tensorflow:Waiting for prediction job to complete. Minutes elapsed: 15\n",
      "INFO:tensorflow:Waiting for prediction job to complete. Minutes elapsed: 17\n",
      "INFO:tensorflow:Prediction job completed.\n",
      "INFO:tensorflow:Model is compatible with the `Dataset` instance.\n",
      "INFO:tensorflow:Doing batch 0/0\n",
      "INFO:tensorflow:TF-Records already exist - overwriting them.\n",
      "INFO:tensorflow:Preparing train data: 0/4104\n"
     ]
    },
    {
     "name": "stderr",
     "output_type": "stream",
     "text": [
      "/usr/local/google/home/msushkov/code/conversationai-models/model_evaluation/.pyenv/lib/python3.6/site-packages/google/auth/_default.py:66: UserWarning: Your application has authenticated using end user credentials from Google Cloud SDK. We recommend that most server applications use service accounts instead. If your application continues to use end user credentials from Cloud SDK, you might receive a \"quota exceeded\" or \"API not enabled\" error. For more information about service accounts, see https://cloud.google.com/docs/authentication/\n",
      "  warnings.warn(_CLOUD_SDK_CREDENTIALS_WARNING)\n"
     ]
    },
    {
     "name": "stdout",
     "output_type": "stream",
     "text": [
      "INFO:tensorflow:state : QUEUED\n"
     ]
    },
    {
     "name": "stderr",
     "output_type": "stream",
     "text": [
      "/usr/local/google/home/msushkov/code/conversationai-models/model_evaluation/.pyenv/lib/python3.6/site-packages/google/auth/_default.py:66: UserWarning: Your application has authenticated using end user credentials from Google Cloud SDK. We recommend that most server applications use service accounts instead. If your application continues to use end user credentials from Cloud SDK, you might receive a \"quota exceeded\" or \"API not enabled\" error. For more information about service accounts, see https://cloud.google.com/docs/authentication/\n",
      "  warnings.warn(_CLOUD_SDK_CREDENTIALS_WARNING)\n"
     ]
    },
    {
     "name": "stdout",
     "output_type": "stream",
     "text": [
      "INFO:tensorflow:Waiting for prediction job to complete. Minutes elapsed: 0\n",
      "INFO:tensorflow:Waiting for prediction job to complete. Minutes elapsed: 2\n",
      "INFO:tensorflow:Waiting for prediction job to complete. Minutes elapsed: 5\n",
      "INFO:tensorflow:Waiting for prediction job to complete. Minutes elapsed: 7\n",
      "INFO:tensorflow:Waiting for prediction job to complete. Minutes elapsed: 10\n",
      "INFO:tensorflow:Waiting for prediction job to complete. Minutes elapsed: 12\n",
      "INFO:tensorflow:Waiting for prediction job to complete. Minutes elapsed: 15\n",
      "INFO:tensorflow:Waiting for prediction job to complete. Minutes elapsed: 17\n",
      "INFO:tensorflow:Prediction job completed.\n"
     ]
    }
   ],
   "source": [
    "# Set recompute_predictions=False to save time if predictions are available.\n",
    "valid_dataset.add_model_prediction_to_data(model, recompute_predictions=True)\n",
    "test_dataset.add_model_prediction_to_data(model, recompute_predictions=True)"
   ]
  },
  {
   "cell_type": "code",
   "execution_count": 30,
   "metadata": {},
   "outputs": [
    {
     "name": "stdout",
     "output_type": "stream",
     "text": [
      "tf_hub_classifier_many_communities_40_per_8_shot_pessimistic:v20190723_110557_2600_1563911706_gpu_k80_1\n",
      "\tROC AUC: 0.8612435121107267\n",
      "\tPR AUC: 0.851153195076283\n",
      "\tF1: 0.7937575030012005\n"
     ]
    }
   ],
   "source": [
    "print_results(valid_dataset.show_data(), MODEL_NAMES)"
   ]
  },
  {
   "cell_type": "code",
   "execution_count": 31,
   "metadata": {},
   "outputs": [
    {
     "name": "stdout",
     "output_type": "stream",
     "text": [
      "tf_hub_classifier_many_communities_40_per_8_shot_pessimistic:v20190723_110557_2600_1563911706_gpu_k80_1\n",
      "\tROC AUC: 0.8434673869262717\n",
      "\tPR AUC: 0.8326080326940988\n",
      "\tF1: 0.779380468195791\n"
     ]
    }
   ],
   "source": [
    "print_results(test_dataset.show_data(), MODEL_NAMES)"
   ]
  },
  {
   "cell_type": "markdown",
   "metadata": {},
   "source": [
    "### Optimistic"
   ]
  },
  {
   "cell_type": "code",
   "execution_count": 32,
   "metadata": {},
   "outputs": [],
   "source": [
    "# Pattern for path of tf_records\n",
    "OUTPUT_DIR_VALID = os.path.join(OUTPUT_DIR_BASE, 'many_communities_40_per_8_shot/optimistic/valid')\n",
    "OUTPUT_DIR_TEST = os.path.join(OUTPUT_DIR_BASE, 'many_communities_40_per_8_shot/optimistic/test')"
   ]
  },
  {
   "cell_type": "markdown",
   "metadata": {},
   "source": [
    "#### CNN, GRU Attention Models"
   ]
  },
  {
   "cell_type": "code",
   "execution_count": 33,
   "metadata": {},
   "outputs": [],
   "source": [
    "MODEL_TEXT_FEATURE = 'tokens'\n",
    "MODEL_NAMES = [\n",
    "    'tf_cnn_many_communities_40_per_8_shot_optimistic:v20190723_110516_4200_1563906960_gpu_k80_1',\n",
    "    'tf_gru_attention_many_communities_40_per_8_shot_optimistic:v20190723_110524_4200_1563907005_gpu_k80_1',\n",
    "]\n",
    "\n",
    "model_input_spec = {\n",
    "    MODEL_TEXT_FEATURE: utils_tfrecords.EncodingFeatureSpec.LIST_STRING\n",
    "}\n",
    "\n",
    "model = Model(\n",
    "    feature_keys_spec=model_input_spec,\n",
    "    prediction_keys=LABEL_NAME_PREDICTION_MODEL,\n",
    "    example_key=SENTENCE_KEY,\n",
    "    model_names=MODEL_NAMES,\n",
    "    project_name=PROJECT_NAME)\n",
    "\n",
    "valid_input_fn = make_test_input_fn(\n",
    "    DATASET_VALID, MODEL_TEXT_FEATURE, DATASET_TEXT_FEATURE,\n",
    "    DATA_LABEL, tokenizer, label_data_type=tf.int64)\n",
    "\n",
    "test_input_fn = make_test_input_fn(\n",
    "    DATASET_TEST, MODEL_TEXT_FEATURE, DATASET_TEXT_FEATURE,\n",
    "    DATA_LABEL, tokenizer, label_data_type=tf.int64)"
   ]
  },
  {
   "cell_type": "code",
   "execution_count": 34,
   "metadata": {},
   "outputs": [
    {
     "name": "stderr",
     "output_type": "stream",
     "text": [
      "/usr/local/google/home/msushkov/code/conversationai-models/model_evaluation/.pyenv/lib/python3.6/site-packages/tensorflow/python/client/session.py:1702: UserWarning: An interactive session is already active. This can cause out-of-memory errors in some cases. You must explicitly call `InteractiveSession.close()` to release resources held by the other session(s).\n",
      "  warnings.warn('An interactive session is already active. This can '\n"
     ]
    },
    {
     "name": "stdout",
     "output_type": "stream",
     "text": [
      "INFO:tensorflow:input_fn is compatible with the `Dataset` class.\n",
      "INFO:tensorflow:End of file.\n"
     ]
    }
   ],
   "source": [
    "# Need to set seed before loading data to be able to reload same data in the future\n",
    "random.seed(2018)\n",
    "\n",
    "valid_dataset = Dataset(valid_input_fn, OUTPUT_DIR_VALID)\n",
    "valid_dataset.load_data(100000000)"
   ]
  },
  {
   "cell_type": "code",
   "execution_count": 35,
   "metadata": {},
   "outputs": [
    {
     "name": "stdout",
     "output_type": "stream",
     "text": [
      "INFO:tensorflow:input_fn is compatible with the `Dataset` class.\n",
      "INFO:tensorflow:End of file.\n"
     ]
    }
   ],
   "source": [
    "# Need to set seed before loading data to be able to reload same data in the future\n",
    "random.seed(2018)\n",
    "\n",
    "test_dataset = Dataset(test_input_fn, OUTPUT_DIR_TEST)\n",
    "test_dataset.load_data(100000000)"
   ]
  },
  {
   "cell_type": "code",
   "execution_count": 36,
   "metadata": {},
   "outputs": [
    {
     "name": "stdout",
     "output_type": "stream",
     "text": [
      "INFO:tensorflow:Model is compatible with the `Dataset` instance.\n",
      "INFO:tensorflow:Doing batch 0/0\n",
      "INFO:tensorflow:Preparing train data: 0/4080\n"
     ]
    },
    {
     "name": "stderr",
     "output_type": "stream",
     "text": [
      "/usr/local/google/home/msushkov/code/conversationai-models/model_evaluation/.pyenv/lib/python3.6/site-packages/google/auth/_default.py:66: UserWarning: Your application has authenticated using end user credentials from Google Cloud SDK. We recommend that most server applications use service accounts instead. If your application continues to use end user credentials from Cloud SDK, you might receive a \"quota exceeded\" or \"API not enabled\" error. For more information about service accounts, see https://cloud.google.com/docs/authentication/\n",
      "  warnings.warn(_CLOUD_SDK_CREDENTIALS_WARNING)\n"
     ]
    },
    {
     "name": "stdout",
     "output_type": "stream",
     "text": [
      "INFO:tensorflow:state : QUEUED\n"
     ]
    },
    {
     "name": "stderr",
     "output_type": "stream",
     "text": [
      "/usr/local/google/home/msushkov/code/conversationai-models/model_evaluation/.pyenv/lib/python3.6/site-packages/google/auth/_default.py:66: UserWarning: Your application has authenticated using end user credentials from Google Cloud SDK. We recommend that most server applications use service accounts instead. If your application continues to use end user credentials from Cloud SDK, you might receive a \"quota exceeded\" or \"API not enabled\" error. For more information about service accounts, see https://cloud.google.com/docs/authentication/\n",
      "  warnings.warn(_CLOUD_SDK_CREDENTIALS_WARNING)\n"
     ]
    },
    {
     "name": "stdout",
     "output_type": "stream",
     "text": [
      "INFO:tensorflow:state : QUEUED\n"
     ]
    },
    {
     "name": "stderr",
     "output_type": "stream",
     "text": [
      "/usr/local/google/home/msushkov/code/conversationai-models/model_evaluation/.pyenv/lib/python3.6/site-packages/google/auth/_default.py:66: UserWarning: Your application has authenticated using end user credentials from Google Cloud SDK. We recommend that most server applications use service accounts instead. If your application continues to use end user credentials from Cloud SDK, you might receive a \"quota exceeded\" or \"API not enabled\" error. For more information about service accounts, see https://cloud.google.com/docs/authentication/\n",
      "  warnings.warn(_CLOUD_SDK_CREDENTIALS_WARNING)\n"
     ]
    },
    {
     "name": "stdout",
     "output_type": "stream",
     "text": [
      "INFO:tensorflow:Waiting for prediction job to complete. Minutes elapsed: 0\n",
      "INFO:tensorflow:Waiting for prediction job to complete. Minutes elapsed: 2\n",
      "INFO:tensorflow:Waiting for prediction job to complete. Minutes elapsed: 5\n",
      "INFO:tensorflow:Prediction job completed.\n"
     ]
    },
    {
     "name": "stderr",
     "output_type": "stream",
     "text": [
      "/usr/local/google/home/msushkov/code/conversationai-models/model_evaluation/.pyenv/lib/python3.6/site-packages/google/auth/_default.py:66: UserWarning: Your application has authenticated using end user credentials from Google Cloud SDK. We recommend that most server applications use service accounts instead. If your application continues to use end user credentials from Cloud SDK, you might receive a \"quota exceeded\" or \"API not enabled\" error. For more information about service accounts, see https://cloud.google.com/docs/authentication/\n",
      "  warnings.warn(_CLOUD_SDK_CREDENTIALS_WARNING)\n"
     ]
    },
    {
     "name": "stdout",
     "output_type": "stream",
     "text": [
      "INFO:tensorflow:Waiting for prediction job to complete. Minutes elapsed: 0\n",
      "INFO:tensorflow:Prediction job completed.\n",
      "INFO:tensorflow:Model is compatible with the `Dataset` instance.\n",
      "INFO:tensorflow:Doing batch 0/0\n",
      "INFO:tensorflow:Preparing train data: 0/4104\n"
     ]
    },
    {
     "name": "stderr",
     "output_type": "stream",
     "text": [
      "/usr/local/google/home/msushkov/code/conversationai-models/model_evaluation/.pyenv/lib/python3.6/site-packages/google/auth/_default.py:66: UserWarning: Your application has authenticated using end user credentials from Google Cloud SDK. We recommend that most server applications use service accounts instead. If your application continues to use end user credentials from Cloud SDK, you might receive a \"quota exceeded\" or \"API not enabled\" error. For more information about service accounts, see https://cloud.google.com/docs/authentication/\n",
      "  warnings.warn(_CLOUD_SDK_CREDENTIALS_WARNING)\n"
     ]
    },
    {
     "name": "stdout",
     "output_type": "stream",
     "text": [
      "INFO:tensorflow:state : QUEUED\n"
     ]
    },
    {
     "name": "stderr",
     "output_type": "stream",
     "text": [
      "/usr/local/google/home/msushkov/code/conversationai-models/model_evaluation/.pyenv/lib/python3.6/site-packages/google/auth/_default.py:66: UserWarning: Your application has authenticated using end user credentials from Google Cloud SDK. We recommend that most server applications use service accounts instead. If your application continues to use end user credentials from Cloud SDK, you might receive a \"quota exceeded\" or \"API not enabled\" error. For more information about service accounts, see https://cloud.google.com/docs/authentication/\n",
      "  warnings.warn(_CLOUD_SDK_CREDENTIALS_WARNING)\n"
     ]
    },
    {
     "name": "stdout",
     "output_type": "stream",
     "text": [
      "INFO:tensorflow:state : QUEUED\n"
     ]
    },
    {
     "name": "stderr",
     "output_type": "stream",
     "text": [
      "/usr/local/google/home/msushkov/code/conversationai-models/model_evaluation/.pyenv/lib/python3.6/site-packages/google/auth/_default.py:66: UserWarning: Your application has authenticated using end user credentials from Google Cloud SDK. We recommend that most server applications use service accounts instead. If your application continues to use end user credentials from Cloud SDK, you might receive a \"quota exceeded\" or \"API not enabled\" error. For more information about service accounts, see https://cloud.google.com/docs/authentication/\n",
      "  warnings.warn(_CLOUD_SDK_CREDENTIALS_WARNING)\n"
     ]
    },
    {
     "name": "stdout",
     "output_type": "stream",
     "text": [
      "INFO:tensorflow:Waiting for prediction job to complete. Minutes elapsed: 0\n",
      "INFO:tensorflow:Waiting for prediction job to complete. Minutes elapsed: 2\n",
      "INFO:tensorflow:Waiting for prediction job to complete. Minutes elapsed: 5\n",
      "INFO:tensorflow:Prediction job completed.\n"
     ]
    },
    {
     "name": "stderr",
     "output_type": "stream",
     "text": [
      "/usr/local/google/home/msushkov/code/conversationai-models/model_evaluation/.pyenv/lib/python3.6/site-packages/google/auth/_default.py:66: UserWarning: Your application has authenticated using end user credentials from Google Cloud SDK. We recommend that most server applications use service accounts instead. If your application continues to use end user credentials from Cloud SDK, you might receive a \"quota exceeded\" or \"API not enabled\" error. For more information about service accounts, see https://cloud.google.com/docs/authentication/\n",
      "  warnings.warn(_CLOUD_SDK_CREDENTIALS_WARNING)\n"
     ]
    },
    {
     "name": "stdout",
     "output_type": "stream",
     "text": [
      "INFO:tensorflow:Waiting for prediction job to complete. Minutes elapsed: 0\n",
      "INFO:tensorflow:Prediction job completed.\n"
     ]
    }
   ],
   "source": [
    "# Set recompute_predictions=False to save time if predictions are available.\n",
    "valid_dataset.add_model_prediction_to_data(model, recompute_predictions=True)\n",
    "test_dataset.add_model_prediction_to_data(model, recompute_predictions=True)"
   ]
  },
  {
   "cell_type": "code",
   "execution_count": 37,
   "metadata": {},
   "outputs": [
    {
     "name": "stdout",
     "output_type": "stream",
     "text": [
      "tf_cnn_many_communities_40_per_8_shot_optimistic:v20190723_110516_4200_1563906960_gpu_k80_1\n",
      "\tROC AUC: 0.8304709727028066\n",
      "\tPR AUC: 0.8191225889787218\n",
      "\tF1: 0.7564259485924112\n",
      "tf_gru_attention_many_communities_40_per_8_shot_optimistic:v20190723_110524_4200_1563907005_gpu_k80_1\n",
      "\tROC AUC: 0.8293254998077663\n",
      "\tPR AUC: 0.8181913933482414\n",
      "\tF1: 0.7652214022140222\n"
     ]
    }
   ],
   "source": [
    "print_results(valid_dataset.show_data(), MODEL_NAMES)"
   ]
  },
  {
   "cell_type": "code",
   "execution_count": 38,
   "metadata": {},
   "outputs": [
    {
     "name": "stdout",
     "output_type": "stream",
     "text": [
      "tf_cnn_many_communities_40_per_8_shot_optimistic:v20190723_110516_4200_1563906960_gpu_k80_1\n",
      "\tROC AUC: 0.8043942295635125\n",
      "\tPR AUC: 0.79754755517453\n",
      "\tF1: 0.7305737109658679\n",
      "tf_gru_attention_many_communities_40_per_8_shot_optimistic:v20190723_110524_4200_1563907005_gpu_k80_1\n",
      "\tROC AUC: 0.8156875904836816\n",
      "\tPR AUC: 0.8081941065311745\n",
      "\tF1: 0.7558876811594204\n"
     ]
    }
   ],
   "source": [
    "print_results(test_dataset.show_data(), MODEL_NAMES)"
   ]
  },
  {
   "cell_type": "markdown",
   "metadata": {},
   "source": [
    "#### TF-Hub Model"
   ]
  },
  {
   "cell_type": "code",
   "execution_count": 39,
   "metadata": {},
   "outputs": [],
   "source": [
    "MODEL_TEXT_FEATURE = 'text'\n",
    "MODEL_NAMES = [\n",
    "    'tf_hub_classifier_many_communities_40_per_8_shot_optimistic:v20190723_102555_3600_1563909345_gpu_k80_1',\n",
    "]\n",
    "\n",
    "model_input_spec = {\n",
    "    MODEL_TEXT_FEATURE: utils_tfrecords.EncodingFeatureSpec.LIST_STRING\n",
    "}\n",
    "\n",
    "model = Model(\n",
    "    feature_keys_spec=model_input_spec,\n",
    "    prediction_keys=LABEL_NAME_PREDICTION_MODEL,\n",
    "    example_key=SENTENCE_KEY,\n",
    "    model_names=MODEL_NAMES,\n",
    "    project_name=PROJECT_NAME)\n",
    "\n",
    "valid_input_fn = make_test_input_fn(\n",
    "    DATASET_VALID, MODEL_TEXT_FEATURE, DATASET_TEXT_FEATURE,\n",
    "    DATA_LABEL, None, label_data_type=tf.int64)\n",
    "\n",
    "test_input_fn = make_test_input_fn(\n",
    "    DATASET_TEST, MODEL_TEXT_FEATURE, DATASET_TEXT_FEATURE,\n",
    "    DATA_LABEL, None, label_data_type=tf.int64)"
   ]
  },
  {
   "cell_type": "code",
   "execution_count": null,
   "metadata": {},
   "outputs": [],
   "source": [
    "# Need to set seed before loading data to be able to reload same data in the future\n",
    "random.seed(2018)\n",
    "\n",
    "valid_dataset = Dataset(valid_input_fn, OUTPUT_DIR_VALID)\n",
    "valid_dataset.load_data(100000000)"
   ]
  },
  {
   "cell_type": "code",
   "execution_count": null,
   "metadata": {},
   "outputs": [],
   "source": [
    "# Need to set seed before loading data to be able to reload same data in the future\n",
    "random.seed(2018)\n",
    "\n",
    "test_dataset = Dataset(test_input_fn, OUTPUT_DIR_TEST)\n",
    "test_dataset.load_data(100000000)"
   ]
  },
  {
   "cell_type": "code",
   "execution_count": null,
   "metadata": {},
   "outputs": [],
   "source": [
    "# Set recompute_predictions=False to save time if predictions are available.\n",
    "valid_dataset.add_model_prediction_to_data(model, recompute_predictions=True)\n",
    "test_dataset.add_model_prediction_to_data(model, recompute_predictions=True)"
   ]
  },
  {
   "cell_type": "code",
   "execution_count": null,
   "metadata": {},
   "outputs": [],
   "source": [
    "print_results(valid_dataset.show_data(), MODEL_NAMES)"
   ]
  },
  {
   "cell_type": "code",
   "execution_count": null,
   "metadata": {},
   "outputs": [],
   "source": [
    "print_results(test_dataset.show_data(), MODEL_NAMES)"
   ]
  },
  {
   "cell_type": "markdown",
   "metadata": {},
   "source": [
    "### Finetuned"
   ]
  },
  {
   "cell_type": "code",
   "execution_count": null,
   "metadata": {},
   "outputs": [],
   "source": [
    "# TODO(msushkov)"
   ]
  }
 ],
 "metadata": {
  "kernelspec": {
   "display_name": "Python 2",
   "language": "python",
   "name": "python2"
  },
  "language_info": {
   "codemirror_mode": {
    "name": "ipython",
    "version": 3
   },
   "file_extension": ".py",
   "mimetype": "text/x-python",
   "name": "python",
   "nbconvert_exporter": "python",
   "pygments_lexer": "ipython3",
   "version": "3.6.6"
  }
 },
 "nbformat": 4,
 "nbformat_minor": 2
}
