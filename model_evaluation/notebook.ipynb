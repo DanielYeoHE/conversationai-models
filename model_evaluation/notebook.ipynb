{
 "cells": [
  {
   "cell_type": "code",
   "execution_count": 1,
   "metadata": {},
   "outputs": [],
   "source": [
    "%load_ext autoreload"
   ]
  },
  {
   "cell_type": "code",
   "execution_count": 3,
   "metadata": {},
   "outputs": [],
   "source": [
    "%autoreload 2"
   ]
  },
  {
   "cell_type": "code",
   "execution_count": 17,
   "metadata": {},
   "outputs": [],
   "source": [
    "from __future__ import absolute_import\n",
    "from __future__ import division\n",
    "from __future__ import print_function\n",
    "\n",
    "import getpass\n",
    "from IPython.display import display\n",
    "import json\n",
    "import nltk\n",
    "import numpy as np\n",
    "import pandas as pd\n",
    "import pkg_resources\n",
    "import os\n",
    "import random\n",
    "import re\n",
    "import seaborn as sns\n",
    "import sklearn.metrics as metrics\n",
    "\n",
    "import tensorflow as tf\n",
    "from tensorflow.python.lib.io import file_io"
   ]
  },
  {
   "cell_type": "code",
   "execution_count": 159,
   "metadata": {},
   "outputs": [],
   "source": [
    "from utils_export.dataset import Dataset, Model\n",
    "from utils_export import utils_cloudml\n",
    "from utils_export import utils_tfrecords"
   ]
  },
  {
   "cell_type": "code",
   "execution_count": 6,
   "metadata": {},
   "outputs": [],
   "source": [
    "# Faster to access GCS file:\n",
    "# https://github.com/tensorflow/tensorflow/issues/15530\n",
    "os.environ['GCS_READ_CACHE_MAX_SIZE_MB'] = '0'"
   ]
  },
  {
   "cell_type": "code",
   "execution_count": 7,
   "metadata": {},
   "outputs": [
    {
     "name": "stdout",
     "output_type": "stream",
     "text": [
      "[nltk_data] Downloading package punkt to\n",
      "[nltk_data]     /usr/local/google/home/msushkov/nltk_data...\n",
      "[nltk_data]   Package punkt is already up-to-date!\n"
     ]
    },
    {
     "data": {
      "text/plain": [
       "True"
      ]
     },
     "execution_count": 7,
     "metadata": {},
     "output_type": "execute_result"
    }
   ],
   "source": [
    "nltk.download('punkt')"
   ]
  },
  {
   "cell_type": "code",
   "execution_count": 117,
   "metadata": {},
   "outputs": [],
   "source": [
    "def tokenizer(text, lowercase=True):\n",
    "  \"\"\"Converts text to a list of words.\n",
    "\n",
    "  Args:\n",
    "    text: piece of text to tokenize (string).\n",
    "    lowercase: whether to include lowercasing in preprocessing (bool).\n",
    "\n",
    "  Returns:\n",
    "    A list of strings (words).\n",
    "  \"\"\"\n",
    "  words = nltk.word_tokenize(text.decode('utf-8'))\n",
    "  if lowercase:\n",
    "    words = [w.lower() for w in words]\n",
    "  return words"
   ]
  },
  {
   "cell_type": "code",
   "execution_count": 208,
   "metadata": {},
   "outputs": [],
   "source": [
    "def make_test_input_fn(dataset_path,\n",
    "                       model_text_feature,\n",
    "                       dataset_text_feature,\n",
    "                       data_label,\n",
    "                       tokenizer_fn,\n",
    "                       label_data_type=tf.float32,\n",
    "                       max_n_examples=None,\n",
    "                       random_filter_keep_rate=1.0):\n",
    "    \"\"\"Returns a test input function.\n",
    "    \n",
    "    Args:\n",
    "      dataset_path (str): Path to dataset.\n",
    "      model_text_feature (str): The feature column corresponding to the\n",
    "        text input the model expects.\n",
    "      dataset_text_feature (str): The name of the text feature of the dataset.\n",
    "      data_label (str): The output label for the dataset.\n",
    "      tokenizer_fn: Tokenizer function (str -> list).\n",
    "      max_n_examples (int): How many examples to evaluate on.\n",
    "      random_filter_keep_rate (float): Filter out test examples with this probability.\n",
    "\n",
    "    Returns:\n",
    "      Test input function.\n",
    "    \"\"\"\n",
    "    decoding_input_features = {\n",
    "      dataset_text_feature: tf.FixedLenFeature([], dtype=tf.string),\n",
    "      data_label: tf.FixedLenFeature([], dtype=label_data_type)\n",
    "    }\n",
    "\n",
    "    def test_input_fn(max_n_examples=max_n_examples,\n",
    "                      random_filter_keep_rate=random_filter_keep_rate):\n",
    "        \"\"\"Test input function.\n",
    "        \n",
    "        Args:\n",
    "          max_n_examples (int): How many examples to evaluate on.\n",
    "          random_filter_keep_rate (float): Filter out test examples with this probability.\n",
    "          \n",
    "        Returns:\n",
    "          DataFrame with the results.\n",
    "        \"\"\"\n",
    "        res = utils_tfrecords.decode_tf_records_to_pandas(\n",
    "            decoding_input_features,\n",
    "            dataset_path,\n",
    "            max_n_examples,\n",
    "            random_filter_keep_rate)\n",
    "        if not tokenizer_fn:\n",
    "            tok = lambda x: [x]\n",
    "            res[model_text_feature] = list(map(tok, res[dataset_text_feature]))\n",
    "        else:\n",
    "            res[model_text_feature] = list(map(tokenizer_fn, res[dataset_text_feature]))\n",
    "        res = res.rename(columns={ data_label: 'label' })\n",
    "        res['label'] = list(map(lambda x: bool(round(x)), list(res['label'])))\n",
    "        final = res.copy(deep=True)\n",
    "        return final\n",
    "\n",
    "    return test_input_fn"
   ]
  },
  {
   "cell_type": "code",
   "execution_count": 134,
   "metadata": {},
   "outputs": [],
   "source": [
    "def print_results(results_df, model_names):\n",
    "    \"\"\"Print the classification results.\n",
    "    \n",
    "    Args:\n",
    "      results_df: DataFrame with the results.\n",
    "      model_names: List of strings representing the models for which we have results.\n",
    "    \"\"\"\n",
    "    labels = results_df['label']\n",
    "    for _model in model_names:\n",
    "        print(_model)\n",
    "        model_preds = results_df[_model]\n",
    "        fpr, tpr, thresholds = metrics.roc_curve(labels, model_preds)\n",
    "        roc_auc = metrics.auc(fpr, tpr)\n",
    "        recalls, precisions, thr = metrics.precision_recall_curve(labels, model_preds)\n",
    "        pr_auc = metrics.auc(precisions, recalls)\n",
    "        print('\\tROC AUC: {}'.format(roc_auc))\n",
    "        print('\\tPR AUC: {}'.format(pr_auc))"
   ]
  },
  {
   "cell_type": "code",
   "execution_count": 121,
   "metadata": {},
   "outputs": [],
   "source": [
    "PROJECT_NAME = 'conversationai-models'\n",
    "SENTENCE_KEY = 'comment_key' #Input key\n",
    "\n",
    "# Pattern for path of tf_records\n",
    "OUTPUT_DIR_BASE = os.path.join(\n",
    "    'gs://conversationai-models',\n",
    "    getpass.getuser(),\n",
    "    'tfrecords')"
   ]
  },
  {
   "cell_type": "markdown",
   "metadata": {},
   "source": [
    "## Evaluate models on Civil Comments dataset"
   ]
  },
  {
   "cell_type": "code",
   "execution_count": 175,
   "metadata": {},
   "outputs": [],
   "source": [
    "LABEL_NAME_PREDICTION_MODEL = 'toxicity/logistic'\n",
    "DATASET = 'gs://conversationai-models/resources/civil_comments_data/train_eval_test/test-*.tfrecord'\n",
    "DATA_LABEL = 'toxicity'\n",
    "DATASET_TEXT_FEATURE='comment_text'\n",
    "\n",
    "# Pattern for path of tf_records\n",
    "OUTPUT_DIR = os.path.join(OUTPUT_DIR_BASE, 'civil_comments_test')"
   ]
  },
  {
   "cell_type": "markdown",
   "metadata": {},
   "source": [
    "### CNN, GRU Attention Models"
   ]
  },
  {
   "cell_type": "code",
   "execution_count": 140,
   "metadata": {},
   "outputs": [],
   "source": [
    "MODEL_TEXT_FEATURE = 'tokens'\n",
    "MODEL_NAMES = [\n",
    "    'tf_cnn_civil_comments_glove:v_20190219_185541',\n",
    "    'tf_gru_attention_civil_comments_glove:v_20190219_185619',\n",
    "]\n",
    "\n",
    "model_input_spec = {\n",
    "    MODEL_TEXT_FEATURE: utils_tfrecords.EncodingFeatureSpec.LIST_STRING\n",
    "}\n",
    "\n",
    "model = Model(\n",
    "    feature_keys_spec=model_input_spec,\n",
    "    prediction_keys=LABEL_NAME_PREDICTION_MODEL,\n",
    "    example_key=SENTENCE_KEY,\n",
    "    model_names=MODEL_NAMES,\n",
    "    project_name=PROJECT_NAME)\n",
    "\n",
    "test_input_fn = make_test_input_fn(\n",
    "    DATASET, MODEL_TEXT_FEATURE, DATASET_TEXT_FEATURE,\n",
    "    DATA_LABEL, tokenizer)"
   ]
  },
  {
   "cell_type": "code",
   "execution_count": 141,
   "metadata": {},
   "outputs": [
    {
     "name": "stderr",
     "output_type": "stream",
     "text": [
      "/usr/local/google/home/msushkov/code/conversationai-models/model_evaluation/.pyenv/lib/python3.6/site-packages/tensorflow/python/client/session.py:1702: UserWarning: An interactive session is already active. This can cause out-of-memory errors in some cases. You must explicitly call `InteractiveSession.close()` to release resources held by the other session(s).\n",
      "  warnings.warn('An interactive session is already active. This can '\n"
     ]
    },
    {
     "name": "stdout",
     "output_type": "stream",
     "text": [
      "INFO:tensorflow:input_fn is compatible with the `Dataset` class.\n",
      "INFO:tensorflow:Loaded 100000 lines.\n",
      "INFO:tensorflow:Loaded 200000 lines.\n",
      "INFO:tensorflow:End of file.\n"
     ]
    }
   ],
   "source": [
    "# Need to set seed before loading data to be able to reload same data in the future\n",
    "random.seed(2018)\n",
    "\n",
    "test_dataset = Dataset(test_input_fn, OUTPUT_DIR)\n",
    "test_dataset.load_data(10000000)"
   ]
  },
  {
   "cell_type": "code",
   "execution_count": 142,
   "metadata": {},
   "outputs": [
    {
     "name": "stdout",
     "output_type": "stream",
     "text": [
      "INFO:tensorflow:Model is compatible with the `Dataset` instance.\n",
      "INFO:tensorflow:Doing batch 0/0\n",
      "INFO:tensorflow:TF-Records already exist - overwriting them.\n",
      "INFO:tensorflow:Preparing train data: 0/242144\n",
      "INFO:tensorflow:Preparing train data: 10000/242144\n",
      "INFO:tensorflow:Preparing train data: 20000/242144\n",
      "INFO:tensorflow:Preparing train data: 30000/242144\n",
      "INFO:tensorflow:Preparing train data: 40000/242144\n",
      "INFO:tensorflow:Preparing train data: 50000/242144\n",
      "INFO:tensorflow:Preparing train data: 60000/242144\n",
      "INFO:tensorflow:Preparing train data: 70000/242144\n",
      "INFO:tensorflow:Preparing train data: 80000/242144\n",
      "INFO:tensorflow:Preparing train data: 90000/242144\n",
      "INFO:tensorflow:Preparing train data: 100000/242144\n",
      "INFO:tensorflow:Preparing train data: 110000/242144\n",
      "INFO:tensorflow:Preparing train data: 120000/242144\n",
      "INFO:tensorflow:Preparing train data: 130000/242144\n",
      "INFO:tensorflow:Preparing train data: 140000/242144\n",
      "INFO:tensorflow:Preparing train data: 150000/242144\n",
      "INFO:tensorflow:Preparing train data: 160000/242144\n",
      "INFO:tensorflow:Preparing train data: 170000/242144\n",
      "INFO:tensorflow:Preparing train data: 180000/242144\n",
      "INFO:tensorflow:Preparing train data: 190000/242144\n",
      "INFO:tensorflow:Preparing train data: 200000/242144\n",
      "INFO:tensorflow:Preparing train data: 210000/242144\n",
      "INFO:tensorflow:Preparing train data: 220000/242144\n",
      "INFO:tensorflow:Preparing train data: 230000/242144\n",
      "INFO:tensorflow:Preparing train data: 240000/242144\n"
     ]
    },
    {
     "name": "stderr",
     "output_type": "stream",
     "text": [
      "/usr/local/google/home/msushkov/code/conversationai-models/model_evaluation/.pyenv/lib/python3.6/site-packages/google/auth/_default.py:66: UserWarning: Your application has authenticated using end user credentials from Google Cloud SDK. We recommend that most server applications use service accounts instead. If your application continues to use end user credentials from Cloud SDK, you might receive a \"quota exceeded\" or \"API not enabled\" error. For more information about service accounts, see https://cloud.google.com/docs/authentication/\n",
      "  warnings.warn(_CLOUD_SDK_CREDENTIALS_WARNING)\n"
     ]
    },
    {
     "name": "stdout",
     "output_type": "stream",
     "text": [
      "INFO:tensorflow:state : QUEUED\n"
     ]
    },
    {
     "name": "stderr",
     "output_type": "stream",
     "text": [
      "/usr/local/google/home/msushkov/code/conversationai-models/model_evaluation/.pyenv/lib/python3.6/site-packages/google/auth/_default.py:66: UserWarning: Your application has authenticated using end user credentials from Google Cloud SDK. We recommend that most server applications use service accounts instead. If your application continues to use end user credentials from Cloud SDK, you might receive a \"quota exceeded\" or \"API not enabled\" error. For more information about service accounts, see https://cloud.google.com/docs/authentication/\n",
      "  warnings.warn(_CLOUD_SDK_CREDENTIALS_WARNING)\n"
     ]
    },
    {
     "name": "stdout",
     "output_type": "stream",
     "text": [
      "INFO:tensorflow:state : QUEUED\n"
     ]
    },
    {
     "name": "stderr",
     "output_type": "stream",
     "text": [
      "/usr/local/google/home/msushkov/code/conversationai-models/model_evaluation/.pyenv/lib/python3.6/site-packages/google/auth/_default.py:66: UserWarning: Your application has authenticated using end user credentials from Google Cloud SDK. We recommend that most server applications use service accounts instead. If your application continues to use end user credentials from Cloud SDK, you might receive a \"quota exceeded\" or \"API not enabled\" error. For more information about service accounts, see https://cloud.google.com/docs/authentication/\n",
      "  warnings.warn(_CLOUD_SDK_CREDENTIALS_WARNING)\n"
     ]
    },
    {
     "name": "stdout",
     "output_type": "stream",
     "text": [
      "INFO:tensorflow:Waiting for prediction job to complete. Minutes elapsed: 0\n",
      "INFO:tensorflow:Waiting for prediction job to complete. Minutes elapsed: 2\n",
      "INFO:tensorflow:Waiting for prediction job to complete. Minutes elapsed: 5\n",
      "INFO:tensorflow:Waiting for prediction job to complete. Minutes elapsed: 7\n",
      "INFO:tensorflow:Waiting for prediction job to complete. Minutes elapsed: 10\n",
      "INFO:tensorflow:Waiting for prediction job to complete. Minutes elapsed: 12\n",
      "INFO:tensorflow:Waiting for prediction job to complete. Minutes elapsed: 15\n",
      "INFO:tensorflow:Waiting for prediction job to complete. Minutes elapsed: 17\n",
      "INFO:tensorflow:Waiting for prediction job to complete. Minutes elapsed: 20\n",
      "INFO:tensorflow:Waiting for prediction job to complete. Minutes elapsed: 22\n",
      "INFO:tensorflow:Prediction job completed.\n"
     ]
    },
    {
     "name": "stderr",
     "output_type": "stream",
     "text": [
      "/usr/local/google/home/msushkov/code/conversationai-models/model_evaluation/.pyenv/lib/python3.6/site-packages/google/auth/_default.py:66: UserWarning: Your application has authenticated using end user credentials from Google Cloud SDK. We recommend that most server applications use service accounts instead. If your application continues to use end user credentials from Cloud SDK, you might receive a \"quota exceeded\" or \"API not enabled\" error. For more information about service accounts, see https://cloud.google.com/docs/authentication/\n",
      "  warnings.warn(_CLOUD_SDK_CREDENTIALS_WARNING)\n"
     ]
    },
    {
     "name": "stdout",
     "output_type": "stream",
     "text": [
      "INFO:tensorflow:Waiting for prediction job to complete. Minutes elapsed: 0\n",
      "INFO:tensorflow:Prediction job completed.\n"
     ]
    }
   ],
   "source": [
    "# Set recompute_predictions=False to save time if predictions are available.\n",
    "test_dataset.add_model_prediction_to_data(model, recompute_predictions=True)"
   ]
  },
  {
   "cell_type": "code",
   "execution_count": 143,
   "metadata": {},
   "outputs": [],
   "source": [
    "civil_comments_test_df = test_dataset.show_data()"
   ]
  },
  {
   "cell_type": "code",
   "execution_count": 144,
   "metadata": {},
   "outputs": [
    {
     "name": "stdout",
     "output_type": "stream",
     "text": [
      "tf_cnn_civil_comments_glove:v_20190219_185541\n",
      "\tROC AUC: 0.9573435242534393\n",
      "\tPR AUC: 0.6729934425219886\n",
      "tf_gru_attention_civil_comments_glove:v_20190219_185619\n",
      "\tROC AUC: 0.9649161132104584\n",
      "\tPR AUC: 0.7486011745102973\n"
     ]
    }
   ],
   "source": [
    "print_results(civil_comments_test_df, MODEL_NAMES)"
   ]
  },
  {
   "cell_type": "markdown",
   "metadata": {},
   "source": [
    "### TF-Hub Model"
   ]
  },
  {
   "cell_type": "code",
   "execution_count": 189,
   "metadata": {},
   "outputs": [],
   "source": [
    "MODEL_TEXT_FEATURE = 'text'\n",
    "MODEL_NAMES = [\n",
    "    'tf_hub_classifier_civil_comments:v20190322_142141_21201_1553344552',\n",
    "]\n",
    "\n",
    "model_input_spec = {\n",
    "    MODEL_TEXT_FEATURE: utils_tfrecords.EncodingFeatureSpec.LIST_STRING\n",
    "}\n",
    "\n",
    "model = Model(\n",
    "    feature_keys_spec=model_input_spec,\n",
    "    prediction_keys=LABEL_NAME_PREDICTION_MODEL,\n",
    "    example_key=SENTENCE_KEY,\n",
    "    model_names=MODEL_NAMES,\n",
    "    project_name=PROJECT_NAME)\n",
    "\n",
    "test_input_fn = make_test_input_fn(\n",
    "    DATASET, MODEL_TEXT_FEATURE, DATASET_TEXT_FEATURE,\n",
    "    DATA_LABEL, None)"
   ]
  },
  {
   "cell_type": "code",
   "execution_count": 190,
   "metadata": {},
   "outputs": [
    {
     "name": "stdout",
     "output_type": "stream",
     "text": [
      "INFO:tensorflow:input_fn is compatible with the `Dataset` class.\n",
      "INFO:tensorflow:Loaded 100000 lines.\n",
      "INFO:tensorflow:Loaded 200000 lines.\n",
      "INFO:tensorflow:End of file.\n"
     ]
    }
   ],
   "source": [
    "# Need to set seed before loading data to be able to reload same data in the future\n",
    "random.seed(2018)\n",
    "\n",
    "test_dataset = Dataset(test_input_fn, OUTPUT_DIR)\n",
    "test_dataset.load_data(10000000)"
   ]
  },
  {
   "cell_type": "code",
   "execution_count": 192,
   "metadata": {},
   "outputs": [
    {
     "name": "stdout",
     "output_type": "stream",
     "text": [
      "INFO:tensorflow:Model is compatible with the `Dataset` instance.\n",
      "INFO:tensorflow:Doing batch 0/0\n",
      "INFO:tensorflow:TF-Records already exist - overwriting them.\n",
      "INFO:tensorflow:Preparing train data: 0/242144\n",
      "INFO:tensorflow:Preparing train data: 10000/242144\n",
      "INFO:tensorflow:Preparing train data: 20000/242144\n",
      "INFO:tensorflow:Preparing train data: 30000/242144\n",
      "INFO:tensorflow:Preparing train data: 40000/242144\n",
      "INFO:tensorflow:Preparing train data: 50000/242144\n",
      "INFO:tensorflow:Preparing train data: 60000/242144\n",
      "INFO:tensorflow:Preparing train data: 70000/242144\n",
      "INFO:tensorflow:Preparing train data: 80000/242144\n",
      "INFO:tensorflow:Preparing train data: 90000/242144\n",
      "INFO:tensorflow:Preparing train data: 100000/242144\n",
      "INFO:tensorflow:Preparing train data: 110000/242144\n",
      "INFO:tensorflow:Preparing train data: 120000/242144\n",
      "INFO:tensorflow:Preparing train data: 130000/242144\n",
      "INFO:tensorflow:Preparing train data: 140000/242144\n",
      "INFO:tensorflow:Preparing train data: 150000/242144\n",
      "INFO:tensorflow:Preparing train data: 160000/242144\n",
      "INFO:tensorflow:Preparing train data: 170000/242144\n",
      "INFO:tensorflow:Preparing train data: 180000/242144\n",
      "INFO:tensorflow:Preparing train data: 190000/242144\n",
      "INFO:tensorflow:Preparing train data: 200000/242144\n",
      "INFO:tensorflow:Preparing train data: 210000/242144\n",
      "INFO:tensorflow:Preparing train data: 220000/242144\n",
      "INFO:tensorflow:Preparing train data: 230000/242144\n",
      "INFO:tensorflow:Preparing train data: 240000/242144\n"
     ]
    },
    {
     "name": "stderr",
     "output_type": "stream",
     "text": [
      "/usr/local/google/home/msushkov/code/conversationai-models/model_evaluation/.pyenv/lib/python3.6/site-packages/google/auth/_default.py:66: UserWarning: Your application has authenticated using end user credentials from Google Cloud SDK. We recommend that most server applications use service accounts instead. If your application continues to use end user credentials from Cloud SDK, you might receive a \"quota exceeded\" or \"API not enabled\" error. For more information about service accounts, see https://cloud.google.com/docs/authentication/\n",
      "  warnings.warn(_CLOUD_SDK_CREDENTIALS_WARNING)\n"
     ]
    },
    {
     "name": "stdout",
     "output_type": "stream",
     "text": [
      "INFO:tensorflow:state : QUEUED\n"
     ]
    },
    {
     "name": "stderr",
     "output_type": "stream",
     "text": [
      "/usr/local/google/home/msushkov/code/conversationai-models/model_evaluation/.pyenv/lib/python3.6/site-packages/google/auth/_default.py:66: UserWarning: Your application has authenticated using end user credentials from Google Cloud SDK. We recommend that most server applications use service accounts instead. If your application continues to use end user credentials from Cloud SDK, you might receive a \"quota exceeded\" or \"API not enabled\" error. For more information about service accounts, see https://cloud.google.com/docs/authentication/\n",
      "  warnings.warn(_CLOUD_SDK_CREDENTIALS_WARNING)\n"
     ]
    },
    {
     "name": "stdout",
     "output_type": "stream",
     "text": [
      "INFO:tensorflow:Waiting for prediction job to complete. Minutes elapsed: 0\n",
      "INFO:tensorflow:Waiting for prediction job to complete. Minutes elapsed: 2\n",
      "INFO:tensorflow:Waiting for prediction job to complete. Minutes elapsed: 5\n",
      "INFO:tensorflow:Waiting for prediction job to complete. Minutes elapsed: 7\n",
      "INFO:tensorflow:Waiting for prediction job to complete. Minutes elapsed: 10\n",
      "INFO:tensorflow:Waiting for prediction job to complete. Minutes elapsed: 12\n",
      "INFO:tensorflow:Waiting for prediction job to complete. Minutes elapsed: 15\n",
      "INFO:tensorflow:Waiting for prediction job to complete. Minutes elapsed: 17\n",
      "INFO:tensorflow:Waiting for prediction job to complete. Minutes elapsed: 20\n",
      "INFO:tensorflow:Waiting for prediction job to complete. Minutes elapsed: 22\n",
      "INFO:tensorflow:Waiting for prediction job to complete. Minutes elapsed: 25\n",
      "INFO:tensorflow:Waiting for prediction job to complete. Minutes elapsed: 27\n",
      "INFO:tensorflow:Waiting for prediction job to complete. Minutes elapsed: 30\n",
      "INFO:tensorflow:Waiting for prediction job to complete. Minutes elapsed: 32\n",
      "INFO:tensorflow:Waiting for prediction job to complete. Minutes elapsed: 35\n",
      "INFO:tensorflow:Waiting for prediction job to complete. Minutes elapsed: 37\n",
      "INFO:tensorflow:Waiting for prediction job to complete. Minutes elapsed: 40\n",
      "INFO:tensorflow:Waiting for prediction job to complete. Minutes elapsed: 42\n",
      "INFO:tensorflow:Waiting for prediction job to complete. Minutes elapsed: 45\n",
      "INFO:tensorflow:Waiting for prediction job to complete. Minutes elapsed: 47\n",
      "INFO:tensorflow:Waiting for prediction job to complete. Minutes elapsed: 50\n",
      "INFO:tensorflow:Waiting for prediction job to complete. Minutes elapsed: 52\n",
      "INFO:tensorflow:Waiting for prediction job to complete. Minutes elapsed: 55\n",
      "INFO:tensorflow:Waiting for prediction job to complete. Minutes elapsed: 57\n",
      "INFO:tensorflow:Waiting for prediction job to complete. Minutes elapsed: 60\n",
      "INFO:tensorflow:Waiting for prediction job to complete. Minutes elapsed: 62\n",
      "INFO:tensorflow:Waiting for prediction job to complete. Minutes elapsed: 65\n",
      "INFO:tensorflow:Waiting for prediction job to complete. Minutes elapsed: 67\n",
      "INFO:tensorflow:Waiting for prediction job to complete. Minutes elapsed: 70\n",
      "INFO:tensorflow:Waiting for prediction job to complete. Minutes elapsed: 72\n",
      "INFO:tensorflow:Waiting for prediction job to complete. Minutes elapsed: 75\n",
      "INFO:tensorflow:Waiting for prediction job to complete. Minutes elapsed: 77\n",
      "INFO:tensorflow:Waiting for prediction job to complete. Minutes elapsed: 80\n",
      "INFO:tensorflow:Waiting for prediction job to complete. Minutes elapsed: 82\n",
      "INFO:tensorflow:Waiting for prediction job to complete. Minutes elapsed: 85\n",
      "INFO:tensorflow:Waiting for prediction job to complete. Minutes elapsed: 88\n",
      "INFO:tensorflow:Waiting for prediction job to complete. Minutes elapsed: 90\n",
      "INFO:tensorflow:Waiting for prediction job to complete. Minutes elapsed: 93\n",
      "INFO:tensorflow:Waiting for prediction job to complete. Minutes elapsed: 95\n",
      "INFO:tensorflow:Waiting for prediction job to complete. Minutes elapsed: 98\n",
      "INFO:tensorflow:Waiting for prediction job to complete. Minutes elapsed: 100\n",
      "INFO:tensorflow:Waiting for prediction job to complete. Minutes elapsed: 103\n",
      "INFO:tensorflow:Waiting for prediction job to complete. Minutes elapsed: 105\n",
      "INFO:tensorflow:Waiting for prediction job to complete. Minutes elapsed: 108\n",
      "INFO:tensorflow:Waiting for prediction job to complete. Minutes elapsed: 110\n",
      "INFO:tensorflow:Waiting for prediction job to complete. Minutes elapsed: 113\n",
      "INFO:tensorflow:Waiting for prediction job to complete. Minutes elapsed: 115\n",
      "INFO:tensorflow:Waiting for prediction job to complete. Minutes elapsed: 118\n",
      "INFO:tensorflow:Waiting for prediction job to complete. Minutes elapsed: 120\n",
      "INFO:tensorflow:Waiting for prediction job to complete. Minutes elapsed: 123\n",
      "INFO:tensorflow:Waiting for prediction job to complete. Minutes elapsed: 125\n",
      "INFO:tensorflow:Waiting for prediction job to complete. Minutes elapsed: 128\n",
      "INFO:tensorflow:Waiting for prediction job to complete. Minutes elapsed: 130\n",
      "INFO:tensorflow:Waiting for prediction job to complete. Minutes elapsed: 133\n",
      "INFO:tensorflow:Waiting for prediction job to complete. Minutes elapsed: 135\n",
      "INFO:tensorflow:Waiting for prediction job to complete. Minutes elapsed: 138\n",
      "INFO:tensorflow:Waiting for prediction job to complete. Minutes elapsed: 140\n",
      "INFO:tensorflow:Waiting for prediction job to complete. Minutes elapsed: 143\n",
      "INFO:tensorflow:Waiting for prediction job to complete. Minutes elapsed: 145\n",
      "INFO:tensorflow:Waiting for prediction job to complete. Minutes elapsed: 148\n",
      "INFO:tensorflow:Waiting for prediction job to complete. Minutes elapsed: 150\n",
      "INFO:tensorflow:Waiting for prediction job to complete. Minutes elapsed: 153\n",
      "INFO:tensorflow:Waiting for prediction job to complete. Minutes elapsed: 155\n",
      "INFO:tensorflow:Waiting for prediction job to complete. Minutes elapsed: 158\n",
      "INFO:tensorflow:Waiting for prediction job to complete. Minutes elapsed: 160\n",
      "INFO:tensorflow:Waiting for prediction job to complete. Minutes elapsed: 163\n",
      "INFO:tensorflow:Waiting for prediction job to complete. Minutes elapsed: 166\n",
      "INFO:tensorflow:Waiting for prediction job to complete. Minutes elapsed: 168\n",
      "INFO:tensorflow:Waiting for prediction job to complete. Minutes elapsed: 171\n",
      "INFO:tensorflow:Waiting for prediction job to complete. Minutes elapsed: 173\n",
      "INFO:tensorflow:Waiting for prediction job to complete. Minutes elapsed: 176\n",
      "INFO:tensorflow:Waiting for prediction job to complete. Minutes elapsed: 178\n",
      "INFO:tensorflow:Waiting for prediction job to complete. Minutes elapsed: 181\n",
      "INFO:tensorflow:Waiting for prediction job to complete. Minutes elapsed: 183\n",
      "INFO:tensorflow:Waiting for prediction job to complete. Minutes elapsed: 186\n",
      "INFO:tensorflow:Waiting for prediction job to complete. Minutes elapsed: 188\n",
      "INFO:tensorflow:Waiting for prediction job to complete. Minutes elapsed: 191\n",
      "INFO:tensorflow:Waiting for prediction job to complete. Minutes elapsed: 193\n",
      "INFO:tensorflow:Waiting for prediction job to complete. Minutes elapsed: 196\n",
      "INFO:tensorflow:Waiting for prediction job to complete. Minutes elapsed: 198\n",
      "INFO:tensorflow:Waiting for prediction job to complete. Minutes elapsed: 201\n",
      "INFO:tensorflow:Waiting for prediction job to complete. Minutes elapsed: 203\n",
      "INFO:tensorflow:Waiting for prediction job to complete. Minutes elapsed: 206\n",
      "INFO:tensorflow:Waiting for prediction job to complete. Minutes elapsed: 208\n",
      "INFO:tensorflow:Waiting for prediction job to complete. Minutes elapsed: 211\n",
      "INFO:tensorflow:Waiting for prediction job to complete. Minutes elapsed: 213\n",
      "INFO:tensorflow:Waiting for prediction job to complete. Minutes elapsed: 216\n",
      "INFO:tensorflow:Waiting for prediction job to complete. Minutes elapsed: 218\n",
      "INFO:tensorflow:Waiting for prediction job to complete. Minutes elapsed: 221\n",
      "INFO:tensorflow:Waiting for prediction job to complete. Minutes elapsed: 223\n",
      "INFO:tensorflow:Waiting for prediction job to complete. Minutes elapsed: 226\n",
      "INFO:tensorflow:Waiting for prediction job to complete. Minutes elapsed: 228\n",
      "INFO:tensorflow:Waiting for prediction job to complete. Minutes elapsed: 231\n",
      "INFO:tensorflow:Waiting for prediction job to complete. Minutes elapsed: 233\n",
      "INFO:tensorflow:Waiting for prediction job to complete. Minutes elapsed: 236\n",
      "INFO:tensorflow:Waiting for prediction job to complete. Minutes elapsed: 238\n",
      "INFO:tensorflow:Waiting for prediction job to complete. Minutes elapsed: 241\n",
      "INFO:tensorflow:Waiting for prediction job to complete. Minutes elapsed: 243\n",
      "INFO:tensorflow:Waiting for prediction job to complete. Minutes elapsed: 246\n",
      "INFO:tensorflow:Waiting for prediction job to complete. Minutes elapsed: 249\n",
      "INFO:tensorflow:Waiting for prediction job to complete. Minutes elapsed: 251\n",
      "INFO:tensorflow:Waiting for prediction job to complete. Minutes elapsed: 254\n",
      "INFO:tensorflow:Waiting for prediction job to complete. Minutes elapsed: 256\n",
      "INFO:tensorflow:Waiting for prediction job to complete. Minutes elapsed: 259\n",
      "INFO:tensorflow:Waiting for prediction job to complete. Minutes elapsed: 261\n",
      "INFO:tensorflow:Waiting for prediction job to complete. Minutes elapsed: 264\n",
      "INFO:tensorflow:Waiting for prediction job to complete. Minutes elapsed: 266\n"
     ]
    },
    {
     "name": "stdout",
     "output_type": "stream",
     "text": [
      "INFO:tensorflow:Waiting for prediction job to complete. Minutes elapsed: 269\n",
      "INFO:tensorflow:Waiting for prediction job to complete. Minutes elapsed: 271\n",
      "INFO:tensorflow:Waiting for prediction job to complete. Minutes elapsed: 274\n",
      "INFO:tensorflow:Waiting for prediction job to complete. Minutes elapsed: 276\n",
      "INFO:tensorflow:Waiting for prediction job to complete. Minutes elapsed: 279\n",
      "INFO:tensorflow:Waiting for prediction job to complete. Minutes elapsed: 281\n",
      "INFO:tensorflow:Waiting for prediction job to complete. Minutes elapsed: 284\n",
      "INFO:tensorflow:Waiting for prediction job to complete. Minutes elapsed: 286\n",
      "INFO:tensorflow:Waiting for prediction job to complete. Minutes elapsed: 289\n",
      "INFO:tensorflow:Waiting for prediction job to complete. Minutes elapsed: 291\n",
      "INFO:tensorflow:Waiting for prediction job to complete. Minutes elapsed: 294\n",
      "INFO:tensorflow:Waiting for prediction job to complete. Minutes elapsed: 296\n",
      "INFO:tensorflow:Waiting for prediction job to complete. Minutes elapsed: 299\n",
      "INFO:tensorflow:Waiting for prediction job to complete. Minutes elapsed: 301\n",
      "INFO:tensorflow:Waiting for prediction job to complete. Minutes elapsed: 304\n",
      "INFO:tensorflow:Waiting for prediction job to complete. Minutes elapsed: 306\n",
      "INFO:tensorflow:Waiting for prediction job to complete. Minutes elapsed: 309\n",
      "INFO:tensorflow:Waiting for prediction job to complete. Minutes elapsed: 311\n",
      "INFO:tensorflow:Waiting for prediction job to complete. Minutes elapsed: 314\n",
      "INFO:tensorflow:Waiting for prediction job to complete. Minutes elapsed: 316\n",
      "INFO:tensorflow:Waiting for prediction job to complete. Minutes elapsed: 319\n",
      "INFO:tensorflow:Waiting for prediction job to complete. Minutes elapsed: 321\n",
      "INFO:tensorflow:Waiting for prediction job to complete. Minutes elapsed: 324\n",
      "INFO:tensorflow:Waiting for prediction job to complete. Minutes elapsed: 326\n",
      "INFO:tensorflow:Waiting for prediction job to complete. Minutes elapsed: 329\n",
      "INFO:tensorflow:Waiting for prediction job to complete. Minutes elapsed: 331\n",
      "INFO:tensorflow:Waiting for prediction job to complete. Minutes elapsed: 334\n",
      "INFO:tensorflow:Waiting for prediction job to complete. Minutes elapsed: 337\n",
      "INFO:tensorflow:Waiting for prediction job to complete. Minutes elapsed: 339\n",
      "INFO:tensorflow:Waiting for prediction job to complete. Minutes elapsed: 342\n",
      "INFO:tensorflow:Waiting for prediction job to complete. Minutes elapsed: 344\n",
      "INFO:tensorflow:Waiting for prediction job to complete. Minutes elapsed: 347\n",
      "INFO:tensorflow:Waiting for prediction job to complete. Minutes elapsed: 349\n",
      "INFO:tensorflow:Waiting for prediction job to complete. Minutes elapsed: 352\n",
      "INFO:tensorflow:Waiting for prediction job to complete. Minutes elapsed: 354\n",
      "INFO:tensorflow:Waiting for prediction job to complete. Minutes elapsed: 357\n",
      "INFO:tensorflow:Waiting for prediction job to complete. Minutes elapsed: 359\n",
      "INFO:tensorflow:Waiting for prediction job to complete. Minutes elapsed: 362\n",
      "INFO:tensorflow:Waiting for prediction job to complete. Minutes elapsed: 364\n",
      "INFO:tensorflow:Waiting for prediction job to complete. Minutes elapsed: 367\n",
      "INFO:tensorflow:Waiting for prediction job to complete. Minutes elapsed: 369\n",
      "INFO:tensorflow:Waiting for prediction job to complete. Minutes elapsed: 372\n",
      "INFO:tensorflow:Waiting for prediction job to complete. Minutes elapsed: 374\n",
      "INFO:tensorflow:Waiting for prediction job to complete. Minutes elapsed: 377\n",
      "INFO:tensorflow:Waiting for prediction job to complete. Minutes elapsed: 379\n",
      "INFO:tensorflow:Waiting for prediction job to complete. Minutes elapsed: 382\n",
      "INFO:tensorflow:Waiting for prediction job to complete. Minutes elapsed: 384\n",
      "INFO:tensorflow:Waiting for prediction job to complete. Minutes elapsed: 387\n",
      "INFO:tensorflow:Waiting for prediction job to complete. Minutes elapsed: 389\n",
      "INFO:tensorflow:Waiting for prediction job to complete. Minutes elapsed: 392\n",
      "INFO:tensorflow:Waiting for prediction job to complete. Minutes elapsed: 394\n",
      "INFO:tensorflow:Waiting for prediction job to complete. Minutes elapsed: 397\n",
      "INFO:tensorflow:Waiting for prediction job to complete. Minutes elapsed: 399\n",
      "INFO:tensorflow:Waiting for prediction job to complete. Minutes elapsed: 402\n",
      "INFO:tensorflow:Waiting for prediction job to complete. Minutes elapsed: 404\n",
      "INFO:tensorflow:Waiting for prediction job to complete. Minutes elapsed: 407\n",
      "INFO:tensorflow:Waiting for prediction job to complete. Minutes elapsed: 409\n",
      "INFO:tensorflow:Waiting for prediction job to complete. Minutes elapsed: 412\n",
      "INFO:tensorflow:Waiting for prediction job to complete. Minutes elapsed: 414\n",
      "INFO:tensorflow:Waiting for prediction job to complete. Minutes elapsed: 417\n",
      "INFO:tensorflow:Waiting for prediction job to complete. Minutes elapsed: 420\n",
      "INFO:tensorflow:Waiting for prediction job to complete. Minutes elapsed: 422\n",
      "INFO:tensorflow:Waiting for prediction job to complete. Minutes elapsed: 425\n",
      "INFO:tensorflow:Waiting for prediction job to complete. Minutes elapsed: 427\n",
      "INFO:tensorflow:Waiting for prediction job to complete. Minutes elapsed: 430\n",
      "INFO:tensorflow:Waiting for prediction job to complete. Minutes elapsed: 432\n",
      "INFO:tensorflow:Waiting for prediction job to complete. Minutes elapsed: 435\n",
      "INFO:tensorflow:Waiting for prediction job to complete. Minutes elapsed: 437\n",
      "INFO:tensorflow:Waiting for prediction job to complete. Minutes elapsed: 440\n",
      "INFO:tensorflow:Waiting for prediction job to complete. Minutes elapsed: 442\n",
      "INFO:tensorflow:Waiting for prediction job to complete. Minutes elapsed: 445\n",
      "INFO:tensorflow:Waiting for prediction job to complete. Minutes elapsed: 447\n",
      "INFO:tensorflow:Waiting for prediction job to complete. Minutes elapsed: 450\n",
      "INFO:tensorflow:Waiting for prediction job to complete. Minutes elapsed: 452\n",
      "INFO:tensorflow:Waiting for prediction job to complete. Minutes elapsed: 455\n",
      "INFO:tensorflow:Waiting for prediction job to complete. Minutes elapsed: 457\n",
      "INFO:tensorflow:Waiting for prediction job to complete. Minutes elapsed: 460\n",
      "INFO:tensorflow:Waiting for prediction job to complete. Minutes elapsed: 462\n",
      "INFO:tensorflow:Waiting for prediction job to complete. Minutes elapsed: 465\n",
      "INFO:tensorflow:Waiting for prediction job to complete. Minutes elapsed: 467\n",
      "INFO:tensorflow:Waiting for prediction job to complete. Minutes elapsed: 470\n",
      "INFO:tensorflow:Waiting for prediction job to complete. Minutes elapsed: 472\n",
      "INFO:tensorflow:Waiting for prediction job to complete. Minutes elapsed: 475\n",
      "INFO:tensorflow:Waiting for prediction job to complete. Minutes elapsed: 477\n",
      "INFO:tensorflow:Waiting for prediction job to complete. Minutes elapsed: 480\n",
      "INFO:tensorflow:Waiting for prediction job to complete. Minutes elapsed: 482\n",
      "INFO:tensorflow:Waiting for prediction job to complete. Minutes elapsed: 485\n",
      "INFO:tensorflow:Waiting for prediction job to complete. Minutes elapsed: 487\n",
      "INFO:tensorflow:Waiting for prediction job to complete. Minutes elapsed: 490\n",
      "INFO:tensorflow:Waiting for prediction job to complete. Minutes elapsed: 492\n",
      "INFO:tensorflow:Waiting for prediction job to complete. Minutes elapsed: 495\n",
      "INFO:tensorflow:Waiting for prediction job to complete. Minutes elapsed: 497\n",
      "INFO:tensorflow:Waiting for prediction job to complete. Minutes elapsed: 500\n",
      "INFO:tensorflow:Waiting for prediction job to complete. Minutes elapsed: 503\n",
      "INFO:tensorflow:Waiting for prediction job to complete. Minutes elapsed: 505\n",
      "INFO:tensorflow:Waiting for prediction job to complete. Minutes elapsed: 508\n",
      "INFO:tensorflow:Waiting for prediction job to complete. Minutes elapsed: 510\n",
      "INFO:tensorflow:Waiting for prediction job to complete. Minutes elapsed: 513\n",
      "INFO:tensorflow:Waiting for prediction job to complete. Minutes elapsed: 515\n",
      "INFO:tensorflow:Waiting for prediction job to complete. Minutes elapsed: 518\n",
      "INFO:tensorflow:Waiting for prediction job to complete. Minutes elapsed: 520\n",
      "INFO:tensorflow:Waiting for prediction job to complete. Minutes elapsed: 523\n",
      "INFO:tensorflow:Waiting for prediction job to complete. Minutes elapsed: 525\n",
      "INFO:tensorflow:Waiting for prediction job to complete. Minutes elapsed: 528\n",
      "INFO:tensorflow:Waiting for prediction job to complete. Minutes elapsed: 530\n",
      "INFO:tensorflow:Waiting for prediction job to complete. Minutes elapsed: 533\n",
      "INFO:tensorflow:Waiting for prediction job to complete. Minutes elapsed: 535\n"
     ]
    },
    {
     "name": "stdout",
     "output_type": "stream",
     "text": [
      "INFO:tensorflow:Waiting for prediction job to complete. Minutes elapsed: 538\n",
      "INFO:tensorflow:Waiting for prediction job to complete. Minutes elapsed: 540\n",
      "INFO:tensorflow:Waiting for prediction job to complete. Minutes elapsed: 543\n",
      "INFO:tensorflow:Waiting for prediction job to complete. Minutes elapsed: 545\n",
      "INFO:tensorflow:Waiting for prediction job to complete. Minutes elapsed: 548\n",
      "INFO:tensorflow:Waiting for prediction job to complete. Minutes elapsed: 550\n",
      "INFO:tensorflow:Waiting for prediction job to complete. Minutes elapsed: 553\n",
      "INFO:tensorflow:Waiting for prediction job to complete. Minutes elapsed: 555\n",
      "INFO:tensorflow:Waiting for prediction job to complete. Minutes elapsed: 558\n",
      "INFO:tensorflow:Waiting for prediction job to complete. Minutes elapsed: 560\n",
      "INFO:tensorflow:Waiting for prediction job to complete. Minutes elapsed: 563\n",
      "INFO:tensorflow:Waiting for prediction job to complete. Minutes elapsed: 565\n",
      "INFO:tensorflow:Waiting for prediction job to complete. Minutes elapsed: 568\n",
      "INFO:tensorflow:Waiting for prediction job to complete. Minutes elapsed: 570\n",
      "INFO:tensorflow:Waiting for prediction job to complete. Minutes elapsed: 573\n",
      "INFO:tensorflow:Waiting for prediction job to complete. Minutes elapsed: 575\n",
      "INFO:tensorflow:Waiting for prediction job to complete. Minutes elapsed: 578\n",
      "INFO:tensorflow:Waiting for prediction job to complete. Minutes elapsed: 580\n",
      "INFO:tensorflow:Waiting for prediction job to complete. Minutes elapsed: 583\n",
      "INFO:tensorflow:Waiting for prediction job to complete. Minutes elapsed: 586\n",
      "INFO:tensorflow:Waiting for prediction job to complete. Minutes elapsed: 588\n",
      "INFO:tensorflow:Waiting for prediction job to complete. Minutes elapsed: 591\n",
      "INFO:tensorflow:Waiting for prediction job to complete. Minutes elapsed: 593\n",
      "INFO:tensorflow:Waiting for prediction job to complete. Minutes elapsed: 596\n",
      "INFO:tensorflow:Waiting for prediction job to complete. Minutes elapsed: 598\n",
      "INFO:tensorflow:Waiting for prediction job to complete. Minutes elapsed: 601\n",
      "INFO:tensorflow:Waiting for prediction job to complete. Minutes elapsed: 603\n",
      "INFO:tensorflow:Waiting for prediction job to complete. Minutes elapsed: 606\n",
      "INFO:tensorflow:Waiting for prediction job to complete. Minutes elapsed: 608\n",
      "INFO:tensorflow:Waiting for prediction job to complete. Minutes elapsed: 611\n",
      "INFO:tensorflow:Waiting for prediction job to complete. Minutes elapsed: 613\n",
      "INFO:tensorflow:Waiting for prediction job to complete. Minutes elapsed: 616\n",
      "INFO:tensorflow:Waiting for prediction job to complete. Minutes elapsed: 618\n",
      "INFO:tensorflow:Waiting for prediction job to complete. Minutes elapsed: 621\n",
      "INFO:tensorflow:Waiting for prediction job to complete. Minutes elapsed: 623\n",
      "INFO:tensorflow:Waiting for prediction job to complete. Minutes elapsed: 626\n",
      "INFO:tensorflow:Waiting for prediction job to complete. Minutes elapsed: 628\n",
      "INFO:tensorflow:Waiting for prediction job to complete. Minutes elapsed: 631\n",
      "INFO:tensorflow:Waiting for prediction job to complete. Minutes elapsed: 633\n",
      "INFO:tensorflow:Waiting for prediction job to complete. Minutes elapsed: 636\n",
      "INFO:tensorflow:Waiting for prediction job to complete. Minutes elapsed: 638\n",
      "INFO:tensorflow:Waiting for prediction job to complete. Minutes elapsed: 641\n",
      "INFO:tensorflow:Waiting for prediction job to complete. Minutes elapsed: 643\n",
      "INFO:tensorflow:Waiting for prediction job to complete. Minutes elapsed: 646\n",
      "INFO:tensorflow:Waiting for prediction job to complete. Minutes elapsed: 648\n",
      "INFO:tensorflow:Waiting for prediction job to complete. Minutes elapsed: 651\n",
      "INFO:tensorflow:Waiting for prediction job to complete. Minutes elapsed: 653\n",
      "INFO:tensorflow:Waiting for prediction job to complete. Minutes elapsed: 656\n",
      "INFO:tensorflow:Waiting for prediction job to complete. Minutes elapsed: 658\n",
      "INFO:tensorflow:Waiting for prediction job to complete. Minutes elapsed: 661\n",
      "INFO:tensorflow:Waiting for prediction job to complete. Minutes elapsed: 663\n",
      "INFO:tensorflow:Waiting for prediction job to complete. Minutes elapsed: 666\n",
      "INFO:tensorflow:Waiting for prediction job to complete. Minutes elapsed: 668\n",
      "INFO:tensorflow:Waiting for prediction job to complete. Minutes elapsed: 671\n",
      "INFO:tensorflow:Waiting for prediction job to complete. Minutes elapsed: 674\n",
      "INFO:tensorflow:Waiting for prediction job to complete. Minutes elapsed: 676\n",
      "INFO:tensorflow:Waiting for prediction job to complete. Minutes elapsed: 679\n",
      "INFO:tensorflow:Waiting for prediction job to complete. Minutes elapsed: 681\n",
      "INFO:tensorflow:Waiting for prediction job to complete. Minutes elapsed: 684\n",
      "INFO:tensorflow:Waiting for prediction job to complete. Minutes elapsed: 686\n",
      "INFO:tensorflow:Waiting for prediction job to complete. Minutes elapsed: 689\n",
      "INFO:tensorflow:Waiting for prediction job to complete. Minutes elapsed: 691\n",
      "INFO:tensorflow:Waiting for prediction job to complete. Minutes elapsed: 694\n",
      "INFO:tensorflow:Waiting for prediction job to complete. Minutes elapsed: 696\n",
      "INFO:tensorflow:Waiting for prediction job to complete. Minutes elapsed: 699\n",
      "INFO:tensorflow:Waiting for prediction job to complete. Minutes elapsed: 701\n",
      "INFO:tensorflow:Waiting for prediction job to complete. Minutes elapsed: 704\n",
      "INFO:tensorflow:Waiting for prediction job to complete. Minutes elapsed: 706\n",
      "INFO:tensorflow:Waiting for prediction job to complete. Minutes elapsed: 709\n",
      "INFO:tensorflow:Waiting for prediction job to complete. Minutes elapsed: 711\n",
      "INFO:tensorflow:Waiting for prediction job to complete. Minutes elapsed: 714\n",
      "INFO:tensorflow:Waiting for prediction job to complete. Minutes elapsed: 716\n",
      "INFO:tensorflow:Waiting for prediction job to complete. Minutes elapsed: 719\n",
      "INFO:tensorflow:Waiting for prediction job to complete. Minutes elapsed: 721\n",
      "INFO:tensorflow:Waiting for prediction job to complete. Minutes elapsed: 724\n",
      "INFO:tensorflow:Waiting for prediction job to complete. Minutes elapsed: 726\n",
      "INFO:tensorflow:Waiting for prediction job to complete. Minutes elapsed: 729\n",
      "INFO:tensorflow:Waiting for prediction job to complete. Minutes elapsed: 731\n",
      "INFO:tensorflow:Waiting for prediction job to complete. Minutes elapsed: 734\n",
      "INFO:tensorflow:Waiting for prediction job to complete. Minutes elapsed: 736\n",
      "INFO:tensorflow:Waiting for prediction job to complete. Minutes elapsed: 739\n",
      "INFO:tensorflow:Waiting for prediction job to complete. Minutes elapsed: 741\n",
      "INFO:tensorflow:Waiting for prediction job to complete. Minutes elapsed: 744\n",
      "INFO:tensorflow:Waiting for prediction job to complete. Minutes elapsed: 746\n",
      "INFO:tensorflow:Waiting for prediction job to complete. Minutes elapsed: 749\n",
      "INFO:tensorflow:Waiting for prediction job to complete. Minutes elapsed: 751\n",
      "INFO:tensorflow:Waiting for prediction job to complete. Minutes elapsed: 754\n",
      "INFO:tensorflow:Waiting for prediction job to complete. Minutes elapsed: 756\n",
      "INFO:tensorflow:Waiting for prediction job to complete. Minutes elapsed: 759\n",
      "INFO:tensorflow:Waiting for prediction job to complete. Minutes elapsed: 762\n",
      "INFO:tensorflow:Waiting for prediction job to complete. Minutes elapsed: 764\n",
      "INFO:tensorflow:Waiting for prediction job to complete. Minutes elapsed: 767\n",
      "INFO:tensorflow:Waiting for prediction job to complete. Minutes elapsed: 769\n",
      "INFO:tensorflow:Waiting for prediction job to complete. Minutes elapsed: 772\n",
      "INFO:tensorflow:Waiting for prediction job to complete. Minutes elapsed: 774\n",
      "INFO:tensorflow:Waiting for prediction job to complete. Minutes elapsed: 777\n",
      "INFO:tensorflow:Waiting for prediction job to complete. Minutes elapsed: 779\n",
      "INFO:tensorflow:Waiting for prediction job to complete. Minutes elapsed: 782\n",
      "INFO:tensorflow:Waiting for prediction job to complete. Minutes elapsed: 784\n",
      "INFO:tensorflow:Waiting for prediction job to complete. Minutes elapsed: 787\n",
      "INFO:tensorflow:Waiting for prediction job to complete. Minutes elapsed: 789\n",
      "INFO:tensorflow:Waiting for prediction job to complete. Minutes elapsed: 792\n",
      "INFO:tensorflow:Waiting for prediction job to complete. Minutes elapsed: 794\n",
      "INFO:tensorflow:Waiting for prediction job to complete. Minutes elapsed: 797\n",
      "INFO:tensorflow:Waiting for prediction job to complete. Minutes elapsed: 799\n",
      "INFO:tensorflow:Waiting for prediction job to complete. Minutes elapsed: 802\n",
      "INFO:tensorflow:Waiting for prediction job to complete. Minutes elapsed: 804\n"
     ]
    },
    {
     "name": "stdout",
     "output_type": "stream",
     "text": [
      "INFO:tensorflow:Waiting for prediction job to complete. Minutes elapsed: 807\n",
      "INFO:tensorflow:Waiting for prediction job to complete. Minutes elapsed: 809\n",
      "INFO:tensorflow:Waiting for prediction job to complete. Minutes elapsed: 812\n",
      "INFO:tensorflow:Waiting for prediction job to complete. Minutes elapsed: 814\n",
      "INFO:tensorflow:Waiting for prediction job to complete. Minutes elapsed: 817\n",
      "INFO:tensorflow:Waiting for prediction job to complete. Minutes elapsed: 819\n",
      "INFO:tensorflow:Waiting for prediction job to complete. Minutes elapsed: 822\n",
      "INFO:tensorflow:Waiting for prediction job to complete. Minutes elapsed: 824\n",
      "INFO:tensorflow:Waiting for prediction job to complete. Minutes elapsed: 827\n",
      "INFO:tensorflow:Waiting for prediction job to complete. Minutes elapsed: 829\n",
      "INFO:tensorflow:Waiting for prediction job to complete. Minutes elapsed: 832\n",
      "INFO:tensorflow:Waiting for prediction job to complete. Minutes elapsed: 834\n",
      "INFO:tensorflow:Waiting for prediction job to complete. Minutes elapsed: 837\n",
      "INFO:tensorflow:Waiting for prediction job to complete. Minutes elapsed: 839\n",
      "INFO:tensorflow:Waiting for prediction job to complete. Minutes elapsed: 842\n",
      "INFO:tensorflow:Waiting for prediction job to complete. Minutes elapsed: 844\n",
      "INFO:tensorflow:Waiting for prediction job to complete. Minutes elapsed: 847\n",
      "INFO:tensorflow:Waiting for prediction job to complete. Minutes elapsed: 850\n",
      "INFO:tensorflow:Waiting for prediction job to complete. Minutes elapsed: 852\n",
      "INFO:tensorflow:Prediction job completed.\n"
     ]
    }
   ],
   "source": [
    "# Set recompute_predictions=False to save time if predictions are available.\n",
    "test_dataset.add_model_prediction_to_data(model, recompute_predictions=True)"
   ]
  },
  {
   "cell_type": "code",
   "execution_count": 193,
   "metadata": {},
   "outputs": [],
   "source": [
    "civil_comments_hub_df = test_dataset.show_data()"
   ]
  },
  {
   "cell_type": "code",
   "execution_count": 194,
   "metadata": {},
   "outputs": [
    {
     "name": "stdout",
     "output_type": "stream",
     "text": [
      "tf_hub_classifier_civil_comments:v20190322_142141_21201_1553344552\n",
      "\tROC AUC: 0.9595451744696132\n",
      "\tPR AUC: 0.7429338592289392\n"
     ]
    }
   ],
   "source": [
    "print_results(civil_comments_hub_df, MODEL_NAMES)"
   ]
  },
  {
   "cell_type": "markdown",
   "metadata": {},
   "source": [
    "## Evaluate models on Toxicity dataset"
   ]
  },
  {
   "cell_type": "code",
   "execution_count": 195,
   "metadata": {},
   "outputs": [],
   "source": [
    "LABEL_NAME_PREDICTION_MODEL = 'frac_neg/logistic'\n",
    "DATASET = 'gs://conversationai-models/resources/toxicity_data/toxicity_q42017_test.tfrecord'\n",
    "DATA_LABEL = 'frac_neg'\n",
    "DATASET_TEXT_FEATURE='comment_text'\n",
    "\n",
    "# Pattern for path of tf_records\n",
    "OUTPUT_DIR = os.path.join(OUTPUT_DIR_BASE, 'toxicity_test')"
   ]
  },
  {
   "cell_type": "markdown",
   "metadata": {},
   "source": [
    "### CNN, GRU Attention Models"
   ]
  },
  {
   "cell_type": "code",
   "execution_count": 162,
   "metadata": {},
   "outputs": [],
   "source": [
    "MODEL_TEXT_FEATURE = 'tokens'\n",
    "MODEL_NAMES = [\n",
    "    'tf_cnn_toxicity_glove:v_20190219_185532',\n",
    "    'tf_gru_attention_toxicity_glove:v_20190219_185516',\n",
    "]\n",
    "\n",
    "model_input_spec = {\n",
    "    MODEL_TEXT_FEATURE: utils_tfrecords.EncodingFeatureSpec.LIST_STRING\n",
    "}\n",
    "\n",
    "model = Model(\n",
    "    feature_keys_spec=model_input_spec,\n",
    "    prediction_keys=LABEL_NAME_PREDICTION_MODEL,\n",
    "    example_key=SENTENCE_KEY,\n",
    "    model_names=MODEL_NAMES,\n",
    "    project_name=PROJECT_NAME)\n",
    "\n",
    "test_input_fn = make_test_input_fn(\n",
    "    DATASET, MODEL_TEXT_FEATURE, DATASET_TEXT_FEATURE,\n",
    "    DATA_LABEL, tokenizer)"
   ]
  },
  {
   "cell_type": "code",
   "execution_count": 163,
   "metadata": {},
   "outputs": [
    {
     "name": "stderr",
     "output_type": "stream",
     "text": [
      "/usr/local/google/home/msushkov/code/conversationai-models/model_evaluation/.pyenv/lib/python3.6/site-packages/tensorflow/python/client/session.py:1702: UserWarning: An interactive session is already active. This can cause out-of-memory errors in some cases. You must explicitly call `InteractiveSession.close()` to release resources held by the other session(s).\n",
      "  warnings.warn('An interactive session is already active. This can '\n"
     ]
    },
    {
     "name": "stdout",
     "output_type": "stream",
     "text": [
      "INFO:tensorflow:input_fn is compatible with the `Dataset` class.\n",
      "INFO:tensorflow:Loaded 100000 lines.\n",
      "INFO:tensorflow:End of file.\n"
     ]
    }
   ],
   "source": [
    "# Need to set seed before loading data to be able to reload same data in the future\n",
    "random.seed(2018)\n",
    "\n",
    "test_dataset = Dataset(test_input_fn, OUTPUT_DIR)\n",
    "test_dataset.load_data(10000000)"
   ]
  },
  {
   "cell_type": "code",
   "execution_count": 148,
   "metadata": {},
   "outputs": [
    {
     "name": "stdout",
     "output_type": "stream",
     "text": [
      "INFO:tensorflow:Model is compatible with the `Dataset` instance.\n",
      "INFO:tensorflow:Doing batch 0/0\n",
      "INFO:tensorflow:Preparing train data: 0/187681\n",
      "INFO:tensorflow:Preparing train data: 10000/187681\n",
      "INFO:tensorflow:Preparing train data: 20000/187681\n",
      "INFO:tensorflow:Preparing train data: 30000/187681\n",
      "INFO:tensorflow:Preparing train data: 40000/187681\n",
      "INFO:tensorflow:Preparing train data: 50000/187681\n",
      "INFO:tensorflow:Preparing train data: 60000/187681\n",
      "INFO:tensorflow:Preparing train data: 70000/187681\n",
      "INFO:tensorflow:Preparing train data: 80000/187681\n",
      "INFO:tensorflow:Preparing train data: 90000/187681\n",
      "INFO:tensorflow:Preparing train data: 100000/187681\n",
      "INFO:tensorflow:Preparing train data: 110000/187681\n",
      "INFO:tensorflow:Preparing train data: 120000/187681\n",
      "INFO:tensorflow:Preparing train data: 130000/187681\n",
      "INFO:tensorflow:Preparing train data: 140000/187681\n",
      "INFO:tensorflow:Preparing train data: 150000/187681\n",
      "INFO:tensorflow:Preparing train data: 160000/187681\n",
      "INFO:tensorflow:Preparing train data: 170000/187681\n",
      "INFO:tensorflow:Preparing train data: 180000/187681\n"
     ]
    },
    {
     "name": "stderr",
     "output_type": "stream",
     "text": [
      "/usr/local/google/home/msushkov/code/conversationai-models/model_evaluation/.pyenv/lib/python3.6/site-packages/google/auth/_default.py:66: UserWarning: Your application has authenticated using end user credentials from Google Cloud SDK. We recommend that most server applications use service accounts instead. If your application continues to use end user credentials from Cloud SDK, you might receive a \"quota exceeded\" or \"API not enabled\" error. For more information about service accounts, see https://cloud.google.com/docs/authentication/\n",
      "  warnings.warn(_CLOUD_SDK_CREDENTIALS_WARNING)\n"
     ]
    },
    {
     "name": "stdout",
     "output_type": "stream",
     "text": [
      "INFO:tensorflow:state : QUEUED\n"
     ]
    },
    {
     "name": "stderr",
     "output_type": "stream",
     "text": [
      "/usr/local/google/home/msushkov/code/conversationai-models/model_evaluation/.pyenv/lib/python3.6/site-packages/google/auth/_default.py:66: UserWarning: Your application has authenticated using end user credentials from Google Cloud SDK. We recommend that most server applications use service accounts instead. If your application continues to use end user credentials from Cloud SDK, you might receive a \"quota exceeded\" or \"API not enabled\" error. For more information about service accounts, see https://cloud.google.com/docs/authentication/\n",
      "  warnings.warn(_CLOUD_SDK_CREDENTIALS_WARNING)\n"
     ]
    },
    {
     "name": "stdout",
     "output_type": "stream",
     "text": [
      "INFO:tensorflow:state : QUEUED\n"
     ]
    },
    {
     "name": "stderr",
     "output_type": "stream",
     "text": [
      "/usr/local/google/home/msushkov/code/conversationai-models/model_evaluation/.pyenv/lib/python3.6/site-packages/google/auth/_default.py:66: UserWarning: Your application has authenticated using end user credentials from Google Cloud SDK. We recommend that most server applications use service accounts instead. If your application continues to use end user credentials from Cloud SDK, you might receive a \"quota exceeded\" or \"API not enabled\" error. For more information about service accounts, see https://cloud.google.com/docs/authentication/\n",
      "  warnings.warn(_CLOUD_SDK_CREDENTIALS_WARNING)\n"
     ]
    },
    {
     "name": "stdout",
     "output_type": "stream",
     "text": [
      "INFO:tensorflow:Waiting for prediction job to complete. Minutes elapsed: 0\n",
      "INFO:tensorflow:Waiting for prediction job to complete. Minutes elapsed: 2\n",
      "INFO:tensorflow:Waiting for prediction job to complete. Minutes elapsed: 5\n",
      "INFO:tensorflow:Waiting for prediction job to complete. Minutes elapsed: 7\n",
      "INFO:tensorflow:Waiting for prediction job to complete. Minutes elapsed: 10\n",
      "INFO:tensorflow:Waiting for prediction job to complete. Minutes elapsed: 12\n",
      "INFO:tensorflow:Waiting for prediction job to complete. Minutes elapsed: 15\n",
      "INFO:tensorflow:Waiting for prediction job to complete. Minutes elapsed: 17\n",
      "INFO:tensorflow:Waiting for prediction job to complete. Minutes elapsed: 20\n",
      "INFO:tensorflow:Waiting for prediction job to complete. Minutes elapsed: 22\n",
      "INFO:tensorflow:Waiting for prediction job to complete. Minutes elapsed: 25\n",
      "INFO:tensorflow:Waiting for prediction job to complete. Minutes elapsed: 27\n",
      "INFO:tensorflow:Waiting for prediction job to complete. Minutes elapsed: 30\n",
      "INFO:tensorflow:Prediction job completed.\n"
     ]
    },
    {
     "name": "stderr",
     "output_type": "stream",
     "text": [
      "/usr/local/google/home/msushkov/code/conversationai-models/model_evaluation/.pyenv/lib/python3.6/site-packages/google/auth/_default.py:66: UserWarning: Your application has authenticated using end user credentials from Google Cloud SDK. We recommend that most server applications use service accounts instead. If your application continues to use end user credentials from Cloud SDK, you might receive a \"quota exceeded\" or \"API not enabled\" error. For more information about service accounts, see https://cloud.google.com/docs/authentication/\n",
      "  warnings.warn(_CLOUD_SDK_CREDENTIALS_WARNING)\n"
     ]
    },
    {
     "name": "stdout",
     "output_type": "stream",
     "text": [
      "INFO:tensorflow:Waiting for prediction job to complete. Minutes elapsed: 0\n",
      "INFO:tensorflow:Waiting for prediction job to complete. Minutes elapsed: 2\n",
      "INFO:tensorflow:Prediction job completed.\n"
     ]
    }
   ],
   "source": [
    "# Set recompute_predictions=False to save time if predictions are available.\n",
    "test_dataset.add_model_prediction_to_data(model, recompute_predictions=True)"
   ]
  },
  {
   "cell_type": "code",
   "execution_count": 149,
   "metadata": {},
   "outputs": [],
   "source": [
    "toxicity_test_df1 = test_dataset.show_data()"
   ]
  },
  {
   "cell_type": "code",
   "execution_count": 150,
   "metadata": {},
   "outputs": [
    {
     "name": "stdout",
     "output_type": "stream",
     "text": [
      "tf_cnn_toxicity_glove:v_20190219_185532\n",
      "\tROC AUC: 0.951760553925346\n",
      "\tPR AUC: 0.8740274773143215\n",
      "tf_gru_attention_toxicity_glove:v_20190219_185516\n",
      "\tROC AUC: 0.9543916575133977\n",
      "\tPR AUC: 0.8814208812923074\n"
     ]
    }
   ],
   "source": [
    "print_results(toxicity_test_df1, MODEL_NAMES)"
   ]
  },
  {
   "cell_type": "markdown",
   "metadata": {},
   "source": [
    "### TF-Hub Model"
   ]
  },
  {
   "cell_type": "code",
   "execution_count": 196,
   "metadata": {},
   "outputs": [],
   "source": [
    "MODEL_TEXT_FEATURE = 'text'\n",
    "MODEL_NAMES = [\n",
    "    'tf_hub_classifier_toxicity:v20190322_142740_24239_1553555427',\n",
    "]\n",
    "\n",
    "model_input_spec = {\n",
    "    MODEL_TEXT_FEATURE: utils_tfrecords.EncodingFeatureSpec.LIST_STRING\n",
    "}\n",
    "\n",
    "model = Model(\n",
    "    feature_keys_spec=model_input_spec,\n",
    "    prediction_keys=LABEL_NAME_PREDICTION_MODEL,\n",
    "    example_key=SENTENCE_KEY,\n",
    "    model_names=MODEL_NAMES,\n",
    "    project_name=PROJECT_NAME)\n",
    "\n",
    "test_input_fn = make_test_input_fn(\n",
    "    DATASET, MODEL_TEXT_FEATURE, DATASET_TEXT_FEATURE,\n",
    "    DATA_LABEL, None)"
   ]
  },
  {
   "cell_type": "code",
   "execution_count": 197,
   "metadata": {},
   "outputs": [
    {
     "name": "stderr",
     "output_type": "stream",
     "text": [
      "/usr/local/google/home/msushkov/code/conversationai-models/model_evaluation/.pyenv/lib/python3.6/site-packages/tensorflow/python/client/session.py:1702: UserWarning: An interactive session is already active. This can cause out-of-memory errors in some cases. You must explicitly call `InteractiveSession.close()` to release resources held by the other session(s).\n",
      "  warnings.warn('An interactive session is already active. This can '\n"
     ]
    },
    {
     "name": "stdout",
     "output_type": "stream",
     "text": [
      "INFO:tensorflow:input_fn is compatible with the `Dataset` class.\n",
      "INFO:tensorflow:Loaded 100000 lines.\n",
      "INFO:tensorflow:End of file.\n"
     ]
    }
   ],
   "source": [
    "# Need to set seed before loading data to be able to reload same data in the future\n",
    "random.seed(2018)\n",
    "\n",
    "test_dataset = Dataset(test_input_fn, OUTPUT_DIR)\n",
    "test_dataset.load_data(10000000)"
   ]
  },
  {
   "cell_type": "code",
   "execution_count": 199,
   "metadata": {},
   "outputs": [
    {
     "name": "stdout",
     "output_type": "stream",
     "text": [
      "INFO:tensorflow:Model is compatible with the `Dataset` instance.\n",
      "INFO:tensorflow:Doing batch 0/0\n",
      "INFO:tensorflow:TF-Records already exist - overwriting them.\n",
      "INFO:tensorflow:Preparing train data: 0/187681\n",
      "INFO:tensorflow:Preparing train data: 10000/187681\n",
      "INFO:tensorflow:Preparing train data: 20000/187681\n",
      "INFO:tensorflow:Preparing train data: 30000/187681\n",
      "INFO:tensorflow:Preparing train data: 40000/187681\n",
      "INFO:tensorflow:Preparing train data: 50000/187681\n",
      "INFO:tensorflow:Preparing train data: 60000/187681\n",
      "INFO:tensorflow:Preparing train data: 70000/187681\n",
      "INFO:tensorflow:Preparing train data: 80000/187681\n",
      "INFO:tensorflow:Preparing train data: 90000/187681\n",
      "INFO:tensorflow:Preparing train data: 100000/187681\n",
      "INFO:tensorflow:Preparing train data: 110000/187681\n",
      "INFO:tensorflow:Preparing train data: 120000/187681\n",
      "INFO:tensorflow:Preparing train data: 130000/187681\n",
      "INFO:tensorflow:Preparing train data: 140000/187681\n",
      "INFO:tensorflow:Preparing train data: 150000/187681\n",
      "INFO:tensorflow:Preparing train data: 160000/187681\n",
      "INFO:tensorflow:Preparing train data: 170000/187681\n",
      "INFO:tensorflow:Preparing train data: 180000/187681\n"
     ]
    },
    {
     "name": "stderr",
     "output_type": "stream",
     "text": [
      "/usr/local/google/home/msushkov/code/conversationai-models/model_evaluation/.pyenv/lib/python3.6/site-packages/google/auth/_default.py:66: UserWarning: Your application has authenticated using end user credentials from Google Cloud SDK. We recommend that most server applications use service accounts instead. If your application continues to use end user credentials from Cloud SDK, you might receive a \"quota exceeded\" or \"API not enabled\" error. For more information about service accounts, see https://cloud.google.com/docs/authentication/\n",
      "  warnings.warn(_CLOUD_SDK_CREDENTIALS_WARNING)\n"
     ]
    },
    {
     "name": "stdout",
     "output_type": "stream",
     "text": [
      "INFO:tensorflow:state : QUEUED\n"
     ]
    },
    {
     "name": "stderr",
     "output_type": "stream",
     "text": [
      "/usr/local/google/home/msushkov/code/conversationai-models/model_evaluation/.pyenv/lib/python3.6/site-packages/google/auth/_default.py:66: UserWarning: Your application has authenticated using end user credentials from Google Cloud SDK. We recommend that most server applications use service accounts instead. If your application continues to use end user credentials from Cloud SDK, you might receive a \"quota exceeded\" or \"API not enabled\" error. For more information about service accounts, see https://cloud.google.com/docs/authentication/\n",
      "  warnings.warn(_CLOUD_SDK_CREDENTIALS_WARNING)\n"
     ]
    },
    {
     "name": "stdout",
     "output_type": "stream",
     "text": [
      "INFO:tensorflow:Waiting for prediction job to complete. Minutes elapsed: 0\n",
      "INFO:tensorflow:Waiting for prediction job to complete. Minutes elapsed: 2\n",
      "INFO:tensorflow:Waiting for prediction job to complete. Minutes elapsed: 5\n",
      "INFO:tensorflow:Waiting for prediction job to complete. Minutes elapsed: 7\n",
      "INFO:tensorflow:Waiting for prediction job to complete. Minutes elapsed: 10\n",
      "INFO:tensorflow:Waiting for prediction job to complete. Minutes elapsed: 12\n",
      "INFO:tensorflow:Waiting for prediction job to complete. Minutes elapsed: 15\n",
      "INFO:tensorflow:Waiting for prediction job to complete. Minutes elapsed: 17\n",
      "INFO:tensorflow:Waiting for prediction job to complete. Minutes elapsed: 20\n",
      "INFO:tensorflow:Waiting for prediction job to complete. Minutes elapsed: 22\n",
      "INFO:tensorflow:Waiting for prediction job to complete. Minutes elapsed: 25\n",
      "INFO:tensorflow:Waiting for prediction job to complete. Minutes elapsed: 27\n",
      "INFO:tensorflow:Waiting for prediction job to complete. Minutes elapsed: 30\n",
      "INFO:tensorflow:Waiting for prediction job to complete. Minutes elapsed: 32\n",
      "INFO:tensorflow:Waiting for prediction job to complete. Minutes elapsed: 35\n",
      "INFO:tensorflow:Waiting for prediction job to complete. Minutes elapsed: 37\n",
      "INFO:tensorflow:Waiting for prediction job to complete. Minutes elapsed: 40\n",
      "INFO:tensorflow:Waiting for prediction job to complete. Minutes elapsed: 42\n",
      "INFO:tensorflow:Waiting for prediction job to complete. Minutes elapsed: 45\n",
      "INFO:tensorflow:Waiting for prediction job to complete. Minutes elapsed: 47\n",
      "INFO:tensorflow:Waiting for prediction job to complete. Minutes elapsed: 50\n",
      "INFO:tensorflow:Waiting for prediction job to complete. Minutes elapsed: 52\n",
      "INFO:tensorflow:Waiting for prediction job to complete. Minutes elapsed: 55\n",
      "INFO:tensorflow:Waiting for prediction job to complete. Minutes elapsed: 57\n",
      "INFO:tensorflow:Waiting for prediction job to complete. Minutes elapsed: 60\n",
      "INFO:tensorflow:Waiting for prediction job to complete. Minutes elapsed: 62\n",
      "INFO:tensorflow:Waiting for prediction job to complete. Minutes elapsed: 65\n",
      "INFO:tensorflow:Waiting for prediction job to complete. Minutes elapsed: 67\n",
      "INFO:tensorflow:Waiting for prediction job to complete. Minutes elapsed: 70\n",
      "INFO:tensorflow:Waiting for prediction job to complete. Minutes elapsed: 72\n",
      "INFO:tensorflow:Waiting for prediction job to complete. Minutes elapsed: 75\n",
      "INFO:tensorflow:Waiting for prediction job to complete. Minutes elapsed: 77\n",
      "INFO:tensorflow:Waiting for prediction job to complete. Minutes elapsed: 80\n",
      "INFO:tensorflow:Waiting for prediction job to complete. Minutes elapsed: 82\n",
      "INFO:tensorflow:Waiting for prediction job to complete. Minutes elapsed: 85\n",
      "INFO:tensorflow:Waiting for prediction job to complete. Minutes elapsed: 88\n",
      "INFO:tensorflow:Waiting for prediction job to complete. Minutes elapsed: 90\n",
      "INFO:tensorflow:Waiting for prediction job to complete. Minutes elapsed: 93\n",
      "INFO:tensorflow:Waiting for prediction job to complete. Minutes elapsed: 95\n",
      "INFO:tensorflow:Waiting for prediction job to complete. Minutes elapsed: 98\n",
      "INFO:tensorflow:Waiting for prediction job to complete. Minutes elapsed: 100\n",
      "INFO:tensorflow:Waiting for prediction job to complete. Minutes elapsed: 103\n",
      "INFO:tensorflow:Waiting for prediction job to complete. Minutes elapsed: 105\n",
      "INFO:tensorflow:Waiting for prediction job to complete. Minutes elapsed: 108\n",
      "INFO:tensorflow:Waiting for prediction job to complete. Minutes elapsed: 110\n",
      "INFO:tensorflow:Waiting for prediction job to complete. Minutes elapsed: 113\n",
      "INFO:tensorflow:Waiting for prediction job to complete. Minutes elapsed: 115\n",
      "INFO:tensorflow:Waiting for prediction job to complete. Minutes elapsed: 118\n",
      "INFO:tensorflow:Waiting for prediction job to complete. Minutes elapsed: 120\n",
      "INFO:tensorflow:Waiting for prediction job to complete. Minutes elapsed: 123\n",
      "INFO:tensorflow:Waiting for prediction job to complete. Minutes elapsed: 125\n",
      "INFO:tensorflow:Waiting for prediction job to complete. Minutes elapsed: 128\n",
      "INFO:tensorflow:Waiting for prediction job to complete. Minutes elapsed: 130\n",
      "INFO:tensorflow:Waiting for prediction job to complete. Minutes elapsed: 133\n",
      "INFO:tensorflow:Waiting for prediction job to complete. Minutes elapsed: 135\n",
      "INFO:tensorflow:Waiting for prediction job to complete. Minutes elapsed: 138\n",
      "INFO:tensorflow:Waiting for prediction job to complete. Minutes elapsed: 140\n",
      "INFO:tensorflow:Waiting for prediction job to complete. Minutes elapsed: 143\n",
      "INFO:tensorflow:Waiting for prediction job to complete. Minutes elapsed: 145\n",
      "INFO:tensorflow:Waiting for prediction job to complete. Minutes elapsed: 148\n",
      "INFO:tensorflow:Waiting for prediction job to complete. Minutes elapsed: 150\n",
      "INFO:tensorflow:Waiting for prediction job to complete. Minutes elapsed: 153\n",
      "INFO:tensorflow:Waiting for prediction job to complete. Minutes elapsed: 155\n",
      "INFO:tensorflow:Waiting for prediction job to complete. Minutes elapsed: 158\n",
      "INFO:tensorflow:Waiting for prediction job to complete. Minutes elapsed: 160\n",
      "INFO:tensorflow:Waiting for prediction job to complete. Minutes elapsed: 163\n",
      "INFO:tensorflow:Waiting for prediction job to complete. Minutes elapsed: 165\n",
      "INFO:tensorflow:Waiting for prediction job to complete. Minutes elapsed: 168\n",
      "INFO:tensorflow:Waiting for prediction job to complete. Minutes elapsed: 170\n",
      "INFO:tensorflow:Waiting for prediction job to complete. Minutes elapsed: 173\n",
      "INFO:tensorflow:Waiting for prediction job to complete. Minutes elapsed: 176\n",
      "INFO:tensorflow:Waiting for prediction job to complete. Minutes elapsed: 178\n",
      "INFO:tensorflow:Waiting for prediction job to complete. Minutes elapsed: 181\n",
      "INFO:tensorflow:Waiting for prediction job to complete. Minutes elapsed: 183\n",
      "INFO:tensorflow:Waiting for prediction job to complete. Minutes elapsed: 186\n",
      "INFO:tensorflow:Waiting for prediction job to complete. Minutes elapsed: 188\n",
      "INFO:tensorflow:Waiting for prediction job to complete. Minutes elapsed: 191\n",
      "INFO:tensorflow:Waiting for prediction job to complete. Minutes elapsed: 193\n",
      "INFO:tensorflow:Waiting for prediction job to complete. Minutes elapsed: 196\n",
      "INFO:tensorflow:Waiting for prediction job to complete. Minutes elapsed: 198\n",
      "INFO:tensorflow:Waiting for prediction job to complete. Minutes elapsed: 201\n",
      "INFO:tensorflow:Waiting for prediction job to complete. Minutes elapsed: 203\n",
      "INFO:tensorflow:Waiting for prediction job to complete. Minutes elapsed: 206\n",
      "INFO:tensorflow:Waiting for prediction job to complete. Minutes elapsed: 208\n",
      "INFO:tensorflow:Waiting for prediction job to complete. Minutes elapsed: 211\n",
      "INFO:tensorflow:Waiting for prediction job to complete. Minutes elapsed: 213\n",
      "INFO:tensorflow:Waiting for prediction job to complete. Minutes elapsed: 216\n",
      "INFO:tensorflow:Waiting for prediction job to complete. Minutes elapsed: 218\n",
      "INFO:tensorflow:Waiting for prediction job to complete. Minutes elapsed: 221\n",
      "INFO:tensorflow:Waiting for prediction job to complete. Minutes elapsed: 223\n",
      "INFO:tensorflow:Waiting for prediction job to complete. Minutes elapsed: 226\n",
      "INFO:tensorflow:Waiting for prediction job to complete. Minutes elapsed: 228\n",
      "INFO:tensorflow:Waiting for prediction job to complete. Minutes elapsed: 231\n",
      "INFO:tensorflow:Waiting for prediction job to complete. Minutes elapsed: 233\n",
      "INFO:tensorflow:Waiting for prediction job to complete. Minutes elapsed: 236\n",
      "INFO:tensorflow:Waiting for prediction job to complete. Minutes elapsed: 238\n",
      "INFO:tensorflow:Waiting for prediction job to complete. Minutes elapsed: 241\n",
      "INFO:tensorflow:Waiting for prediction job to complete. Minutes elapsed: 243\n",
      "INFO:tensorflow:Waiting for prediction job to complete. Minutes elapsed: 246\n",
      "INFO:tensorflow:Waiting for prediction job to complete. Minutes elapsed: 248\n",
      "INFO:tensorflow:Waiting for prediction job to complete. Minutes elapsed: 251\n",
      "INFO:tensorflow:Waiting for prediction job to complete. Minutes elapsed: 253\n",
      "INFO:tensorflow:Waiting for prediction job to complete. Minutes elapsed: 256\n",
      "INFO:tensorflow:Waiting for prediction job to complete. Minutes elapsed: 258\n",
      "INFO:tensorflow:Waiting for prediction job to complete. Minutes elapsed: 261\n",
      "INFO:tensorflow:Waiting for prediction job to complete. Minutes elapsed: 264\n",
      "INFO:tensorflow:Waiting for prediction job to complete. Minutes elapsed: 266\n"
     ]
    },
    {
     "name": "stdout",
     "output_type": "stream",
     "text": [
      "INFO:tensorflow:Waiting for prediction job to complete. Minutes elapsed: 269\n",
      "INFO:tensorflow:Waiting for prediction job to complete. Minutes elapsed: 271\n",
      "INFO:tensorflow:Waiting for prediction job to complete. Minutes elapsed: 274\n",
      "INFO:tensorflow:Waiting for prediction job to complete. Minutes elapsed: 276\n",
      "INFO:tensorflow:Waiting for prediction job to complete. Minutes elapsed: 279\n",
      "INFO:tensorflow:Waiting for prediction job to complete. Minutes elapsed: 281\n",
      "INFO:tensorflow:Waiting for prediction job to complete. Minutes elapsed: 284\n",
      "INFO:tensorflow:Waiting for prediction job to complete. Minutes elapsed: 286\n",
      "INFO:tensorflow:Waiting for prediction job to complete. Minutes elapsed: 289\n",
      "INFO:tensorflow:Waiting for prediction job to complete. Minutes elapsed: 291\n",
      "INFO:tensorflow:Waiting for prediction job to complete. Minutes elapsed: 294\n",
      "INFO:tensorflow:Waiting for prediction job to complete. Minutes elapsed: 296\n",
      "INFO:tensorflow:Waiting for prediction job to complete. Minutes elapsed: 299\n",
      "INFO:tensorflow:Waiting for prediction job to complete. Minutes elapsed: 301\n",
      "INFO:tensorflow:Waiting for prediction job to complete. Minutes elapsed: 304\n",
      "INFO:tensorflow:Waiting for prediction job to complete. Minutes elapsed: 306\n",
      "INFO:tensorflow:Waiting for prediction job to complete. Minutes elapsed: 309\n",
      "INFO:tensorflow:Waiting for prediction job to complete. Minutes elapsed: 311\n",
      "INFO:tensorflow:Waiting for prediction job to complete. Minutes elapsed: 314\n",
      "INFO:tensorflow:Waiting for prediction job to complete. Minutes elapsed: 316\n",
      "INFO:tensorflow:Waiting for prediction job to complete. Minutes elapsed: 319\n",
      "INFO:tensorflow:Waiting for prediction job to complete. Minutes elapsed: 321\n",
      "INFO:tensorflow:Waiting for prediction job to complete. Minutes elapsed: 324\n",
      "INFO:tensorflow:Waiting for prediction job to complete. Minutes elapsed: 326\n",
      "INFO:tensorflow:Waiting for prediction job to complete. Minutes elapsed: 329\n",
      "INFO:tensorflow:Waiting for prediction job to complete. Minutes elapsed: 331\n",
      "INFO:tensorflow:Waiting for prediction job to complete. Minutes elapsed: 334\n",
      "INFO:tensorflow:Waiting for prediction job to complete. Minutes elapsed: 336\n",
      "INFO:tensorflow:Waiting for prediction job to complete. Minutes elapsed: 339\n",
      "INFO:tensorflow:Waiting for prediction job to complete. Minutes elapsed: 341\n",
      "INFO:tensorflow:Waiting for prediction job to complete. Minutes elapsed: 344\n",
      "INFO:tensorflow:Waiting for prediction job to complete. Minutes elapsed: 346\n",
      "INFO:tensorflow:Waiting for prediction job to complete. Minutes elapsed: 349\n",
      "INFO:tensorflow:Waiting for prediction job to complete. Minutes elapsed: 352\n",
      "INFO:tensorflow:Waiting for prediction job to complete. Minutes elapsed: 354\n",
      "INFO:tensorflow:Waiting for prediction job to complete. Minutes elapsed: 357\n",
      "INFO:tensorflow:Waiting for prediction job to complete. Minutes elapsed: 359\n",
      "INFO:tensorflow:Waiting for prediction job to complete. Minutes elapsed: 362\n",
      "INFO:tensorflow:Waiting for prediction job to complete. Minutes elapsed: 364\n",
      "INFO:tensorflow:Waiting for prediction job to complete. Minutes elapsed: 367\n",
      "INFO:tensorflow:Waiting for prediction job to complete. Minutes elapsed: 369\n",
      "INFO:tensorflow:Waiting for prediction job to complete. Minutes elapsed: 372\n",
      "INFO:tensorflow:Waiting for prediction job to complete. Minutes elapsed: 374\n",
      "INFO:tensorflow:Waiting for prediction job to complete. Minutes elapsed: 377\n",
      "INFO:tensorflow:Waiting for prediction job to complete. Minutes elapsed: 379\n",
      "INFO:tensorflow:Waiting for prediction job to complete. Minutes elapsed: 382\n",
      "INFO:tensorflow:Waiting for prediction job to complete. Minutes elapsed: 384\n",
      "INFO:tensorflow:Waiting for prediction job to complete. Minutes elapsed: 387\n",
      "INFO:tensorflow:Waiting for prediction job to complete. Minutes elapsed: 389\n",
      "INFO:tensorflow:Waiting for prediction job to complete. Minutes elapsed: 392\n",
      "INFO:tensorflow:Waiting for prediction job to complete. Minutes elapsed: 394\n",
      "INFO:tensorflow:Waiting for prediction job to complete. Minutes elapsed: 397\n",
      "INFO:tensorflow:Waiting for prediction job to complete. Minutes elapsed: 399\n",
      "INFO:tensorflow:Waiting for prediction job to complete. Minutes elapsed: 402\n",
      "INFO:tensorflow:Waiting for prediction job to complete. Minutes elapsed: 404\n",
      "INFO:tensorflow:Waiting for prediction job to complete. Minutes elapsed: 407\n",
      "INFO:tensorflow:Waiting for prediction job to complete. Minutes elapsed: 409\n",
      "INFO:tensorflow:Waiting for prediction job to complete. Minutes elapsed: 412\n",
      "INFO:tensorflow:Waiting for prediction job to complete. Minutes elapsed: 414\n",
      "INFO:tensorflow:Waiting for prediction job to complete. Minutes elapsed: 417\n",
      "INFO:tensorflow:Waiting for prediction job to complete. Minutes elapsed: 419\n",
      "INFO:tensorflow:Waiting for prediction job to complete. Minutes elapsed: 422\n",
      "INFO:tensorflow:Waiting for prediction job to complete. Minutes elapsed: 424\n",
      "INFO:tensorflow:Waiting for prediction job to complete. Minutes elapsed: 427\n",
      "INFO:tensorflow:Waiting for prediction job to complete. Minutes elapsed: 429\n",
      "INFO:tensorflow:Waiting for prediction job to complete. Minutes elapsed: 432\n",
      "INFO:tensorflow:Waiting for prediction job to complete. Minutes elapsed: 435\n",
      "INFO:tensorflow:Waiting for prediction job to complete. Minutes elapsed: 437\n",
      "INFO:tensorflow:Waiting for prediction job to complete. Minutes elapsed: 440\n",
      "INFO:tensorflow:Waiting for prediction job to complete. Minutes elapsed: 442\n",
      "INFO:tensorflow:Waiting for prediction job to complete. Minutes elapsed: 445\n",
      "INFO:tensorflow:Waiting for prediction job to complete. Minutes elapsed: 447\n",
      "INFO:tensorflow:Waiting for prediction job to complete. Minutes elapsed: 450\n",
      "INFO:tensorflow:Waiting for prediction job to complete. Minutes elapsed: 452\n",
      "INFO:tensorflow:Waiting for prediction job to complete. Minutes elapsed: 455\n",
      "INFO:tensorflow:Waiting for prediction job to complete. Minutes elapsed: 457\n",
      "INFO:tensorflow:Waiting for prediction job to complete. Minutes elapsed: 460\n",
      "INFO:tensorflow:Waiting for prediction job to complete. Minutes elapsed: 462\n",
      "INFO:tensorflow:Waiting for prediction job to complete. Minutes elapsed: 465\n",
      "INFO:tensorflow:Waiting for prediction job to complete. Minutes elapsed: 467\n",
      "INFO:tensorflow:Waiting for prediction job to complete. Minutes elapsed: 470\n",
      "INFO:tensorflow:Waiting for prediction job to complete. Minutes elapsed: 472\n",
      "INFO:tensorflow:Waiting for prediction job to complete. Minutes elapsed: 475\n",
      "INFO:tensorflow:Waiting for prediction job to complete. Minutes elapsed: 477\n",
      "INFO:tensorflow:Waiting for prediction job to complete. Minutes elapsed: 480\n",
      "INFO:tensorflow:Waiting for prediction job to complete. Minutes elapsed: 482\n",
      "INFO:tensorflow:Waiting for prediction job to complete. Minutes elapsed: 485\n",
      "INFO:tensorflow:Waiting for prediction job to complete. Minutes elapsed: 487\n",
      "INFO:tensorflow:Waiting for prediction job to complete. Minutes elapsed: 490\n",
      "INFO:tensorflow:Waiting for prediction job to complete. Minutes elapsed: 492\n",
      "INFO:tensorflow:Waiting for prediction job to complete. Minutes elapsed: 495\n",
      "INFO:tensorflow:Waiting for prediction job to complete. Minutes elapsed: 497\n",
      "INFO:tensorflow:Waiting for prediction job to complete. Minutes elapsed: 500\n",
      "INFO:tensorflow:Waiting for prediction job to complete. Minutes elapsed: 502\n",
      "INFO:tensorflow:Waiting for prediction job to complete. Minutes elapsed: 505\n",
      "INFO:tensorflow:Waiting for prediction job to complete. Minutes elapsed: 507\n",
      "INFO:tensorflow:Waiting for prediction job to complete. Minutes elapsed: 510\n",
      "INFO:tensorflow:Waiting for prediction job to complete. Minutes elapsed: 512\n",
      "INFO:tensorflow:Waiting for prediction job to complete. Minutes elapsed: 515\n",
      "INFO:tensorflow:Waiting for prediction job to complete. Minutes elapsed: 518\n",
      "INFO:tensorflow:Waiting for prediction job to complete. Minutes elapsed: 520\n",
      "INFO:tensorflow:Waiting for prediction job to complete. Minutes elapsed: 523\n",
      "INFO:tensorflow:Waiting for prediction job to complete. Minutes elapsed: 525\n",
      "INFO:tensorflow:Prediction job completed.\n"
     ]
    }
   ],
   "source": [
    "# Set recompute_predictions=False to save time if predictions are available.\n",
    "test_dataset.add_model_prediction_to_data(model, recompute_predictions=True)"
   ]
  },
  {
   "cell_type": "code",
   "execution_count": 200,
   "metadata": {},
   "outputs": [],
   "source": [
    "toxicity_test_df2 = test_dataset.show_data()"
   ]
  },
  {
   "cell_type": "code",
   "execution_count": 201,
   "metadata": {},
   "outputs": [
    {
     "name": "stdout",
     "output_type": "stream",
     "text": [
      "tf_hub_classifier_toxicity:v20190322_142740_24239_1553555427\n",
      "\tROC AUC: 0.9270843170934745\n",
      "\tPR AUC: 0.8155815559085313\n"
     ]
    }
   ],
   "source": [
    "print_results(toxicity_test_df2, MODEL_NAMES)"
   ]
  },
  {
   "cell_type": "markdown",
   "metadata": {},
   "source": [
    "## Evaluate models on Many Communities data"
   ]
  },
  {
   "cell_type": "code",
   "execution_count": 242,
   "metadata": {},
   "outputs": [],
   "source": [
    "LABEL_NAME_PREDICTION_MODEL = 'removed/logistic'\n",
    "DATASET = 'gs://conversationai-models/resources/transfer_learning_data/many_communities/20181105_answers.tfrecord'\n",
    "DATA_LABEL = 'removed'\n",
    "DATASET_TEXT_FEATURE='comment_text'\n",
    "\n",
    "# Pattern for path of tf_records\n",
    "OUTPUT_DIR = os.path.join(OUTPUT_DIR_BASE, 'many_communities_test')"
   ]
  },
  {
   "cell_type": "code",
   "execution_count": 255,
   "metadata": {},
   "outputs": [
    {
     "name": "stdout",
     "output_type": "stream",
     "text": [
      "b'\\n\\xe2\\x01\\n\\x9c\\x01\\n\\x0ccomment_text\\x12\\x8b\\x01\\n\\x88\\x01\\n\\x85\\x01^^^^^^^\\nIf I could give you 100 upvotes for this I would. So perfectly well stated. \\n\\nI tip my hat to you and your wisdom, Good Sir! \\n\\x19\\n\\ncomment_id\\x12\\x0b\\n\\t\\n\\x07e8rbnjy\\n&\\n\\tsubreddit\\x12\\x19\\n\\x17\\n\\x15whereareallthegoodmen'\n",
      "b'\\nY\\n\"\\n\\x0ccomment_text\\x12\\x12\\n\\x10\\n\\x0eMe too as well\\n\\x19\\n\\ncomment_id\\x12\\x0b\\n\\t\\n\\x07e8spfo5\\n\\x18\\n\\tsubreddit\\x12\\x0b\\n\\t\\n\\x07thinspo'\n",
      "b\"\\n\\x92\\x02\\n\\xda\\x01\\n\\x0ccomment_text\\x12\\xc9\\x01\\n\\xc6\\x01\\n\\xc3\\x01I'm also vegetarian and have a hard time keeping sodium in, reading your comment and the one preceding yours has made me realise I probably do go way overboard with salt. Thanks for the heads up.\\n\\x19\\n\\ncomment_id\\x12\\x0b\\n\\t\\n\\x07e8rep2q\\n\\x18\\n\\tsubreddit\\x12\\x0b\\n\\t\\n\\x07thinspo\"\n",
      "b'\\nT\\n\\x18\\n\\tsubreddit\\x12\\x0b\\n\\t\\n\\x07thinspo\\n\\x1d\\n\\x0ccomment_text\\x12\\r\\n\\x0b\\n\\tMe please\\n\\x19\\n\\ncomment_id\\x12\\x0b\\n\\t\\n\\x07e8rd0zu'\n",
      "b'\\n\\xa3\\x01\\nn\\n\\x0ccomment_text\\x12^\\n\\\\\\nZ[https://www.youtube.com/watch?v=HZh9AL8yoo8](https://www.youtube.com/watch?v=HZh9AL8yoo8)\\n\\x19\\n\\ncomment_id\\x12\\x0b\\n\\t\\n\\x07e8vf7of\\n\\x16\\n\\tsubreddit\\x12\\t\\n\\x07\\n\\x054chan'\n",
      "b'\\ny\\n\\x16\\n\\tsubreddit\\x12\\t\\n\\x07\\n\\x054chan\\nD\\n\\x0ccomment_text\\x124\\n2\\n0I train my grip and do cardio when I masturbate \\n\\x19\\n\\ncomment_id\\x12\\x0b\\n\\t\\n\\x07e8vaz7s'\n",
      "b'\\nT\\n\\x1d\\n\\x0ccomment_text\\x12\\r\\n\\x0b\\n\\tMe please\\n\\x19\\n\\ncomment_id\\x12\\x0b\\n\\t\\n\\x07e8ur9yt\\n\\x18\\n\\tsubreddit\\x12\\x0b\\n\\t\\n\\x07thinspo'\n",
      "b'\\nU\\n\\x18\\n\\tsubreddit\\x12\\x0b\\n\\t\\n\\x07thinspo\\n\\x1e\\n\\x0ccomment_text\\x12\\x0e\\n\\x0c\\n\\nAdd please\\n\\x19\\n\\ncomment_id\\x12\\x0b\\n\\t\\n\\x07e8tw4ye'\n",
      "b'\\nx\\nC\\n\\x0ccomment_text\\x123\\n1\\n/Right there with ya, man. I never saw it coming\\n\\x19\\n\\ncomment_id\\x12\\x0b\\n\\t\\n\\x07e8vn0d9\\n\\x16\\n\\tsubreddit\\x12\\t\\n\\x07\\n\\x054chan'\n",
      "b'\\nu\\n\\x19\\n\\ncomment_id\\x12\\x0b\\n\\t\\n\\x07e8t1div\\n\\x18\\n\\tsubreddit\\x12\\x0b\\n\\t\\n\\x07thinspo\\n>\\n\\x0ccomment_text\\x12.\\n,\\n*Well I wish it LOOKED like that on me lol '\n"
     ]
    }
   ],
   "source": [
    "DATASET = 'gs://conversationai-models/resources/transfer_learning_data/many_communities/20181105_answers.tfrecord'\n",
    "raw_dataset = tf.data.TFRecordDataset([DATASET])\n",
    "iterator = raw_dataset.make_one_shot_iterator()\n",
    "next_element = iterator.get_next()\n",
    "with tf.Session() as sess:\n",
    "    for i in range(100000):\n",
    "        value = sess.run(next_element)\n",
    "        if \"removed\" not in str(value):\n",
    "            print(value)"
   ]
  },
  {
   "cell_type": "markdown",
   "metadata": {},
   "source": [
    "### CNN, GRU Attention Models"
   ]
  },
  {
   "cell_type": "code",
   "execution_count": null,
   "metadata": {},
   "outputs": [],
   "source": []
  },
  {
   "cell_type": "code",
   "execution_count": 243,
   "metadata": {},
   "outputs": [],
   "source": [
    "MODEL_TEXT_FEATURE = 'tokens'\n",
    "MODEL_NAMES = [\n",
    "    'tf_cnn_many_communities_glove:v_20190219_185551',\n",
    "    'tf_gru_attention_many_communities:v20190322_142800_507893_1556085643',\n",
    "]\n",
    "\n",
    "model_input_spec = {\n",
    "    MODEL_TEXT_FEATURE: utils_tfrecords.EncodingFeatureSpec.LIST_STRING\n",
    "}\n",
    "\n",
    "model = Model(\n",
    "    feature_keys_spec=model_input_spec,\n",
    "    prediction_keys=LABEL_NAME_PREDICTION_MODEL,\n",
    "    example_key=SENTENCE_KEY,\n",
    "    model_names=MODEL_NAMES,\n",
    "    project_name=PROJECT_NAME)\n",
    "\n",
    "test_input_fn = make_test_input_fn(\n",
    "    DATASET, MODEL_TEXT_FEATURE, DATASET_TEXT_FEATURE,\n",
    "    DATA_LABEL, tokenizer, label_data_type=tf.int64)"
   ]
  },
  {
   "cell_type": "code",
   "execution_count": 244,
   "metadata": {},
   "outputs": [
    {
     "name": "stdout",
     "output_type": "stream",
     "text": [
      "INFO:tensorflow:input_fn is compatible with the `Dataset` class.\n"
     ]
    },
    {
     "ename": "InvalidArgumentError",
     "evalue": "Feature: removed (data type: int64) is required but could not be found.\n\t [[node ParseSingleExample_81/ParseSingleExample (defined at /usr/local/google/home/msushkov/code/conversationai-models/model_evaluation/utils_export/utils_tfrecords.py:151)  = ParseSingleExample[Tdense=[DT_STRING, DT_INT64], dense_keys=[\"comment_text\", \"removed\"], dense_shapes=[[], []], num_sparse=0, sparse_keys=[], sparse_types=[], _device=\"/job:localhost/replica:0/task:0/device:CPU:0\"](ReaderReadV2_81:1, ParseSingleExample_81/Const, ParseSingleExample_81/Const_1)]]\n\nCaused by op 'ParseSingleExample_81/ParseSingleExample', defined at:\n  File \"/usr/lib/python3.6/runpy.py\", line 193, in _run_module_as_main\n    \"__main__\", mod_spec)\n  File \"/usr/lib/python3.6/runpy.py\", line 85, in _run_code\n    exec(code, run_globals)\n  File \"/usr/local/google/home/msushkov/code/conversationai-models/model_evaluation/.pyenv/lib/python3.6/site-packages/ipykernel_launcher.py\", line 16, in <module>\n    app.launch_new_instance()\n  File \"/usr/local/google/home/msushkov/code/conversationai-models/model_evaluation/.pyenv/lib/python3.6/site-packages/traitlets/config/application.py\", line 658, in launch_instance\n    app.start()\n  File \"/usr/local/google/home/msushkov/code/conversationai-models/model_evaluation/.pyenv/lib/python3.6/site-packages/ipykernel/kernelapp.py\", line 505, in start\n    self.io_loop.start()\n  File \"/usr/local/google/home/msushkov/code/conversationai-models/model_evaluation/.pyenv/lib/python3.6/site-packages/tornado/platform/asyncio.py\", line 148, in start\n    self.asyncio_loop.run_forever()\n  File \"/usr/lib/python3.6/asyncio/base_events.py\", line 422, in run_forever\n    self._run_once()\n  File \"/usr/lib/python3.6/asyncio/base_events.py\", line 1432, in _run_once\n    handle._run()\n  File \"/usr/lib/python3.6/asyncio/events.py\", line 145, in _run\n    self._callback(*self._args)\n  File \"/usr/local/google/home/msushkov/code/conversationai-models/model_evaluation/.pyenv/lib/python3.6/site-packages/tornado/ioloop.py\", line 690, in <lambda>\n    lambda f: self._run_callback(functools.partial(callback, future))\n  File \"/usr/local/google/home/msushkov/code/conversationai-models/model_evaluation/.pyenv/lib/python3.6/site-packages/tornado/ioloop.py\", line 743, in _run_callback\n    ret = callback()\n  File \"/usr/local/google/home/msushkov/code/conversationai-models/model_evaluation/.pyenv/lib/python3.6/site-packages/tornado/gen.py\", line 781, in inner\n    self.run()\n  File \"/usr/local/google/home/msushkov/code/conversationai-models/model_evaluation/.pyenv/lib/python3.6/site-packages/tornado/gen.py\", line 742, in run\n    yielded = self.gen.send(value)\n  File \"/usr/local/google/home/msushkov/code/conversationai-models/model_evaluation/.pyenv/lib/python3.6/site-packages/ipykernel/kernelbase.py\", line 357, in process_one\n    yield gen.maybe_future(dispatch(*args))\n  File \"/usr/local/google/home/msushkov/code/conversationai-models/model_evaluation/.pyenv/lib/python3.6/site-packages/tornado/gen.py\", line 209, in wrapper\n    yielded = next(result)\n  File \"/usr/local/google/home/msushkov/code/conversationai-models/model_evaluation/.pyenv/lib/python3.6/site-packages/ipykernel/kernelbase.py\", line 267, in dispatch_shell\n    yield gen.maybe_future(handler(stream, idents, msg))\n  File \"/usr/local/google/home/msushkov/code/conversationai-models/model_evaluation/.pyenv/lib/python3.6/site-packages/tornado/gen.py\", line 209, in wrapper\n    yielded = next(result)\n  File \"/usr/local/google/home/msushkov/code/conversationai-models/model_evaluation/.pyenv/lib/python3.6/site-packages/ipykernel/kernelbase.py\", line 534, in execute_request\n    user_expressions, allow_stdin,\n  File \"/usr/local/google/home/msushkov/code/conversationai-models/model_evaluation/.pyenv/lib/python3.6/site-packages/tornado/gen.py\", line 209, in wrapper\n    yielded = next(result)\n  File \"/usr/local/google/home/msushkov/code/conversationai-models/model_evaluation/.pyenv/lib/python3.6/site-packages/ipykernel/ipkernel.py\", line 294, in do_execute\n    res = shell.run_cell(code, store_history=store_history, silent=silent)\n  File \"/usr/local/google/home/msushkov/code/conversationai-models/model_evaluation/.pyenv/lib/python3.6/site-packages/ipykernel/zmqshell.py\", line 536, in run_cell\n    return super(ZMQInteractiveShell, self).run_cell(*args, **kwargs)\n  File \"/usr/local/google/home/msushkov/code/conversationai-models/model_evaluation/.pyenv/lib/python3.6/site-packages/IPython/core/interactiveshell.py\", line 2848, in run_cell\n    raw_cell, store_history, silent, shell_futures)\n  File \"/usr/local/google/home/msushkov/code/conversationai-models/model_evaluation/.pyenv/lib/python3.6/site-packages/IPython/core/interactiveshell.py\", line 2874, in _run_cell\n    return runner(coro)\n  File \"/usr/local/google/home/msushkov/code/conversationai-models/model_evaluation/.pyenv/lib/python3.6/site-packages/IPython/core/async_helpers.py\", line 67, in _pseudo_sync_runner\n    coro.send(None)\n  File \"/usr/local/google/home/msushkov/code/conversationai-models/model_evaluation/.pyenv/lib/python3.6/site-packages/IPython/core/interactiveshell.py\", line 3049, in run_cell_async\n    interactivity=interactivity, compiler=compiler, result=result)\n  File \"/usr/local/google/home/msushkov/code/conversationai-models/model_evaluation/.pyenv/lib/python3.6/site-packages/IPython/core/interactiveshell.py\", line 3220, in run_ast_nodes\n    if (yield from self.run_code(code, result)):\n  File \"/usr/local/google/home/msushkov/code/conversationai-models/model_evaluation/.pyenv/lib/python3.6/site-packages/IPython/core/interactiveshell.py\", line 3296, in run_code\n    exec(code_obj, self.user_global_ns, self.user_ns)\n  File \"<ipython-input-244-c41f43d061dc>\", line 5, in <module>\n    test_dataset.load_data(100000000)\n  File \"/usr/local/google/home/msushkov/code/conversationai-models/model_evaluation/utils_export/dataset.py\", line 169, in load_data\n    self.data = self._input_fn(max_n_examples=max_n_examples, **kwargs)\n  File \"<ipython-input-208-1b46ec286e6e>\", line 44, in test_input_fn\n    random_filter_keep_rate)\n  File \"/usr/local/google/home/msushkov/code/conversationai-models/model_evaluation/utils_export/utils_tfrecords.py\", line 151, in decode_tf_records_to_pandas\n    serialized=serialized_example, features=decoding_features_spec)\n  File \"/usr/local/google/home/msushkov/code/conversationai-models/model_evaluation/.pyenv/lib/python3.6/site-packages/tensorflow/python/ops/parsing_ops.py\", line 801, in parse_single_example\n    return parse_single_example_v2(serialized, features, name)\n  File \"/usr/local/google/home/msushkov/code/conversationai-models/model_evaluation/.pyenv/lib/python3.6/site-packages/tensorflow/python/ops/parsing_ops.py\", line 1692, in parse_single_example_v2\n    dense_defaults, dense_shapes, name)\n  File \"/usr/local/google/home/msushkov/code/conversationai-models/model_evaluation/.pyenv/lib/python3.6/site-packages/tensorflow/python/ops/parsing_ops.py\", line 1809, in _parse_single_example_v2_raw\n    name=name)\n  File \"/usr/local/google/home/msushkov/code/conversationai-models/model_evaluation/.pyenv/lib/python3.6/site-packages/tensorflow/python/ops/gen_parsing_ops.py\", line 1009, in parse_single_example\n    sparse_types=sparse_types, dense_shapes=dense_shapes, name=name)\n  File \"/usr/local/google/home/msushkov/code/conversationai-models/model_evaluation/.pyenv/lib/python3.6/site-packages/tensorflow/python/framework/op_def_library.py\", line 787, in _apply_op_helper\n    op_def=op_def)\n  File \"/usr/local/google/home/msushkov/code/conversationai-models/model_evaluation/.pyenv/lib/python3.6/site-packages/tensorflow/python/util/deprecation.py\", line 488, in new_func\n    return func(*args, **kwargs)\n  File \"/usr/local/google/home/msushkov/code/conversationai-models/model_evaluation/.pyenv/lib/python3.6/site-packages/tensorflow/python/framework/ops.py\", line 3274, in create_op\n    op_def=op_def)\n  File \"/usr/local/google/home/msushkov/code/conversationai-models/model_evaluation/.pyenv/lib/python3.6/site-packages/tensorflow/python/framework/ops.py\", line 1770, in __init__\n    self._traceback = tf_stack.extract_stack()\n\nInvalidArgumentError (see above for traceback): Feature: removed (data type: int64) is required but could not be found.\n\t [[node ParseSingleExample_81/ParseSingleExample (defined at /usr/local/google/home/msushkov/code/conversationai-models/model_evaluation/utils_export/utils_tfrecords.py:151)  = ParseSingleExample[Tdense=[DT_STRING, DT_INT64], dense_keys=[\"comment_text\", \"removed\"], dense_shapes=[[], []], num_sparse=0, sparse_keys=[], sparse_types=[], _device=\"/job:localhost/replica:0/task:0/device:CPU:0\"](ReaderReadV2_81:1, ParseSingleExample_81/Const, ParseSingleExample_81/Const_1)]]\n",
     "output_type": "error",
     "traceback": [
      "\u001b[0;31m---------------------------------------------------------------------------\u001b[0m",
      "\u001b[0;31mInvalidArgumentError\u001b[0m                      Traceback (most recent call last)",
      "\u001b[0;32m~/code/conversationai-models/model_evaluation/.pyenv/lib/python3.6/site-packages/tensorflow/python/client/session.py\u001b[0m in \u001b[0;36m_do_call\u001b[0;34m(self, fn, *args)\u001b[0m\n\u001b[1;32m   1333\u001b[0m     \u001b[0;32mtry\u001b[0m\u001b[0;34m:\u001b[0m\u001b[0;34m\u001b[0m\u001b[0m\n\u001b[0;32m-> 1334\u001b[0;31m       \u001b[0;32mreturn\u001b[0m \u001b[0mfn\u001b[0m\u001b[0;34m(\u001b[0m\u001b[0;34m*\u001b[0m\u001b[0margs\u001b[0m\u001b[0;34m)\u001b[0m\u001b[0;34m\u001b[0m\u001b[0m\n\u001b[0m\u001b[1;32m   1335\u001b[0m     \u001b[0;32mexcept\u001b[0m \u001b[0merrors\u001b[0m\u001b[0;34m.\u001b[0m\u001b[0mOpError\u001b[0m \u001b[0;32mas\u001b[0m \u001b[0me\u001b[0m\u001b[0;34m:\u001b[0m\u001b[0;34m\u001b[0m\u001b[0m\n",
      "\u001b[0;32m~/code/conversationai-models/model_evaluation/.pyenv/lib/python3.6/site-packages/tensorflow/python/client/session.py\u001b[0m in \u001b[0;36m_run_fn\u001b[0;34m(feed_dict, fetch_list, target_list, options, run_metadata)\u001b[0m\n\u001b[1;32m   1318\u001b[0m       return self._call_tf_sessionrun(\n\u001b[0;32m-> 1319\u001b[0;31m           options, feed_dict, fetch_list, target_list, run_metadata)\n\u001b[0m\u001b[1;32m   1320\u001b[0m \u001b[0;34m\u001b[0m\u001b[0m\n",
      "\u001b[0;32m~/code/conversationai-models/model_evaluation/.pyenv/lib/python3.6/site-packages/tensorflow/python/client/session.py\u001b[0m in \u001b[0;36m_call_tf_sessionrun\u001b[0;34m(self, options, feed_dict, fetch_list, target_list, run_metadata)\u001b[0m\n\u001b[1;32m   1406\u001b[0m         \u001b[0mself\u001b[0m\u001b[0;34m.\u001b[0m\u001b[0m_session\u001b[0m\u001b[0;34m,\u001b[0m \u001b[0moptions\u001b[0m\u001b[0;34m,\u001b[0m \u001b[0mfeed_dict\u001b[0m\u001b[0;34m,\u001b[0m \u001b[0mfetch_list\u001b[0m\u001b[0;34m,\u001b[0m \u001b[0mtarget_list\u001b[0m\u001b[0;34m,\u001b[0m\u001b[0;34m\u001b[0m\u001b[0m\n\u001b[0;32m-> 1407\u001b[0;31m         run_metadata)\n\u001b[0m\u001b[1;32m   1408\u001b[0m \u001b[0;34m\u001b[0m\u001b[0m\n",
      "\u001b[0;31mInvalidArgumentError\u001b[0m: Feature: removed (data type: int64) is required but could not be found.\n\t [[{{node ParseSingleExample_81/ParseSingleExample}} = ParseSingleExample[Tdense=[DT_STRING, DT_INT64], dense_keys=[\"comment_text\", \"removed\"], dense_shapes=[[], []], num_sparse=0, sparse_keys=[], sparse_types=[], _device=\"/job:localhost/replica:0/task:0/device:CPU:0\"](ReaderReadV2_81:1, ParseSingleExample_81/Const, ParseSingleExample_81/Const_1)]]",
      "\nDuring handling of the above exception, another exception occurred:\n",
      "\u001b[0;31mInvalidArgumentError\u001b[0m                      Traceback (most recent call last)",
      "\u001b[0;32m<ipython-input-244-c41f43d061dc>\u001b[0m in \u001b[0;36m<module>\u001b[0;34m\u001b[0m\n\u001b[1;32m      3\u001b[0m \u001b[0;34m\u001b[0m\u001b[0m\n\u001b[1;32m      4\u001b[0m \u001b[0mtest_dataset\u001b[0m \u001b[0;34m=\u001b[0m \u001b[0mDataset\u001b[0m\u001b[0;34m(\u001b[0m\u001b[0mtest_input_fn\u001b[0m\u001b[0;34m,\u001b[0m \u001b[0mOUTPUT_DIR\u001b[0m\u001b[0;34m)\u001b[0m\u001b[0;34m\u001b[0m\u001b[0m\n\u001b[0;32m----> 5\u001b[0;31m \u001b[0mtest_dataset\u001b[0m\u001b[0;34m.\u001b[0m\u001b[0mload_data\u001b[0m\u001b[0;34m(\u001b[0m\u001b[0;36m100000000\u001b[0m\u001b[0;34m)\u001b[0m\u001b[0;34m\u001b[0m\u001b[0m\n\u001b[0m",
      "\u001b[0;32m~/code/conversationai-models/model_evaluation/utils_export/dataset.py\u001b[0m in \u001b[0;36mload_data\u001b[0;34m(self, max_n_examples, **kwargs)\u001b[0m\n\u001b[1;32m    167\u001b[0m \u001b[0;34m\u001b[0m\u001b[0m\n\u001b[1;32m    168\u001b[0m   \u001b[0;32mdef\u001b[0m \u001b[0mload_data\u001b[0m\u001b[0;34m(\u001b[0m\u001b[0mself\u001b[0m\u001b[0;34m,\u001b[0m \u001b[0mmax_n_examples\u001b[0m\u001b[0;34m,\u001b[0m \u001b[0;34m**\u001b[0m\u001b[0mkwargs\u001b[0m\u001b[0;34m)\u001b[0m\u001b[0;34m:\u001b[0m\u001b[0;34m\u001b[0m\u001b[0m\n\u001b[0;32m--> 169\u001b[0;31m     \u001b[0mself\u001b[0m\u001b[0;34m.\u001b[0m\u001b[0mdata\u001b[0m \u001b[0;34m=\u001b[0m \u001b[0mself\u001b[0m\u001b[0;34m.\u001b[0m\u001b[0m_input_fn\u001b[0m\u001b[0;34m(\u001b[0m\u001b[0mmax_n_examples\u001b[0m\u001b[0;34m=\u001b[0m\u001b[0mmax_n_examples\u001b[0m\u001b[0;34m,\u001b[0m \u001b[0;34m**\u001b[0m\u001b[0mkwargs\u001b[0m\u001b[0;34m)\u001b[0m\u001b[0;34m\u001b[0m\u001b[0m\n\u001b[0m\u001b[1;32m    170\u001b[0m \u001b[0;34m\u001b[0m\u001b[0m\n\u001b[1;32m    171\u001b[0m   \u001b[0;32mdef\u001b[0m \u001b[0mget_path_input_tf\u001b[0m\u001b[0;34m(\u001b[0m\u001b[0mself\u001b[0m\u001b[0;34m)\u001b[0m\u001b[0;34m:\u001b[0m\u001b[0;34m\u001b[0m\u001b[0m\n",
      "\u001b[0;32m<ipython-input-208-1b46ec286e6e>\u001b[0m in \u001b[0;36mtest_input_fn\u001b[0;34m(max_n_examples, random_filter_keep_rate)\u001b[0m\n\u001b[1;32m     42\u001b[0m             \u001b[0mdataset_path\u001b[0m\u001b[0;34m,\u001b[0m\u001b[0;34m\u001b[0m\u001b[0m\n\u001b[1;32m     43\u001b[0m             \u001b[0mmax_n_examples\u001b[0m\u001b[0;34m,\u001b[0m\u001b[0;34m\u001b[0m\u001b[0m\n\u001b[0;32m---> 44\u001b[0;31m             random_filter_keep_rate)\n\u001b[0m\u001b[1;32m     45\u001b[0m         \u001b[0;32mif\u001b[0m \u001b[0;32mnot\u001b[0m \u001b[0mtokenizer_fn\u001b[0m\u001b[0;34m:\u001b[0m\u001b[0;34m\u001b[0m\u001b[0m\n\u001b[1;32m     46\u001b[0m             \u001b[0mtok\u001b[0m \u001b[0;34m=\u001b[0m \u001b[0;32mlambda\u001b[0m \u001b[0mx\u001b[0m\u001b[0;34m:\u001b[0m \u001b[0;34m[\u001b[0m\u001b[0mx\u001b[0m\u001b[0;34m]\u001b[0m\u001b[0;34m\u001b[0m\u001b[0m\n",
      "\u001b[0;32m~/code/conversationai-models/model_evaluation/utils_export/utils_tfrecords.py\u001b[0m in \u001b[0;36mdecode_tf_records_to_pandas\u001b[0;34m(decoding_features_spec, tf_records_path, max_n_examples, random_filter_keep_rate, filter_fn)\u001b[0m\n\u001b[1;32m    176\u001b[0m \u001b[0;34m\u001b[0m\u001b[0m\n\u001b[1;32m    177\u001b[0m     \u001b[0;32mtry\u001b[0m\u001b[0;34m:\u001b[0m\u001b[0;34m\u001b[0m\u001b[0m\n\u001b[0;32m--> 178\u001b[0;31m       \u001b[0mnew_line\u001b[0m \u001b[0;34m=\u001b[0m \u001b[0msess\u001b[0m\u001b[0;34m.\u001b[0m\u001b[0mrun\u001b[0m\u001b[0;34m(\u001b[0m\u001b[0mread_data\u001b[0m\u001b[0;34m)\u001b[0m\u001b[0;34m\u001b[0m\u001b[0m\n\u001b[0m\u001b[1;32m    179\u001b[0m     \u001b[0;32mexcept\u001b[0m \u001b[0mtf\u001b[0m\u001b[0;34m.\u001b[0m\u001b[0merrors\u001b[0m\u001b[0;34m.\u001b[0m\u001b[0mOutOfRangeError\u001b[0m\u001b[0;34m:\u001b[0m\u001b[0;34m\u001b[0m\u001b[0m\n\u001b[1;32m    180\u001b[0m       \u001b[0mlogging\u001b[0m\u001b[0;34m.\u001b[0m\u001b[0minfo\u001b[0m\u001b[0;34m(\u001b[0m\u001b[0;34m'End of file.'\u001b[0m\u001b[0;34m)\u001b[0m\u001b[0;34m\u001b[0m\u001b[0m\n",
      "\u001b[0;32m~/code/conversationai-models/model_evaluation/.pyenv/lib/python3.6/site-packages/tensorflow/python/client/session.py\u001b[0m in \u001b[0;36mrun\u001b[0;34m(self, fetches, feed_dict, options, run_metadata)\u001b[0m\n\u001b[1;32m    927\u001b[0m     \u001b[0;32mtry\u001b[0m\u001b[0;34m:\u001b[0m\u001b[0;34m\u001b[0m\u001b[0m\n\u001b[1;32m    928\u001b[0m       result = self._run(None, fetches, feed_dict, options_ptr,\n\u001b[0;32m--> 929\u001b[0;31m                          run_metadata_ptr)\n\u001b[0m\u001b[1;32m    930\u001b[0m       \u001b[0;32mif\u001b[0m \u001b[0mrun_metadata\u001b[0m\u001b[0;34m:\u001b[0m\u001b[0;34m\u001b[0m\u001b[0m\n\u001b[1;32m    931\u001b[0m         \u001b[0mproto_data\u001b[0m \u001b[0;34m=\u001b[0m \u001b[0mtf_session\u001b[0m\u001b[0;34m.\u001b[0m\u001b[0mTF_GetBuffer\u001b[0m\u001b[0;34m(\u001b[0m\u001b[0mrun_metadata_ptr\u001b[0m\u001b[0;34m)\u001b[0m\u001b[0;34m\u001b[0m\u001b[0m\n",
      "\u001b[0;32m~/code/conversationai-models/model_evaluation/.pyenv/lib/python3.6/site-packages/tensorflow/python/client/session.py\u001b[0m in \u001b[0;36m_run\u001b[0;34m(self, handle, fetches, feed_dict, options, run_metadata)\u001b[0m\n\u001b[1;32m   1150\u001b[0m     \u001b[0;32mif\u001b[0m \u001b[0mfinal_fetches\u001b[0m \u001b[0;32mor\u001b[0m \u001b[0mfinal_targets\u001b[0m \u001b[0;32mor\u001b[0m \u001b[0;34m(\u001b[0m\u001b[0mhandle\u001b[0m \u001b[0;32mand\u001b[0m \u001b[0mfeed_dict_tensor\u001b[0m\u001b[0;34m)\u001b[0m\u001b[0;34m:\u001b[0m\u001b[0;34m\u001b[0m\u001b[0m\n\u001b[1;32m   1151\u001b[0m       results = self._do_run(handle, final_targets, final_fetches,\n\u001b[0;32m-> 1152\u001b[0;31m                              feed_dict_tensor, options, run_metadata)\n\u001b[0m\u001b[1;32m   1153\u001b[0m     \u001b[0;32melse\u001b[0m\u001b[0;34m:\u001b[0m\u001b[0;34m\u001b[0m\u001b[0m\n\u001b[1;32m   1154\u001b[0m       \u001b[0mresults\u001b[0m \u001b[0;34m=\u001b[0m \u001b[0;34m[\u001b[0m\u001b[0;34m]\u001b[0m\u001b[0;34m\u001b[0m\u001b[0m\n",
      "\u001b[0;32m~/code/conversationai-models/model_evaluation/.pyenv/lib/python3.6/site-packages/tensorflow/python/client/session.py\u001b[0m in \u001b[0;36m_do_run\u001b[0;34m(self, handle, target_list, fetch_list, feed_dict, options, run_metadata)\u001b[0m\n\u001b[1;32m   1326\u001b[0m     \u001b[0;32mif\u001b[0m \u001b[0mhandle\u001b[0m \u001b[0;32mis\u001b[0m \u001b[0;32mNone\u001b[0m\u001b[0;34m:\u001b[0m\u001b[0;34m\u001b[0m\u001b[0m\n\u001b[1;32m   1327\u001b[0m       return self._do_call(_run_fn, feeds, fetches, targets, options,\n\u001b[0;32m-> 1328\u001b[0;31m                            run_metadata)\n\u001b[0m\u001b[1;32m   1329\u001b[0m     \u001b[0;32melse\u001b[0m\u001b[0;34m:\u001b[0m\u001b[0;34m\u001b[0m\u001b[0m\n\u001b[1;32m   1330\u001b[0m       \u001b[0;32mreturn\u001b[0m \u001b[0mself\u001b[0m\u001b[0;34m.\u001b[0m\u001b[0m_do_call\u001b[0m\u001b[0;34m(\u001b[0m\u001b[0m_prun_fn\u001b[0m\u001b[0;34m,\u001b[0m \u001b[0mhandle\u001b[0m\u001b[0;34m,\u001b[0m \u001b[0mfeeds\u001b[0m\u001b[0;34m,\u001b[0m \u001b[0mfetches\u001b[0m\u001b[0;34m)\u001b[0m\u001b[0;34m\u001b[0m\u001b[0m\n",
      "\u001b[0;32m~/code/conversationai-models/model_evaluation/.pyenv/lib/python3.6/site-packages/tensorflow/python/client/session.py\u001b[0m in \u001b[0;36m_do_call\u001b[0;34m(self, fn, *args)\u001b[0m\n\u001b[1;32m   1346\u001b[0m           \u001b[0;32mpass\u001b[0m\u001b[0;34m\u001b[0m\u001b[0m\n\u001b[1;32m   1347\u001b[0m       \u001b[0mmessage\u001b[0m \u001b[0;34m=\u001b[0m \u001b[0merror_interpolation\u001b[0m\u001b[0;34m.\u001b[0m\u001b[0minterpolate\u001b[0m\u001b[0;34m(\u001b[0m\u001b[0mmessage\u001b[0m\u001b[0;34m,\u001b[0m \u001b[0mself\u001b[0m\u001b[0;34m.\u001b[0m\u001b[0m_graph\u001b[0m\u001b[0;34m)\u001b[0m\u001b[0;34m\u001b[0m\u001b[0m\n\u001b[0;32m-> 1348\u001b[0;31m       \u001b[0;32mraise\u001b[0m \u001b[0mtype\u001b[0m\u001b[0;34m(\u001b[0m\u001b[0me\u001b[0m\u001b[0;34m)\u001b[0m\u001b[0;34m(\u001b[0m\u001b[0mnode_def\u001b[0m\u001b[0;34m,\u001b[0m \u001b[0mop\u001b[0m\u001b[0;34m,\u001b[0m \u001b[0mmessage\u001b[0m\u001b[0;34m)\u001b[0m\u001b[0;34m\u001b[0m\u001b[0m\n\u001b[0m\u001b[1;32m   1349\u001b[0m \u001b[0;34m\u001b[0m\u001b[0m\n\u001b[1;32m   1350\u001b[0m   \u001b[0;32mdef\u001b[0m \u001b[0m_extend_graph\u001b[0m\u001b[0;34m(\u001b[0m\u001b[0mself\u001b[0m\u001b[0;34m)\u001b[0m\u001b[0;34m:\u001b[0m\u001b[0;34m\u001b[0m\u001b[0m\n",
      "\u001b[0;31mInvalidArgumentError\u001b[0m: Feature: removed (data type: int64) is required but could not be found.\n\t [[node ParseSingleExample_81/ParseSingleExample (defined at /usr/local/google/home/msushkov/code/conversationai-models/model_evaluation/utils_export/utils_tfrecords.py:151)  = ParseSingleExample[Tdense=[DT_STRING, DT_INT64], dense_keys=[\"comment_text\", \"removed\"], dense_shapes=[[], []], num_sparse=0, sparse_keys=[], sparse_types=[], _device=\"/job:localhost/replica:0/task:0/device:CPU:0\"](ReaderReadV2_81:1, ParseSingleExample_81/Const, ParseSingleExample_81/Const_1)]]\n\nCaused by op 'ParseSingleExample_81/ParseSingleExample', defined at:\n  File \"/usr/lib/python3.6/runpy.py\", line 193, in _run_module_as_main\n    \"__main__\", mod_spec)\n  File \"/usr/lib/python3.6/runpy.py\", line 85, in _run_code\n    exec(code, run_globals)\n  File \"/usr/local/google/home/msushkov/code/conversationai-models/model_evaluation/.pyenv/lib/python3.6/site-packages/ipykernel_launcher.py\", line 16, in <module>\n    app.launch_new_instance()\n  File \"/usr/local/google/home/msushkov/code/conversationai-models/model_evaluation/.pyenv/lib/python3.6/site-packages/traitlets/config/application.py\", line 658, in launch_instance\n    app.start()\n  File \"/usr/local/google/home/msushkov/code/conversationai-models/model_evaluation/.pyenv/lib/python3.6/site-packages/ipykernel/kernelapp.py\", line 505, in start\n    self.io_loop.start()\n  File \"/usr/local/google/home/msushkov/code/conversationai-models/model_evaluation/.pyenv/lib/python3.6/site-packages/tornado/platform/asyncio.py\", line 148, in start\n    self.asyncio_loop.run_forever()\n  File \"/usr/lib/python3.6/asyncio/base_events.py\", line 422, in run_forever\n    self._run_once()\n  File \"/usr/lib/python3.6/asyncio/base_events.py\", line 1432, in _run_once\n    handle._run()\n  File \"/usr/lib/python3.6/asyncio/events.py\", line 145, in _run\n    self._callback(*self._args)\n  File \"/usr/local/google/home/msushkov/code/conversationai-models/model_evaluation/.pyenv/lib/python3.6/site-packages/tornado/ioloop.py\", line 690, in <lambda>\n    lambda f: self._run_callback(functools.partial(callback, future))\n  File \"/usr/local/google/home/msushkov/code/conversationai-models/model_evaluation/.pyenv/lib/python3.6/site-packages/tornado/ioloop.py\", line 743, in _run_callback\n    ret = callback()\n  File \"/usr/local/google/home/msushkov/code/conversationai-models/model_evaluation/.pyenv/lib/python3.6/site-packages/tornado/gen.py\", line 781, in inner\n    self.run()\n  File \"/usr/local/google/home/msushkov/code/conversationai-models/model_evaluation/.pyenv/lib/python3.6/site-packages/tornado/gen.py\", line 742, in run\n    yielded = self.gen.send(value)\n  File \"/usr/local/google/home/msushkov/code/conversationai-models/model_evaluation/.pyenv/lib/python3.6/site-packages/ipykernel/kernelbase.py\", line 357, in process_one\n    yield gen.maybe_future(dispatch(*args))\n  File \"/usr/local/google/home/msushkov/code/conversationai-models/model_evaluation/.pyenv/lib/python3.6/site-packages/tornado/gen.py\", line 209, in wrapper\n    yielded = next(result)\n  File \"/usr/local/google/home/msushkov/code/conversationai-models/model_evaluation/.pyenv/lib/python3.6/site-packages/ipykernel/kernelbase.py\", line 267, in dispatch_shell\n    yield gen.maybe_future(handler(stream, idents, msg))\n  File \"/usr/local/google/home/msushkov/code/conversationai-models/model_evaluation/.pyenv/lib/python3.6/site-packages/tornado/gen.py\", line 209, in wrapper\n    yielded = next(result)\n  File \"/usr/local/google/home/msushkov/code/conversationai-models/model_evaluation/.pyenv/lib/python3.6/site-packages/ipykernel/kernelbase.py\", line 534, in execute_request\n    user_expressions, allow_stdin,\n  File \"/usr/local/google/home/msushkov/code/conversationai-models/model_evaluation/.pyenv/lib/python3.6/site-packages/tornado/gen.py\", line 209, in wrapper\n    yielded = next(result)\n  File \"/usr/local/google/home/msushkov/code/conversationai-models/model_evaluation/.pyenv/lib/python3.6/site-packages/ipykernel/ipkernel.py\", line 294, in do_execute\n    res = shell.run_cell(code, store_history=store_history, silent=silent)\n  File \"/usr/local/google/home/msushkov/code/conversationai-models/model_evaluation/.pyenv/lib/python3.6/site-packages/ipykernel/zmqshell.py\", line 536, in run_cell\n    return super(ZMQInteractiveShell, self).run_cell(*args, **kwargs)\n  File \"/usr/local/google/home/msushkov/code/conversationai-models/model_evaluation/.pyenv/lib/python3.6/site-packages/IPython/core/interactiveshell.py\", line 2848, in run_cell\n    raw_cell, store_history, silent, shell_futures)\n  File \"/usr/local/google/home/msushkov/code/conversationai-models/model_evaluation/.pyenv/lib/python3.6/site-packages/IPython/core/interactiveshell.py\", line 2874, in _run_cell\n    return runner(coro)\n  File \"/usr/local/google/home/msushkov/code/conversationai-models/model_evaluation/.pyenv/lib/python3.6/site-packages/IPython/core/async_helpers.py\", line 67, in _pseudo_sync_runner\n    coro.send(None)\n  File \"/usr/local/google/home/msushkov/code/conversationai-models/model_evaluation/.pyenv/lib/python3.6/site-packages/IPython/core/interactiveshell.py\", line 3049, in run_cell_async\n    interactivity=interactivity, compiler=compiler, result=result)\n  File \"/usr/local/google/home/msushkov/code/conversationai-models/model_evaluation/.pyenv/lib/python3.6/site-packages/IPython/core/interactiveshell.py\", line 3220, in run_ast_nodes\n    if (yield from self.run_code(code, result)):\n  File \"/usr/local/google/home/msushkov/code/conversationai-models/model_evaluation/.pyenv/lib/python3.6/site-packages/IPython/core/interactiveshell.py\", line 3296, in run_code\n    exec(code_obj, self.user_global_ns, self.user_ns)\n  File \"<ipython-input-244-c41f43d061dc>\", line 5, in <module>\n    test_dataset.load_data(100000000)\n  File \"/usr/local/google/home/msushkov/code/conversationai-models/model_evaluation/utils_export/dataset.py\", line 169, in load_data\n    self.data = self._input_fn(max_n_examples=max_n_examples, **kwargs)\n  File \"<ipython-input-208-1b46ec286e6e>\", line 44, in test_input_fn\n    random_filter_keep_rate)\n  File \"/usr/local/google/home/msushkov/code/conversationai-models/model_evaluation/utils_export/utils_tfrecords.py\", line 151, in decode_tf_records_to_pandas\n    serialized=serialized_example, features=decoding_features_spec)\n  File \"/usr/local/google/home/msushkov/code/conversationai-models/model_evaluation/.pyenv/lib/python3.6/site-packages/tensorflow/python/ops/parsing_ops.py\", line 801, in parse_single_example\n    return parse_single_example_v2(serialized, features, name)\n  File \"/usr/local/google/home/msushkov/code/conversationai-models/model_evaluation/.pyenv/lib/python3.6/site-packages/tensorflow/python/ops/parsing_ops.py\", line 1692, in parse_single_example_v2\n    dense_defaults, dense_shapes, name)\n  File \"/usr/local/google/home/msushkov/code/conversationai-models/model_evaluation/.pyenv/lib/python3.6/site-packages/tensorflow/python/ops/parsing_ops.py\", line 1809, in _parse_single_example_v2_raw\n    name=name)\n  File \"/usr/local/google/home/msushkov/code/conversationai-models/model_evaluation/.pyenv/lib/python3.6/site-packages/tensorflow/python/ops/gen_parsing_ops.py\", line 1009, in parse_single_example\n    sparse_types=sparse_types, dense_shapes=dense_shapes, name=name)\n  File \"/usr/local/google/home/msushkov/code/conversationai-models/model_evaluation/.pyenv/lib/python3.6/site-packages/tensorflow/python/framework/op_def_library.py\", line 787, in _apply_op_helper\n    op_def=op_def)\n  File \"/usr/local/google/home/msushkov/code/conversationai-models/model_evaluation/.pyenv/lib/python3.6/site-packages/tensorflow/python/util/deprecation.py\", line 488, in new_func\n    return func(*args, **kwargs)\n  File \"/usr/local/google/home/msushkov/code/conversationai-models/model_evaluation/.pyenv/lib/python3.6/site-packages/tensorflow/python/framework/ops.py\", line 3274, in create_op\n    op_def=op_def)\n  File \"/usr/local/google/home/msushkov/code/conversationai-models/model_evaluation/.pyenv/lib/python3.6/site-packages/tensorflow/python/framework/ops.py\", line 1770, in __init__\n    self._traceback = tf_stack.extract_stack()\n\nInvalidArgumentError (see above for traceback): Feature: removed (data type: int64) is required but could not be found.\n\t [[node ParseSingleExample_81/ParseSingleExample (defined at /usr/local/google/home/msushkov/code/conversationai-models/model_evaluation/utils_export/utils_tfrecords.py:151)  = ParseSingleExample[Tdense=[DT_STRING, DT_INT64], dense_keys=[\"comment_text\", \"removed\"], dense_shapes=[[], []], num_sparse=0, sparse_keys=[], sparse_types=[], _device=\"/job:localhost/replica:0/task:0/device:CPU:0\"](ReaderReadV2_81:1, ParseSingleExample_81/Const, ParseSingleExample_81/Const_1)]]\n"
     ]
    }
   ],
   "source": [
    "# Need to set seed before loading data to be able to reload same data in the future\n",
    "random.seed(2018)\n",
    "\n",
    "test_dataset = Dataset(test_input_fn, OUTPUT_DIR)\n",
    "test_dataset.load_data(100000000)"
   ]
  },
  {
   "cell_type": "code",
   "execution_count": null,
   "metadata": {},
   "outputs": [],
   "source": [
    "# Set recompute_predictions=False to save time if predictions are available.\n",
    "test_dataset.add_model_prediction_to_data(model, recompute_predictions=True)"
   ]
  },
  {
   "cell_type": "code",
   "execution_count": null,
   "metadata": {},
   "outputs": [],
   "source": [
    "many_communities_test_df = test_dataset.show_data()"
   ]
  },
  {
   "cell_type": "code",
   "execution_count": null,
   "metadata": {},
   "outputs": [],
   "source": [
    "print_results(many_communities_test_df, MODEL_NAMES)"
   ]
  },
  {
   "cell_type": "markdown",
   "metadata": {},
   "source": [
    "### TF-Hub Model"
   ]
  },
  {
   "cell_type": "code",
   "execution_count": null,
   "metadata": {},
   "outputs": [],
   "source": [
    "MODEL_TEXT_FEATURE = 'text'\n",
    "MODEL_NAMES = [\n",
    "    'tf_hub_classifier_many_communities:v20190219_185602_316000_1553563221',\n",
    "]\n",
    "\n",
    "model_input_spec = {\n",
    "    MODEL_TEXT_FEATURE: utils_tfrecords.EncodingFeatureSpec.LIST_STRING\n",
    "}\n",
    "\n",
    "model = Model(\n",
    "    feature_keys_spec=model_input_spec,\n",
    "    prediction_keys=LABEL_NAME_PREDICTION_MODEL,\n",
    "    example_key=SENTENCE_KEY,\n",
    "    model_names=MODEL_NAMES,\n",
    "    project_name=PROJECT_NAME)\n",
    "\n",
    "test_input_fn = make_test_input_fn(\n",
    "    DATASET, MODEL_TEXT_FEATURE, DATASET_TEXT_FEATURE,\n",
    "    DATA_LABEL, None, label_data_type=tf.int64)"
   ]
  },
  {
   "cell_type": "code",
   "execution_count": null,
   "metadata": {},
   "outputs": [],
   "source": [
    "# Need to set seed before loading data to be able to reload same data in the future\n",
    "random.seed(2018)\n",
    "\n",
    "test_dataset = Dataset(test_input_fn, OUTPUT_DIR)\n",
    "test_dataset.load_data(10000000)"
   ]
  },
  {
   "cell_type": "code",
   "execution_count": null,
   "metadata": {},
   "outputs": [],
   "source": [
    "# Set recompute_predictions=False to save time if predictions are available.\n",
    "test_dataset.add_model_prediction_to_data(model, recompute_predictions=True)"
   ]
  },
  {
   "cell_type": "code",
   "execution_count": null,
   "metadata": {},
   "outputs": [],
   "source": [
    "many_communities_tfhub_test_df = test_dataset.show_data()"
   ]
  },
  {
   "cell_type": "code",
   "execution_count": null,
   "metadata": {},
   "outputs": [],
   "source": [
    "print_results(many_communities_tfhub_test_df, MODEL_NAMES)"
   ]
  }
 ],
 "metadata": {
  "kernelspec": {
   "display_name": "Python 2",
   "language": "python",
   "name": "python2"
  },
  "language_info": {
   "codemirror_mode": {
    "name": "ipython",
    "version": 3
   },
   "file_extension": ".py",
   "mimetype": "text/x-python",
   "name": "python",
   "nbconvert_exporter": "python",
   "pygments_lexer": "ipython3",
   "version": "3.6.5"
  }
 },
 "nbformat": 4,
 "nbformat_minor": 2
}
